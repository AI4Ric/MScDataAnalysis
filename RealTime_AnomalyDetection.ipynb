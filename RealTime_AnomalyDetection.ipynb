{
 "cells": [
  {
   "cell_type": "code",
   "execution_count": 2,
   "id": "5c7e7e42",
   "metadata": {
    "scrolled": true
   },
   "outputs": [
    {
     "data": {
      "text/html": [
       "\n",
       "        <div>\n",
       "            <p><b>SparkContext</b></p>\n",
       "\n",
       "            <p><a href=\"http://10.0.2.15:4040\">Spark UI</a></p>\n",
       "\n",
       "            <dl>\n",
       "              <dt>Version</dt>\n",
       "                <dd><code>v3.2.4</code></dd>\n",
       "              <dt>Master</dt>\n",
       "                <dd><code>local[*]</code></dd>\n",
       "              <dt>AppName</dt>\n",
       "                <dd><code>PySparkShell</code></dd>\n",
       "            </dl>\n",
       "        </div>\n",
       "        "
      ],
      "text/plain": [
       "<SparkContext master=local[*] appName=PySparkShell>"
      ]
     },
     "execution_count": 2,
     "metadata": {},
     "output_type": "execute_result"
    }
   ],
   "source": [
    "sc"
   ]
  },
  {
   "cell_type": "markdown",
   "id": "b4591136",
   "metadata": {},
   "source": [
    "## Importing Necessary Libraries"
   ]
  },
  {
   "cell_type": "code",
   "execution_count": 3,
   "id": "5fa3f898",
   "metadata": {
    "scrolled": true
   },
   "outputs": [
    {
     "name": "stderr",
     "output_type": "stream",
     "text": [
      "/usr/lib/python3/dist-packages/scipy/__init__.py:146: UserWarning: A NumPy version >=1.17.3 and <1.25.0 is required for this version of SciPy (detected version 1.26.0\n",
      "  warnings.warn(f\"A NumPy version >={np_minversion} and <{np_maxversion}\"\n"
     ]
    }
   ],
   "source": [
    "# Standard Libraries\n",
    "import time\n",
    "from queue import Queue\n",
    "from threading import Thread\n",
    "\n",
    "# Data Processing Libraries\n",
    "import numpy as np\n",
    "import pandas as pd\n",
    "\n",
    "# Visualization Libraries\n",
    "import matplotlib.pyplot as plt\n",
    "import seaborn as sns\n",
    "\n",
    "# Machine Learning and Utilities\n",
    "import tflite_runtime.interpreter as tflite\n",
    "from pyspark.sql import SparkSession\n",
    "from sklearn.metrics import confusion_matrix\n",
    "import warnings\n",
    "\n",
    "warnings.filterwarnings('ignore')"
   ]
  },
  {
   "cell_type": "markdown",
   "id": "b2bce5b0",
   "metadata": {},
   "source": [
    "## Initializing Spark Session"
   ]
  },
  {
   "cell_type": "code",
   "execution_count": 4,
   "id": "0b2d16d2",
   "metadata": {},
   "outputs": [],
   "source": [
    "spark = SparkSession.builder.appName(\"AnomalyDetection\").getOrCreate()"
   ]
  },
  {
   "cell_type": "markdown",
   "id": "84ee9167",
   "metadata": {},
   "source": [
    "## Loading the Data"
   ]
  },
  {
   "cell_type": "code",
   "execution_count": 5,
   "id": "0b1fa480",
   "metadata": {},
   "outputs": [
    {
     "name": "stderr",
     "output_type": "stream",
     "text": [
      "23/10/05 22:21:58 WARN package: Truncated the string representation of a plan since it was too large. This behavior can be adjusted by setting 'spark.sql.debug.maxToStringFields'.\n",
      "                                                                                \r"
     ]
    }
   ],
   "source": [
    "# Read the file for streaming as a Dataframe\n",
    "df = spark.read.csv(\"stream_data/test_50_records_v3.csv\", header=True, inferSchema=True)\n",
    "numpy_array = df.toPandas()"
   ]
  },
  {
   "cell_type": "markdown",
   "id": "b49272e1",
   "metadata": {},
   "source": [
    "## Loading TensorFlow Lite Model"
   ]
  },
  {
   "cell_type": "code",
   "execution_count": 6,
   "id": "6ddea03c",
   "metadata": {},
   "outputs": [
    {
     "name": "stderr",
     "output_type": "stream",
     "text": [
      "INFO: Created TensorFlow Lite XNNPACK delegate for CPU.\n"
     ]
    }
   ],
   "source": [
    "# Load the .tflite model\n",
    "interpreter = tflite.Interpreter(model_path=\"new_best_model.tflite\")\n",
    "interpreter.allocate_tensors()\n",
    "\n",
    "input_details = interpreter.get_input_details()\n",
    "output_details = interpreter.get_output_details()"
   ]
  },
  {
   "cell_type": "markdown",
   "id": "722daa78",
   "metadata": {},
   "source": [
    "## Stream Data and Predictive Model Handlers"
   ]
  },
  {
   "cell_type": "code",
   "execution_count": 7,
   "id": "f6bb954b",
   "metadata": {},
   "outputs": [],
   "source": [
    "# Function simulating the incoming stream of data\n",
    "def stream_data(df, q, sleep_time=0.1):\n",
    "    \"\"\"Simulate streaming by sending samples to a queue with delay.\"\"\"\n",
    "    for index, row in df.iterrows():\n",
    "        q.put(row)\n",
    "        time.sleep(sleep_time)\n",
    "\n",
    "# Function to handle data and make predictions\n",
    "def handle_data(q, y_true_list, y_pred_list):\n",
    "    \"\"\"Handle incoming data, make predictions and update true and predicted labels list.\"\"\"\n",
    "    while True:\n",
    "        data_row = q.get()\n",
    "        if data_row is None:  # A sentinel value to end the loop\n",
    "            break\n",
    "\n",
    "        # Extract the features and true label from the row\n",
    "        sample = data_row.drop(labels=[\"attack\"]).values\n",
    "        y_true = data_row[\"attack\"]\n",
    "\n",
    "        # Predict using the model\n",
    "        sample = np.expand_dims(sample, axis=0).astype(input_details[0]['dtype'])\n",
    "        interpreter.set_tensor(input_details[0]['index'], sample)\n",
    "        interpreter.invoke()\n",
    "        output_data = interpreter.get_tensor(output_details[0]['index'])[0]\n",
    "        \n",
    "        predicted_label = 1 if output_data[0] >= 0.5 else 0\n",
    "        \n",
    "        y_true_list.append(y_true)\n",
    "        y_pred_list.append(predicted_label)\n",
    "        q.task_done()"
   ]
  },
  {
   "cell_type": "markdown",
   "id": "d25d546b",
   "metadata": {},
   "source": [
    "## Simulation of Streaming and Prediction"
   ]
  },
  {
   "cell_type": "code",
   "execution_count": 8,
   "id": "9ac28926",
   "metadata": {},
   "outputs": [
    {
     "name": "stdout",
     "output_type": "stream",
     "text": [
      "Accuracy: 100.00%\n"
     ]
    }
   ],
   "source": [
    "# Lists to store the true and predicted labels\n",
    "y_true_list = []\n",
    "y_pred_list = []\n",
    "\n",
    "# Queue to hold incoming samples\n",
    "q = Queue(maxsize=100)\n",
    "\n",
    "# Start the threads  \n",
    "producer = Thread(target=stream_data, args=(numpy_array, q))\n",
    "consumer = Thread(target=handle_data, args=(q, y_true_list, y_pred_list))\n",
    "\n",
    "producer.start()\n",
    "consumer.start()\n",
    "\n",
    "# Join the threads\n",
    "producer.join()\n",
    "q.put(None)  # This will signal the consumer to finish up\n",
    "consumer.join()\n",
    "\n",
    "# Calculate the accuracy\n",
    "accuracy = np.mean(np.array(y_pred_list) == np.array(y_true_list))\n",
    "print(f\"Accuracy: {accuracy * 100:.2f}%\")"
   ]
  },
  {
   "cell_type": "markdown",
   "id": "e1db622c",
   "metadata": {},
   "source": [
    "## Visualization: Confusion Matrix"
   ]
  },
  {
   "cell_type": "code",
   "execution_count": 9,
   "id": "1b0c6025",
   "metadata": {},
   "outputs": [
    {
     "data": {
      "image/png": "[encoded data removed]",
      "text/plain": [
       "<Figure size 576x432 with 2 Axes>"
      ]
     },
     "metadata": {
      "needs_background": "light"
     },
     "output_type": "display_data"
    }
   ],
   "source": [
    "# Compute the confusion matrix\n",
    "cm = confusion_matrix(y_true_list, y_pred_list)\n",
    "\n",
    "# Plotting the confusion matrix using Seaborn's heatmap\n",
    "plt.figure(figsize=(8,6))\n",
    "sns.heatmap(cm, annot=True, fmt='g', cmap='Blues', \n",
    "            xticklabels=['Predicted 0', 'Predicted 1'], \n",
    "            yticklabels=['Actual 0', 'Actual 1'])\n",
    "plt.ylabel('True label')\n",
    "plt.xlabel('Predicted label')\n",
    "plt.title('Confusion Matrix')\n",
    "plt.show()"
   ]
  },
  {
   "cell_type": "code",
   "execution_count": null,
   "id": "d918dd1f",
   "metadata": {},
   "outputs": [],
   "source": []
  }
 ],
 "metadata": {
  "kernelspec": {
   "display_name": "Python 3 (ipykernel)",
   "language": "python",
   "name": "python3"
  },
  "language_info": {
   "codemirror_mode": {
    "name": "ipython",
    "version": 3
   },
   "file_extension": ".py",
   "mimetype": "text/x-python",
   "name": "python",
   "nbconvert_exporter": "python",
   "pygments_lexer": "ipython3",
   "version": "3.10.12"
  }
 },
 "nbformat": 4,
 "nbformat_minor": 5
}
