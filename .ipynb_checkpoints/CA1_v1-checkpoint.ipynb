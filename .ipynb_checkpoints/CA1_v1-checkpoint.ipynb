{
 "cells": [
  {
   "cell_type": "code",
   "execution_count": 1,
   "id": "45d0be49",
   "metadata": {},
   "outputs": [],
   "source": [
    "# importing required libraries\n",
    "import numpy as np\n",
    "import pandas as pd\n",
    "import matplotlib.pyplot as plt\n",
    "import seaborn as sns\n",
    "import zipfile"
   ]
  },
  {
   "cell_type": "markdown",
   "id": "f7c505b6",
   "metadata": {},
   "source": [
    "# Dataset\n",
    "\n",
    "## NSL-KDD\n",
    "\n",
    "### The NSL-KDD dataset is an enhanced version of the widely acknowledged KDD'99 dataset\n",
    "\n",
    "Available at: https://archive.ics.uci.edu/dataset/130/kdd+cup+1999+data"
   ]
  },
  {
   "cell_type": "code",
   "execution_count": 2,
   "id": "d810ee42",
   "metadata": {},
   "outputs": [],
   "source": [
    "## Unzip the dataset archive \n",
    "zip_file_path = 'NSL-KDD.zip'\n",
    "with zipfile.ZipFile(zip_file_path, 'r') as zip_ref:\n",
    "    file_names = zip_ref.namelist()\n",
    "    #zip_ref.extractall('DataSetFiles/')"
   ]
  },
  {
   "cell_type": "code",
   "execution_count": 3,
   "id": "00851a69",
   "metadata": {},
   "outputs": [
    {
     "data": {
      "text/plain": [
       "['index.html',\n",
       " 'KDDTest1.jpg',\n",
       " 'KDDTest-21.arff',\n",
       " 'KDDTest-21.txt',\n",
       " 'KDDTest+.arff',\n",
       " 'KDDTest+.txt',\n",
       " 'KDDTrain1.jpg',\n",
       " 'KDDTrain+.arff',\n",
       " 'KDDTrain+.txt',\n",
       " 'KDDTrain+_20Percent.arff',\n",
       " 'KDDTrain+_20Percent.txt']"
      ]
     },
     "execution_count": 3,
     "metadata": {},
     "output_type": "execute_result"
    }
   ],
   "source": [
    "# Display the files names\n",
    "file_names"
   ]
  },
  {
   "cell_type": "code",
   "execution_count": 4,
   "id": "cc32756a",
   "metadata": {},
   "outputs": [],
   "source": [
    "# Load both train and test datasets\n",
    "df_train = pd.read_csv('DataSetFiles/KDDTrain+.txt', header=None)\n",
    "df_test = pd.read_csv('DataSetFiles/KDDTest+.txt', header=None)"
   ]
  },
  {
   "cell_type": "markdown",
   "id": "7e8d66da",
   "metadata": {},
   "source": [
    "# Dataset attributes\n",
    "\n",
    "In each record there are 41 types of features, ordered as following:\n",
    "\n",
    "'duration','protocol_type','service','flag','src_bytes','dst_bytes','land','wrong_fragment','urgent','hot','num_failed_logins','logged_in','num_compromised','root_shell','su_attempted'\n",
    ",'num_root','num_file_creations','num_shells','num_access_files','num_outbound_cmds','is_host_login','is_guest_login','count','srv_count','serror_rate','srv_serror_rate','rerror_rate','srv_rerror_rate','same_srv_rate','diff_srv_rate'\n",
    ",'srv_diff_host_rate','dst_host_count','dst_host_srv_count','dst_host_same_srv_rate','dst_host_diff_srv_rate','dst_host_same_src_port_rate','dst_host_srv_diff_host_rate','dst_host_serror_rate',\n",
    "'dst_host_srv_serror_rate','dst_host_rerror_rate','dst_host_srv_rerror_rate','attack','level'"
   ]
  },
  {
   "cell_type": "code",
   "execution_count": 5,
   "id": "e0155ee6",
   "metadata": {},
   "outputs": [],
   "source": [
    "# Column names\n",
    "columns = (['duration','protocol_type','service','flag','src_bytes','dst_bytes','land','wrong_fragment','urgent','hot','num_failed_logins','logged_in','num_compromised','root_shell','su_attempted'\n",
    ",'num_root','num_file_creations','num_shells','num_access_files','num_outbound_cmds','is_host_login','is_guest_login','count','srv_count','serror_rate','srv_serror_rate','rerror_rate','srv_rerror_rate','same_srv_rate','diff_srv_rate'\n",
    ",'srv_diff_host_rate','dst_host_count','dst_host_srv_count','dst_host_same_srv_rate','dst_host_diff_srv_rate','dst_host_same_src_port_rate','dst_host_srv_diff_host_rate','dst_host_serror_rate',\n",
    "'dst_host_srv_serror_rate','dst_host_rerror_rate','dst_host_srv_rerror_rate','attack','level'])"
   ]
  },
  {
   "cell_type": "code",
   "execution_count": 6,
   "id": "785e1064",
   "metadata": {},
   "outputs": [],
   "source": [
    "# Add column names to both test and train datasets\n",
    "df_train.columns = columns\n",
    "df_test.columns = columns"
   ]
  },
  {
   "cell_type": "code",
   "execution_count": 7,
   "id": "14df39ae",
   "metadata": {
    "scrolled": false
   },
   "outputs": [
    {
     "name": "stdout",
     "output_type": "stream",
     "text": [
      "<class 'pandas.core.frame.DataFrame'>\n",
      "RangeIndex: 125973 entries, 0 to 125972\n",
      "Data columns (total 43 columns):\n",
      " #   Column                       Non-Null Count   Dtype  \n",
      "---  ------                       --------------   -----  \n",
      " 0   duration                     125973 non-null  int64  \n",
      " 1   protocol_type                125973 non-null  object \n",
      " 2   service                      125973 non-null  object \n",
      " 3   flag                         125973 non-null  object \n",
      " 4   src_bytes                    125973 non-null  int64  \n",
      " 5   dst_bytes                    125973 non-null  int64  \n",
      " 6   land                         125973 non-null  int64  \n",
      " 7   wrong_fragment               125973 non-null  int64  \n",
      " 8   urgent                       125973 non-null  int64  \n",
      " 9   hot                          125973 non-null  int64  \n",
      " 10  num_failed_logins            125973 non-null  int64  \n",
      " 11  logged_in                    125973 non-null  int64  \n",
      " 12  num_compromised              125973 non-null  int64  \n",
      " 13  root_shell                   125973 non-null  int64  \n",
      " 14  su_attempted                 125973 non-null  int64  \n",
      " 15  num_root                     125973 non-null  int64  \n",
      " 16  num_file_creations           125973 non-null  int64  \n",
      " 17  num_shells                   125973 non-null  int64  \n",
      " 18  num_access_files             125973 non-null  int64  \n",
      " 19  num_outbound_cmds            125973 non-null  int64  \n",
      " 20  is_host_login                125973 non-null  int64  \n",
      " 21  is_guest_login               125973 non-null  int64  \n",
      " 22  count                        125973 non-null  int64  \n",
      " 23  srv_count                    125973 non-null  int64  \n",
      " 24  serror_rate                  125973 non-null  float64\n",
      " 25  srv_serror_rate              125973 non-null  float64\n",
      " 26  rerror_rate                  125973 non-null  float64\n",
      " 27  srv_rerror_rate              125973 non-null  float64\n",
      " 28  same_srv_rate                125973 non-null  float64\n",
      " 29  diff_srv_rate                125973 non-null  float64\n",
      " 30  srv_diff_host_rate           125973 non-null  float64\n",
      " 31  dst_host_count               125973 non-null  int64  \n",
      " 32  dst_host_srv_count           125973 non-null  int64  \n",
      " 33  dst_host_same_srv_rate       125973 non-null  float64\n",
      " 34  dst_host_diff_srv_rate       125973 non-null  float64\n",
      " 35  dst_host_same_src_port_rate  125973 non-null  float64\n",
      " 36  dst_host_srv_diff_host_rate  125973 non-null  float64\n",
      " 37  dst_host_serror_rate         125973 non-null  float64\n",
      " 38  dst_host_srv_serror_rate     125973 non-null  float64\n",
      " 39  dst_host_rerror_rate         125973 non-null  float64\n",
      " 40  dst_host_srv_rerror_rate     125973 non-null  float64\n",
      " 41  attack                       125973 non-null  object \n",
      " 42  level                        125973 non-null  int64  \n",
      "dtypes: float64(15), int64(24), object(4)\n",
      "memory usage: 41.3+ MB\n"
     ]
    }
   ],
   "source": [
    "df_train.info()"
   ]
  },
  {
   "cell_type": "markdown",
   "id": "160670a3",
   "metadata": {},
   "source": [
    "We can identify that there are 3 types of attribute value types. (Nominal, binary and numeric)"
   ]
  },
  {
   "cell_type": "code",
   "execution_count": 8,
   "id": "334480f0",
   "metadata": {},
   "outputs": [
    {
     "name": "stdout",
     "output_type": "stream",
     "text": [
      "['tcp' 'udp' 'icmp']\n",
      "['tcp' 'icmp' 'udp']\n"
     ]
    }
   ],
   "source": [
    "# Display unique values\n",
    "print(df_train['protocol_type'].unique())\n",
    "print(df_test['protocol_type'].unique())"
   ]
  },
  {
   "cell_type": "code",
   "execution_count": 9,
   "id": "f60c2ffa",
   "metadata": {},
   "outputs": [
    {
     "name": "stdout",
     "output_type": "stream",
     "text": [
      "['ftp_data' 'other' 'private' 'http' 'remote_job' 'name' 'netbios_ns'\n",
      " 'eco_i' 'mtp' 'telnet' 'finger' 'domain_u' 'supdup' 'uucp_path' 'Z39_50'\n",
      " 'smtp' 'csnet_ns' 'uucp' 'netbios_dgm' 'urp_i' 'auth' 'domain' 'ftp'\n",
      " 'bgp' 'ldap' 'ecr_i' 'gopher' 'vmnet' 'systat' 'http_443' 'efs' 'whois'\n",
      " 'imap4' 'iso_tsap' 'echo' 'klogin' 'link' 'sunrpc' 'login' 'kshell'\n",
      " 'sql_net' 'time' 'hostnames' 'exec' 'ntp_u' 'discard' 'nntp' 'courier'\n",
      " 'ctf' 'ssh' 'daytime' 'shell' 'netstat' 'pop_3' 'nnsp' 'IRC' 'pop_2'\n",
      " 'printer' 'tim_i' 'pm_dump' 'red_i' 'netbios_ssn' 'rje' 'X11' 'urh_i'\n",
      " 'http_8001' 'aol' 'http_2784' 'tftp_u' 'harvest']\n",
      "['private' 'ftp_data' 'eco_i' 'telnet' 'http' 'smtp' 'ftp' 'ldap' 'pop_3'\n",
      " 'courier' 'discard' 'ecr_i' 'imap4' 'domain_u' 'mtp' 'systat' 'iso_tsap'\n",
      " 'other' 'csnet_ns' 'finger' 'uucp' 'whois' 'netbios_ns' 'link' 'Z39_50'\n",
      " 'sunrpc' 'auth' 'netbios_dgm' 'uucp_path' 'vmnet' 'domain' 'name' 'pop_2'\n",
      " 'http_443' 'urp_i' 'login' 'gopher' 'exec' 'time' 'remote_job' 'ssh'\n",
      " 'kshell' 'sql_net' 'shell' 'hostnames' 'echo' 'daytime' 'pm_dump' 'IRC'\n",
      " 'netstat' 'ctf' 'nntp' 'netbios_ssn' 'tim_i' 'supdup' 'bgp' 'nnsp' 'rje'\n",
      " 'printer' 'efs' 'X11' 'ntp_u' 'klogin' 'tftp_u']\n"
     ]
    }
   ],
   "source": [
    "# Display unique values\n",
    "print(df_train['service'].unique())\n",
    "print(df_test['service'].unique())"
   ]
  },
  {
   "cell_type": "code",
   "execution_count": 10,
   "id": "cd2e7726",
   "metadata": {},
   "outputs": [
    {
     "name": "stdout",
     "output_type": "stream",
     "text": [
      "70\n",
      "64\n"
     ]
    }
   ],
   "source": [
    "# Display unique values\n",
    "print(df_train['service'].nunique())\n",
    "print(df_test['service'].nunique())"
   ]
  },
  {
   "cell_type": "code",
   "execution_count": 11,
   "id": "ef8cdbf9",
   "metadata": {},
   "outputs": [
    {
     "name": "stdout",
     "output_type": "stream",
     "text": [
      "['SF' 'S0' 'REJ' 'RSTR' 'SH' 'RSTO' 'S1' 'RSTOS0' 'S3' 'S2' 'OTH']\n",
      "['REJ' 'SF' 'RSTO' 'S0' 'RSTR' 'SH' 'S3' 'S2' 'S1' 'RSTOS0' 'OTH']\n"
     ]
    }
   ],
   "source": [
    "# Display unique values\n",
    "print(df_train['flag'].unique())\n",
    "print(df_test['flag'].unique())"
   ]
  },
  {
   "cell_type": "code",
   "execution_count": 12,
   "id": "3e1a861d",
   "metadata": {},
   "outputs": [
    {
     "name": "stdout",
     "output_type": "stream",
     "text": [
      "['normal' 'neptune' 'warezclient' 'ipsweep' 'portsweep' 'teardrop' 'nmap'\n",
      " 'satan' 'smurf' 'pod' 'back' 'guess_passwd' 'ftp_write' 'multihop'\n",
      " 'rootkit' 'buffer_overflow' 'imap' 'warezmaster' 'phf' 'land'\n",
      " 'loadmodule' 'spy' 'perl']\n",
      "['neptune' 'normal' 'saint' 'mscan' 'guess_passwd' 'smurf' 'apache2'\n",
      " 'satan' 'buffer_overflow' 'back' 'warezmaster' 'snmpgetattack'\n",
      " 'processtable' 'pod' 'httptunnel' 'nmap' 'ps' 'snmpguess' 'ipsweep'\n",
      " 'mailbomb' 'portsweep' 'multihop' 'named' 'sendmail' 'loadmodule' 'xterm'\n",
      " 'worm' 'teardrop' 'rootkit' 'xlock' 'perl' 'land' 'xsnoop' 'sqlattack'\n",
      " 'ftp_write' 'imap' 'udpstorm' 'phf']\n"
     ]
    }
   ],
   "source": [
    "# Display unique values\n",
    "print(df_train['attack'].unique())\n",
    "print(df_test['attack'].unique())"
   ]
  },
  {
   "cell_type": "code",
   "execution_count": 13,
   "id": "0a576702",
   "metadata": {},
   "outputs": [
    {
     "data": {
      "text/html": [
       "<div>\n",
       "<style scoped>\n",
       "    .dataframe tbody tr th:only-of-type {\n",
       "        vertical-align: middle;\n",
       "    }\n",
       "\n",
       "    .dataframe tbody tr th {\n",
       "        vertical-align: top;\n",
       "    }\n",
       "\n",
       "    .dataframe thead th {\n",
       "        text-align: right;\n",
       "    }\n",
       "</style>\n",
       "<table border=\"1\" class=\"dataframe\">\n",
       "  <thead>\n",
       "    <tr style=\"text-align: right;\">\n",
       "      <th></th>\n",
       "      <th>duration</th>\n",
       "      <th>src_bytes</th>\n",
       "      <th>dst_bytes</th>\n",
       "      <th>land</th>\n",
       "      <th>wrong_fragment</th>\n",
       "      <th>urgent</th>\n",
       "      <th>hot</th>\n",
       "      <th>num_failed_logins</th>\n",
       "      <th>logged_in</th>\n",
       "      <th>num_compromised</th>\n",
       "      <th>...</th>\n",
       "      <th>dst_host_srv_count</th>\n",
       "      <th>dst_host_same_srv_rate</th>\n",
       "      <th>dst_host_diff_srv_rate</th>\n",
       "      <th>dst_host_same_src_port_rate</th>\n",
       "      <th>dst_host_srv_diff_host_rate</th>\n",
       "      <th>dst_host_serror_rate</th>\n",
       "      <th>dst_host_srv_serror_rate</th>\n",
       "      <th>dst_host_rerror_rate</th>\n",
       "      <th>dst_host_srv_rerror_rate</th>\n",
       "      <th>level</th>\n",
       "    </tr>\n",
       "  </thead>\n",
       "  <tbody>\n",
       "    <tr>\n",
       "      <th>count</th>\n",
       "      <td>125973.00000</td>\n",
       "      <td>1.259730e+05</td>\n",
       "      <td>1.259730e+05</td>\n",
       "      <td>125973.000000</td>\n",
       "      <td>125973.000000</td>\n",
       "      <td>125973.000000</td>\n",
       "      <td>125973.000000</td>\n",
       "      <td>125973.000000</td>\n",
       "      <td>125973.000000</td>\n",
       "      <td>125973.000000</td>\n",
       "      <td>...</td>\n",
       "      <td>125973.000000</td>\n",
       "      <td>125973.000000</td>\n",
       "      <td>125973.000000</td>\n",
       "      <td>125973.000000</td>\n",
       "      <td>125973.000000</td>\n",
       "      <td>125973.000000</td>\n",
       "      <td>125973.000000</td>\n",
       "      <td>125973.000000</td>\n",
       "      <td>125973.000000</td>\n",
       "      <td>125973.000000</td>\n",
       "    </tr>\n",
       "    <tr>\n",
       "      <th>mean</th>\n",
       "      <td>287.14465</td>\n",
       "      <td>4.556674e+04</td>\n",
       "      <td>1.977911e+04</td>\n",
       "      <td>0.000198</td>\n",
       "      <td>0.022687</td>\n",
       "      <td>0.000111</td>\n",
       "      <td>0.204409</td>\n",
       "      <td>0.001222</td>\n",
       "      <td>0.395736</td>\n",
       "      <td>0.279250</td>\n",
       "      <td>...</td>\n",
       "      <td>115.653005</td>\n",
       "      <td>0.521242</td>\n",
       "      <td>0.082951</td>\n",
       "      <td>0.148379</td>\n",
       "      <td>0.032542</td>\n",
       "      <td>0.284452</td>\n",
       "      <td>0.278485</td>\n",
       "      <td>0.118832</td>\n",
       "      <td>0.120240</td>\n",
       "      <td>19.504060</td>\n",
       "    </tr>\n",
       "    <tr>\n",
       "      <th>std</th>\n",
       "      <td>2604.51531</td>\n",
       "      <td>5.870331e+06</td>\n",
       "      <td>4.021269e+06</td>\n",
       "      <td>0.014086</td>\n",
       "      <td>0.253530</td>\n",
       "      <td>0.014366</td>\n",
       "      <td>2.149968</td>\n",
       "      <td>0.045239</td>\n",
       "      <td>0.489010</td>\n",
       "      <td>23.942042</td>\n",
       "      <td>...</td>\n",
       "      <td>110.702741</td>\n",
       "      <td>0.448949</td>\n",
       "      <td>0.188922</td>\n",
       "      <td>0.308997</td>\n",
       "      <td>0.112564</td>\n",
       "      <td>0.444784</td>\n",
       "      <td>0.445669</td>\n",
       "      <td>0.306557</td>\n",
       "      <td>0.319459</td>\n",
       "      <td>2.291503</td>\n",
       "    </tr>\n",
       "    <tr>\n",
       "      <th>min</th>\n",
       "      <td>0.00000</td>\n",
       "      <td>0.000000e+00</td>\n",
       "      <td>0.000000e+00</td>\n",
       "      <td>0.000000</td>\n",
       "      <td>0.000000</td>\n",
       "      <td>0.000000</td>\n",
       "      <td>0.000000</td>\n",
       "      <td>0.000000</td>\n",
       "      <td>0.000000</td>\n",
       "      <td>0.000000</td>\n",
       "      <td>...</td>\n",
       "      <td>0.000000</td>\n",
       "      <td>0.000000</td>\n",
       "      <td>0.000000</td>\n",
       "      <td>0.000000</td>\n",
       "      <td>0.000000</td>\n",
       "      <td>0.000000</td>\n",
       "      <td>0.000000</td>\n",
       "      <td>0.000000</td>\n",
       "      <td>0.000000</td>\n",
       "      <td>0.000000</td>\n",
       "    </tr>\n",
       "    <tr>\n",
       "      <th>25%</th>\n",
       "      <td>0.00000</td>\n",
       "      <td>0.000000e+00</td>\n",
       "      <td>0.000000e+00</td>\n",
       "      <td>0.000000</td>\n",
       "      <td>0.000000</td>\n",
       "      <td>0.000000</td>\n",
       "      <td>0.000000</td>\n",
       "      <td>0.000000</td>\n",
       "      <td>0.000000</td>\n",
       "      <td>0.000000</td>\n",
       "      <td>...</td>\n",
       "      <td>10.000000</td>\n",
       "      <td>0.050000</td>\n",
       "      <td>0.000000</td>\n",
       "      <td>0.000000</td>\n",
       "      <td>0.000000</td>\n",
       "      <td>0.000000</td>\n",
       "      <td>0.000000</td>\n",
       "      <td>0.000000</td>\n",
       "      <td>0.000000</td>\n",
       "      <td>18.000000</td>\n",
       "    </tr>\n",
       "    <tr>\n",
       "      <th>50%</th>\n",
       "      <td>0.00000</td>\n",
       "      <td>4.400000e+01</td>\n",
       "      <td>0.000000e+00</td>\n",
       "      <td>0.000000</td>\n",
       "      <td>0.000000</td>\n",
       "      <td>0.000000</td>\n",
       "      <td>0.000000</td>\n",
       "      <td>0.000000</td>\n",
       "      <td>0.000000</td>\n",
       "      <td>0.000000</td>\n",
       "      <td>...</td>\n",
       "      <td>63.000000</td>\n",
       "      <td>0.510000</td>\n",
       "      <td>0.020000</td>\n",
       "      <td>0.000000</td>\n",
       "      <td>0.000000</td>\n",
       "      <td>0.000000</td>\n",
       "      <td>0.000000</td>\n",
       "      <td>0.000000</td>\n",
       "      <td>0.000000</td>\n",
       "      <td>20.000000</td>\n",
       "    </tr>\n",
       "    <tr>\n",
       "      <th>75%</th>\n",
       "      <td>0.00000</td>\n",
       "      <td>2.760000e+02</td>\n",
       "      <td>5.160000e+02</td>\n",
       "      <td>0.000000</td>\n",
       "      <td>0.000000</td>\n",
       "      <td>0.000000</td>\n",
       "      <td>0.000000</td>\n",
       "      <td>0.000000</td>\n",
       "      <td>1.000000</td>\n",
       "      <td>0.000000</td>\n",
       "      <td>...</td>\n",
       "      <td>255.000000</td>\n",
       "      <td>1.000000</td>\n",
       "      <td>0.070000</td>\n",
       "      <td>0.060000</td>\n",
       "      <td>0.020000</td>\n",
       "      <td>1.000000</td>\n",
       "      <td>1.000000</td>\n",
       "      <td>0.000000</td>\n",
       "      <td>0.000000</td>\n",
       "      <td>21.000000</td>\n",
       "    </tr>\n",
       "    <tr>\n",
       "      <th>max</th>\n",
       "      <td>42908.00000</td>\n",
       "      <td>1.379964e+09</td>\n",
       "      <td>1.309937e+09</td>\n",
       "      <td>1.000000</td>\n",
       "      <td>3.000000</td>\n",
       "      <td>3.000000</td>\n",
       "      <td>77.000000</td>\n",
       "      <td>5.000000</td>\n",
       "      <td>1.000000</td>\n",
       "      <td>7479.000000</td>\n",
       "      <td>...</td>\n",
       "      <td>255.000000</td>\n",
       "      <td>1.000000</td>\n",
       "      <td>1.000000</td>\n",
       "      <td>1.000000</td>\n",
       "      <td>1.000000</td>\n",
       "      <td>1.000000</td>\n",
       "      <td>1.000000</td>\n",
       "      <td>1.000000</td>\n",
       "      <td>1.000000</td>\n",
       "      <td>21.000000</td>\n",
       "    </tr>\n",
       "  </tbody>\n",
       "</table>\n",
       "<p>8 rows × 39 columns</p>\n",
       "</div>"
      ],
      "text/plain": [
       "           duration     src_bytes     dst_bytes           land  \\\n",
       "count  125973.00000  1.259730e+05  1.259730e+05  125973.000000   \n",
       "mean      287.14465  4.556674e+04  1.977911e+04       0.000198   \n",
       "std      2604.51531  5.870331e+06  4.021269e+06       0.014086   \n",
       "min         0.00000  0.000000e+00  0.000000e+00       0.000000   \n",
       "25%         0.00000  0.000000e+00  0.000000e+00       0.000000   \n",
       "50%         0.00000  4.400000e+01  0.000000e+00       0.000000   \n",
       "75%         0.00000  2.760000e+02  5.160000e+02       0.000000   \n",
       "max     42908.00000  1.379964e+09  1.309937e+09       1.000000   \n",
       "\n",
       "       wrong_fragment         urgent            hot  num_failed_logins  \\\n",
       "count   125973.000000  125973.000000  125973.000000      125973.000000   \n",
       "mean         0.022687       0.000111       0.204409           0.001222   \n",
       "std          0.253530       0.014366       2.149968           0.045239   \n",
       "min          0.000000       0.000000       0.000000           0.000000   \n",
       "25%          0.000000       0.000000       0.000000           0.000000   \n",
       "50%          0.000000       0.000000       0.000000           0.000000   \n",
       "75%          0.000000       0.000000       0.000000           0.000000   \n",
       "max          3.000000       3.000000      77.000000           5.000000   \n",
       "\n",
       "           logged_in  num_compromised  ...  dst_host_srv_count  \\\n",
       "count  125973.000000    125973.000000  ...       125973.000000   \n",
       "mean        0.395736         0.279250  ...          115.653005   \n",
       "std         0.489010        23.942042  ...          110.702741   \n",
       "min         0.000000         0.000000  ...            0.000000   \n",
       "25%         0.000000         0.000000  ...           10.000000   \n",
       "50%         0.000000         0.000000  ...           63.000000   \n",
       "75%         1.000000         0.000000  ...          255.000000   \n",
       "max         1.000000      7479.000000  ...          255.000000   \n",
       "\n",
       "       dst_host_same_srv_rate  dst_host_diff_srv_rate  \\\n",
       "count           125973.000000           125973.000000   \n",
       "mean                 0.521242                0.082951   \n",
       "std                  0.448949                0.188922   \n",
       "min                  0.000000                0.000000   \n",
       "25%                  0.050000                0.000000   \n",
       "50%                  0.510000                0.020000   \n",
       "75%                  1.000000                0.070000   \n",
       "max                  1.000000                1.000000   \n",
       "\n",
       "       dst_host_same_src_port_rate  dst_host_srv_diff_host_rate  \\\n",
       "count                125973.000000                125973.000000   \n",
       "mean                      0.148379                     0.032542   \n",
       "std                       0.308997                     0.112564   \n",
       "min                       0.000000                     0.000000   \n",
       "25%                       0.000000                     0.000000   \n",
       "50%                       0.000000                     0.000000   \n",
       "75%                       0.060000                     0.020000   \n",
       "max                       1.000000                     1.000000   \n",
       "\n",
       "       dst_host_serror_rate  dst_host_srv_serror_rate  dst_host_rerror_rate  \\\n",
       "count         125973.000000             125973.000000         125973.000000   \n",
       "mean               0.284452                  0.278485              0.118832   \n",
       "std                0.444784                  0.445669              0.306557   \n",
       "min                0.000000                  0.000000              0.000000   \n",
       "25%                0.000000                  0.000000              0.000000   \n",
       "50%                0.000000                  0.000000              0.000000   \n",
       "75%                1.000000                  1.000000              0.000000   \n",
       "max                1.000000                  1.000000              1.000000   \n",
       "\n",
       "       dst_host_srv_rerror_rate          level  \n",
       "count             125973.000000  125973.000000  \n",
       "mean                   0.120240      19.504060  \n",
       "std                    0.319459       2.291503  \n",
       "min                    0.000000       0.000000  \n",
       "25%                    0.000000      18.000000  \n",
       "50%                    0.000000      20.000000  \n",
       "75%                    0.000000      21.000000  \n",
       "max                    1.000000      21.000000  \n",
       "\n",
       "[8 rows x 39 columns]"
      ]
     },
     "execution_count": 13,
     "metadata": {},
     "output_type": "execute_result"
    }
   ],
   "source": [
    "df_train.describe()"
   ]
  },
  {
   "cell_type": "markdown",
   "id": "eadf85fb",
   "metadata": {},
   "source": [
    "# Attributes dictionary\n",
    "\n",
    "- @attribute 'duration' real\n",
    "- @attribute 'protocol_type' {'tcp' 'udp' 'icmp'} \n",
    "- @attribute 'service' {'ftp_data' 'other' 'private' 'http' 'remote_job' 'name' 'netbios_ns' 'eco_i' 'mtp' 'telnet' 'finger' 'domain_u' 'supdup' 'uucp_path' 'Z39_50' 'smtp' 'csnet_ns' 'uucp' 'netbios_dgm' 'urp_i' 'auth' 'domain' 'ftp''bgp' 'ldap' 'ecr_i' 'gopher' 'vmnet' 'systat' 'http_443' 'efs' 'whois' 'imap4' 'iso_tsap' 'echo' 'klogin' 'link' 'sunrpc' 'login' 'kshell' 'sql_net' 'time' 'hostnames' 'exec' 'ntp_u' 'discard' 'nntp' 'courier' 'ctf' 'ssh' 'daytime' 'shell' 'netstat' 'pop_3' 'nnsp' 'IRC' 'pop_2' 'printer' 'tim_i' 'pm_dump' 'red_i' 'netbios_ssn' 'rje' 'X11' 'urh_i' 'http_8001' 'aol' 'http_2784' 'tftp_u' 'harvest'} \n",
    "- @attribute 'flag' { 'SF' 'S0' 'REJ' 'RSTR' 'SH' 'RSTO' 'S1' 'RSTOS0' 'S3' 'S2' 'OTH'}\n",
    "- @attribute 'src_bytes' real\n",
    "- @attribute 'dst_bytes' real\n",
    "- @attribute 'land' {'0', '1'}\n",
    "- @attribute 'wrong_fragment' real\n",
    "- @attribute 'urgent' real\n",
    "- @attribute 'hot' real\n",
    "- @attribute 'num_failed_logins' real\n",
    "- @attribute 'logged_in' {'0', '1'}\n",
    "- @attribute 'num_compromised' real\n",
    "- @attribute 'root_shell' real\n",
    "- @attribute 'su_attempted' real\n",
    "- @attribute 'num_root' real\n",
    "- @attribute 'num_file_creations' real\n",
    "- @attribute 'num_shells' real\n",
    "- @attribute 'num_access_files' real\n",
    "- @attribute 'num_outbound_cmds' real\n",
    "- @attribute 'is_host_login' {'0', '1'}\n",
    "- @attribute 'is_guest_login' {'0', '1'}\n",
    "- @attribute 'count' real\n",
    "- @attribute 'srv_count' real\n",
    "- @attribute 'serror_rate' real\n",
    "- @attribute 'srv_serror_rate' real\n",
    "- @attribute 'rerror_rate' real\n",
    "- @attribute 'srv_rerror_rate' real\n",
    "- @attribute 'same_srv_rate' real\n",
    "- @attribute 'diff_srv_rate' real\n",
    "- @attribute 'srv_diff_host_rate' real\n",
    "- @attribute 'dst_host_count' real\n",
    "- @attribute 'dst_host_srv_count' real\n",
    "- @attribute 'dst_host_same_srv_rate' real\n",
    "- @attribute 'dst_host_diff_srv_rate' real\n",
    "- @attribute 'dst_host_same_src_port_rate' real\n",
    "- @attribute 'dst_host_srv_diff_host_rate' real\n",
    "- @attribute 'dst_host_serror_rate' real\n",
    "- @attribute 'dst_host_srv_serror_rate' real\n",
    "- @attribute 'dst_host_rerror_rate' real\n",
    "- @attribute 'dst_host_srv_rerror_rate' real\n",
    "- @attribute 'class' {'normal' 'neptune' 'warezclient' 'ipsweep' 'portsweep' 'teardrop' 'nmap' 'satan' 'smurf' 'pod' 'back' 'guess_passwd' 'ftp_write' 'multihop' 'rootkit' 'buffer_overflow' 'imap' 'warezmaster' 'phf' 'land' 'loadmodule' 'spy' 'perl' 'saint' 'mscan' 'apache2' 'snmpgetattack' 'processtable' 'httptunnel' 'ps' 'snmpguess' 'mailbomb' 'named' 'sendmail' 'xterm' 'worm' 'xlock' 'xsnoop' 'sqlattack' 'udpstorm'}"
   ]
  },
  {
   "cell_type": "markdown",
   "id": "1eedbb6f",
   "metadata": {},
   "source": [
    "In a real-time streaming scenario, the first priority is often to detect any anomaly, regardless of its type. Once detected, further analysis can be conducted to classify or understand the nature of the attack. Reason why I will simplified the attack attribute to: {'normal:0','attack:1'}"
   ]
  },
  {
   "cell_type": "code",
   "execution_count": 14,
   "id": "85b3d982",
   "metadata": {},
   "outputs": [],
   "source": [
    "# changing attack labels\n",
    "def change_label(data):\n",
    "  data.attack.replace(['neptune','warezclient','ipsweep','portsweep',\n",
    "                               'teardrop','nmap','satan','smurf','pod','back', \n",
    "                               'guess_passwd','ftp_write','multihop','rootkit', \n",
    "                               'buffer_overflow','imap','warezmaster','phf','land', \n",
    "                               'loadmodule','spy','perl','saint', 'mscan', 'apache2',\n",
    "                               'snmpgetattack','processtable', 'httptunnel', 'ps',\n",
    "                               'snmpguess', 'mailbomb','named', 'sendmail', 'xterm',\n",
    "                               'worm', 'xlock', 'xsnoop','sqlattack',\n",
    "                               'udpstorm'],'Attack',inplace=True)"
   ]
  },
  {
   "cell_type": "code",
   "execution_count": 15,
   "id": "30398971",
   "metadata": {},
   "outputs": [],
   "source": [
    "change_label(df_train)\n",
    "change_label(df_test)"
   ]
  },
  {
   "cell_type": "code",
   "execution_count": 16,
   "id": "32a3c9f0",
   "metadata": {},
   "outputs": [
    {
     "data": {
      "text/plain": [
       "array(['normal', 'Attack'], dtype=object)"
      ]
     },
     "execution_count": 16,
     "metadata": {},
     "output_type": "execute_result"
    }
   ],
   "source": [
    "df_train['attack'].unique()"
   ]
  },
  {
   "cell_type": "code",
   "execution_count": 17,
   "id": "757ae185",
   "metadata": {},
   "outputs": [
    {
     "data": {
      "text/plain": [
       "array(['Attack', 'normal'], dtype=object)"
      ]
     },
     "execution_count": 17,
     "metadata": {},
     "output_type": "execute_result"
    }
   ],
   "source": [
    "df_test['attack'].unique()"
   ]
  },
  {
   "cell_type": "code",
   "execution_count": 18,
   "id": "c3251678",
   "metadata": {
    "scrolled": true
   },
   "outputs": [
    {
     "data": {
      "image/png": "[encoded data removed]",
      "text/plain": [
       "<Figure size 720x504 with 1 Axes>"
      ]
     },
     "metadata": {},
     "output_type": "display_data"
    }
   ],
   "source": [
    "# Calculate the counts for each category\n",
    "attacks_counts = df_train['attack'].value_counts()\n",
    "\n",
    "# Plot a pie chart\n",
    "plt.figure(figsize=(10,7))\n",
    "attacks_counts.plot.pie(autopct='%1.1f%%', startangle=90, legend=True)\n",
    "plt.title('Distribution of Attack vs. Normal')\n",
    "plt.ylabel('') \n",
    "plt.show()"
   ]
  },
  {
   "cell_type": "code",
   "execution_count": 19,
   "id": "ce8eb91c",
   "metadata": {
    "scrolled": false
   },
   "outputs": [
    {
     "data": {
      "image/png": "[encoded data removed]",
      "text/plain": [
       "<Figure size 1008x504 with 1 Axes>"
      ]
     },
     "metadata": {
      "needs_background": "light"
     },
     "output_type": "display_data"
    }
   ],
   "source": [
    "# Calculate the counts for each level\n",
    "level_counts = df_train['level'].value_counts().sort_index()\n",
    "\n",
    "# Plot a bar chart\n",
    "plt.figure(figsize=(14,7))\n",
    "level_counts.plot.bar(rot=0)\n",
    "plt.title('Distribution of Attack Levels')\n",
    "plt.xlabel('Attack Level')\n",
    "plt.ylabel('Count')\n",
    "plt.show()"
   ]
  },
  {
   "cell_type": "markdown",
   "id": "f7a02c78",
   "metadata": {},
   "source": [
    "Column \"level\" will be removed since it's just an indicator of the attack level but is something that can't be know until the attack is detected and then clasified, so it is not relevant for our training nor testing"
   ]
  },
  {
   "cell_type": "code",
   "execution_count": 20,
   "id": "365184e3",
   "metadata": {},
   "outputs": [],
   "source": [
    "# remove attribute 'level'\n",
    "df_train.drop(['level'],axis=1,inplace=True)\n",
    "df_test.drop(['level'],axis=1,inplace=True)"
   ]
  },
  {
   "cell_type": "markdown",
   "id": "40eece6e",
   "metadata": {},
   "source": [
    "# Label Encoding:\n",
    "\n",
    "Binary Classification: Convert the label column to represent two classes: 'normal = 0' and 'attack = 1'. Since we are only interested in distinguishing between normal traffic and any kind of attack."
   ]
  },
  {
   "cell_type": "code",
   "execution_count": 21,
   "id": "8e7c0b9a",
   "metadata": {},
   "outputs": [],
   "source": [
    "# Conver Attack column to binary\n",
    "# normal = 0\n",
    "# attack = 1\n",
    "df_train['attack'] = df_train['attack'].replace({'normal': 0, 'Attack': 1})\n",
    "df_test['attack'] = df_test['attack'].replace({'normal': 0, 'Attack': 1})"
   ]
  },
  {
   "cell_type": "markdown",
   "id": "15c5c3b6",
   "metadata": {},
   "source": [
    "### Handling Categorical Features:\n",
    "The NSL-KDD dataset contains categorical features such as protocol_type, service, and flag. These need to be converted to a numerical format:\n",
    "\n",
    "- One-Hot Encoding: Convert categorical values into a format that can be provided to machine learning algorithms to improve accuracy. This involves creating binary columns for each category/label and marking them as '0' or '1' based on the encoding.\n",
    "\n",
    "#### Note: As identified in the previous steps, the variables inside \"service\" column have some different values, resong why I would merge both datasets for the one-hot encoding to avoid any further errors"
   ]
  },
  {
   "cell_type": "code",
   "execution_count": 22,
   "id": "a0fa4b1e",
   "metadata": {},
   "outputs": [],
   "source": [
    "# Combine datasets\n",
    "combined_data = pd.concat([df_train, df_test], axis=0)\n",
    "\n",
    "# categorical columns\n",
    "categorical_columns = ['protocol_type', 'service', 'flag']  \n",
    "\n",
    "# Apply one-hot encoding to the specified categorical columns\n",
    "combined_data_encoded = pd.get_dummies(combined_data, columns=categorical_columns)\n",
    "\n",
    "# Split back into training and testing datasets\n",
    "df_train_encoded = combined_data_encoded.iloc[:len(df_train)]\n",
    "df_test_encoded = combined_data_encoded.iloc[len(df_train):]"
   ]
  },
  {
   "cell_type": "code",
   "execution_count": 23,
   "id": "da646e0c",
   "metadata": {
    "scrolled": true
   },
   "outputs": [
    {
     "name": "stdout",
     "output_type": "stream",
     "text": [
      "<class 'pandas.core.frame.DataFrame'>\n",
      "Int64Index: 125973 entries, 0 to 125972\n",
      "Columns: 123 entries, duration to flag_SH\n",
      "dtypes: float64(15), int64(24), uint8(84)\n",
      "memory usage: 48.5 MB\n"
     ]
    }
   ],
   "source": [
    "df_train_encoded.info()"
   ]
  },
  {
   "cell_type": "code",
   "execution_count": 24,
   "id": "ac48710e",
   "metadata": {},
   "outputs": [
    {
     "name": "stdout",
     "output_type": "stream",
     "text": [
      "<class 'pandas.core.frame.DataFrame'>\n",
      "Int64Index: 22544 entries, 0 to 22543\n",
      "Columns: 123 entries, duration to flag_SH\n",
      "dtypes: float64(15), int64(24), uint8(84)\n",
      "memory usage: 8.7 MB\n"
     ]
    }
   ],
   "source": [
    "df_test_encoded.info()"
   ]
  },
  {
   "cell_type": "markdown",
   "id": "cebb77ec",
   "metadata": {},
   "source": [
    "## Splitting Features and Labels:\n",
    "Separate the dataset into features (X) and labels/targets (Y) to facilitate training"
   ]
  },
  {
   "cell_type": "code",
   "execution_count": 25,
   "id": "d4ff42ec",
   "metadata": {},
   "outputs": [],
   "source": [
    "from sklearn.model_selection import train_test_split\n",
    "# Split training data into features (X_train) and target (Y_train)\n",
    "X_train = df_train_encoded.drop(\"attack\", axis=1)  # replace 'target_column_name' with the name of your target column\n",
    "Y_train = df_train_encoded[\"attack\"]"
   ]
  },
  {
   "cell_type": "markdown",
   "id": "0acf2f29",
   "metadata": {},
   "source": [
    "### Test Dataset Splitting:\n",
    "\n",
    "I will split the KDDTest+.TXT dataset into two parts:\n",
    "\n",
    "- Validation/Test Set: To evaluate and compare the performance of different neural network architectures.\n",
    "- Streaming Simulation Set: To mimic streaming data and test the best-performing model in a streaming environment with Apache Spark."
   ]
  },
  {
   "cell_type": "code",
   "execution_count": 26,
   "id": "42b4f975",
   "metadata": {},
   "outputs": [],
   "source": [
    "# Split training data into features (X_test) and target (Y_test)\n",
    "X_test = df_test_encoded.drop(\"attack\", axis=1)  # replace 'target_column_name' with the name of your target column\n",
    "Y_test = df_test_encoded[\"attack\"]\n",
    "# Split test data into validation and streaming set\n",
    "X_validation, X_streaming, Y_validation, Y_streaming = train_test_split(X_test, Y_test, test_size=0.5, random_state=42)"
   ]
  },
  {
   "cell_type": "markdown",
   "id": "d78b78e8",
   "metadata": {},
   "source": [
    "# Normalize Numerical Features:\n",
    "\n",
    "Neural networks work better with values between 0 and 1. Features with large magnitudes can disproportionately influence the training of the network.\n",
    "\n",
    "- Min-Max Scaling: This is the most common method to normalize features."
   ]
  },
  {
   "cell_type": "code",
   "execution_count": 27,
   "id": "c8b8b1ca",
   "metadata": {},
   "outputs": [],
   "source": [
    "from sklearn.preprocessing import MinMaxScaler\n",
    "\n",
    "# Identify non-binary columns for normalization in the training set\n",
    "non_binary_columns = X_train.nunique()[X_train.nunique() > 2].index.tolist()\n",
    "\n",
    "# Normalize using Min-Max Scaling based on the training data's statistics\n",
    "scaler = MinMaxScaler()\n",
    "X_train[non_binary_columns] = scaler.fit_transform(X_train[non_binary_columns])\n",
    "X_validation[non_binary_columns] = scaler.transform(X_validation[non_binary_columns])\n",
    "X_streaming[non_binary_columns] = scaler.transform(X_streaming[non_binary_columns])"
   ]
  },
  {
   "cell_type": "markdown",
   "id": "4344023d",
   "metadata": {},
   "source": [
    "# Baseline Model:\n",
    "\n",
    "Before training complex neural networks, it's often a good idea to establish a baseline performance using simpler models or methods. \n",
    "\n",
    "- Majority Class Classifier: This classifier always predicts the majority class from the training set. For example, if \"normal\" instances are more frequent than \"attack\" instances in the training set, this classifier would always predict \"normal\". It provides insights into the class distribution and sets a performance benchmark, especially for imbalanced datasets."
   ]
  },
  {
   "cell_type": "code",
   "execution_count": 28,
   "id": "a5b6bbe4",
   "metadata": {},
   "outputs": [
    {
     "name": "stdout",
     "output_type": "stream",
     "text": [
      "Accuracy: 0.43\n",
      "              precision    recall  f1-score   support\n",
      "\n",
      "           0       0.43      1.00      0.60      4797\n",
      "           1       1.00      0.00      0.00      6475\n",
      "\n",
      "    accuracy                           0.43     11272\n",
      "   macro avg       0.71      0.50      0.30     11272\n",
      "weighted avg       0.76      0.43      0.25     11272\n",
      "\n"
     ]
    }
   ],
   "source": [
    "from sklearn.dummy import DummyClassifier\n",
    "from sklearn.metrics import accuracy_score, classification_report\n",
    "\n",
    "# Initialize the majority class classifier\n",
    "clf = DummyClassifier(strategy=\"most_frequent\")\n",
    "\n",
    "# Train the classifier\n",
    "clf.fit(X_train, Y_train)\n",
    "\n",
    "# Predict on the validation set\n",
    "Y_pred = clf.predict(X_validation)\n",
    "\n",
    "# Evaluate the performance\n",
    "accuracy = accuracy_score(Y_validation, Y_pred)\n",
    "report = classification_report(Y_validation, Y_pred, zero_division=1)\n",
    "\n",
    "print(f\"Accuracy: {accuracy:.2f}\")\n",
    "print(report)"
   ]
  },
  {
   "cell_type": "markdown",
   "id": "f5d60f16",
   "metadata": {},
   "source": [
    "For this project I will compare the performance of tradition ML models vs NN\n",
    "\n",
    "Models:\n",
    "\n",
    "- Logistic Regression\n",
    "- Random Forest\n",
    "- Gradient Boosted Trees\n",
    "- ANN"
   ]
  },
  {
   "cell_type": "code",
   "execution_count": 29,
   "id": "89d1dbe2",
   "metadata": {
    "scrolled": true
   },
   "outputs": [
    {
     "name": "stdout",
     "output_type": "stream",
     "text": [
      "Logistic Regression:\n",
      "              precision    recall  f1-score   support\n",
      "\n",
      "           0       0.65      0.93      0.76      4797\n",
      "           1       0.92      0.62      0.74      6475\n",
      "\n",
      "    accuracy                           0.75     11272\n",
      "   macro avg       0.78      0.77      0.75     11272\n",
      "weighted avg       0.80      0.75      0.75     11272\n",
      "\n",
      "Random Forest:\n",
      "              precision    recall  f1-score   support\n",
      "\n",
      "           0       0.65      0.97      0.78      4797\n",
      "           1       0.97      0.62      0.75      6475\n",
      "\n",
      "    accuracy                           0.77     11272\n",
      "   macro avg       0.81      0.79      0.77     11272\n",
      "weighted avg       0.83      0.77      0.76     11272\n",
      "\n",
      "Gradient Boosting Classifier:\n",
      "              precision    recall  f1-score   support\n",
      "\n",
      "           0       0.69      0.94      0.80      4797\n",
      "           1       0.94      0.69      0.80      6475\n",
      "\n",
      "    accuracy                           0.80     11272\n",
      "   macro avg       0.81      0.81      0.80     11272\n",
      "weighted avg       0.83      0.80      0.80     11272\n",
      "\n"
     ]
    }
   ],
   "source": [
    "from sklearn.linear_model import LogisticRegression\n",
    "from sklearn.ensemble import RandomForestClassifier\n",
    "from sklearn.ensemble import GradientBoostingClassifier\n",
    "from sklearn.metrics import accuracy_score, classification_report\n",
    "\n",
    "# Initialize models\n",
    "log_reg = LogisticRegression(max_iter=1000)\n",
    "random_forest = RandomForestClassifier(n_estimators=100)\n",
    "gb_classifier = GradientBoostingClassifier(n_estimators=100)\n",
    "\n",
    "# Train models\n",
    "log_reg.fit(X_train, Y_train)\n",
    "random_forest.fit(X_train, Y_train)\n",
    "gb_classifier.fit(X_train, Y_train)\n",
    "\n",
    "# Predict on validation set\n",
    "preds_lr = log_reg.predict(X_validation)\n",
    "preds_rf = random_forest.predict(X_validation)\n",
    "preds_gb = gb_classifier.predict(X_validation)\n",
    "\n",
    "# Evaluate models\n",
    "print(\"Logistic Regression:\")\n",
    "print(classification_report(Y_validation, preds_lr))\n",
    "print(\"Random Forest:\")\n",
    "print(classification_report(Y_validation, preds_rf))\n",
    "print(\"Gradient Boosting Classifier:\")\n",
    "print(classification_report(Y_validation, preds_gb))"
   ]
  },
  {
   "cell_type": "code",
   "execution_count": 30,
   "id": "c0e2fd95",
   "metadata": {
    "scrolled": true
   },
   "outputs": [
    {
     "data": {
      "image/png": "[encoded data removed]",
      "text/plain": [
       "<Figure size 720x504 with 1 Axes>"
      ]
     },
     "metadata": {
      "needs_background": "light"
     },
     "output_type": "display_data"
    }
   ],
   "source": [
    "from sklearn.metrics import roc_curve, auc\n",
    "import matplotlib.pyplot as plt\n",
    "\n",
    "# Define a function to compute and plot the ROC AUC for a model\n",
    "def plot_roc_auc(model, X, y, label=None):\n",
    "    # Predict probabilities\n",
    "    probas = model.predict_proba(X)[:,1]\n",
    "    # Compute ROC curve and AUC\n",
    "    fpr, tpr, _ = roc_curve(y, probas)\n",
    "    roc_auc = auc(fpr, tpr)\n",
    "    plt.plot(fpr, tpr, lw=2, label=f'{label} (AUC = {roc_auc:.2f})')\n",
    "    return roc_auc\n",
    "\n",
    "# Plot ROC AUC for each model\n",
    "plt.figure(figsize=(10, 7))\n",
    "plot_roc_auc(log_reg, X_validation, Y_validation, label='Logistic Regression')\n",
    "plot_roc_auc(random_forest, X_validation, Y_validation, label='Random Forest')\n",
    "plot_roc_auc(gb_classifier, X_validation, Y_validation, label='Gradient Boosting')\n",
    "\n",
    "# Plotting details\n",
    "plt.plot([0, 1], [0, 1], linestyle='--', lw=2, color='gray')\n",
    "plt.xlim([0.0, 1.0])\n",
    "plt.ylim([0.0, 1.05])\n",
    "plt.xlabel('False Positive Rate')\n",
    "plt.ylabel('True Positive Rate')\n",
    "plt.title('Receiver Operating Characteristic (ROC) Curve')\n",
    "plt.legend(loc=\"lower right\")\n",
    "plt.show()"
   ]
  },
  {
   "cell_type": "code",
   "execution_count": 31,
   "id": "863bd41e",
   "metadata": {},
   "outputs": [
    {
     "data": {
      "text/html": [
       "<div>\n",
       "<style scoped>\n",
       "    .dataframe tbody tr th:only-of-type {\n",
       "        vertical-align: middle;\n",
       "    }\n",
       "\n",
       "    .dataframe tbody tr th {\n",
       "        vertical-align: top;\n",
       "    }\n",
       "\n",
       "    .dataframe thead th {\n",
       "        text-align: right;\n",
       "    }\n",
       "</style>\n",
       "<table border=\"1\" class=\"dataframe\">\n",
       "  <thead>\n",
       "    <tr style=\"text-align: right;\">\n",
       "      <th></th>\n",
       "      <th>Model</th>\n",
       "      <th>Accuracy</th>\n",
       "      <th>Precision</th>\n",
       "      <th>Recall</th>\n",
       "      <th>F1 Score</th>\n",
       "      <th>ROC AUC</th>\n",
       "    </tr>\n",
       "  </thead>\n",
       "  <tbody>\n",
       "    <tr>\n",
       "      <th>0</th>\n",
       "      <td>Random Forest</td>\n",
       "      <td>0.767477</td>\n",
       "      <td>0.967492</td>\n",
       "      <td>0.615907</td>\n",
       "      <td>0.752666</td>\n",
       "      <td>0.960124</td>\n",
       "    </tr>\n",
       "    <tr>\n",
       "      <th>1</th>\n",
       "      <td>Gradient Boosting</td>\n",
       "      <td>0.795866</td>\n",
       "      <td>0.937160</td>\n",
       "      <td>0.690965</td>\n",
       "      <td>0.795448</td>\n",
       "      <td>0.941540</td>\n",
       "    </tr>\n",
       "    <tr>\n",
       "      <th>2</th>\n",
       "      <td>Logistic Regression</td>\n",
       "      <td>0.751774</td>\n",
       "      <td>0.919270</td>\n",
       "      <td>0.622548</td>\n",
       "      <td>0.742357</td>\n",
       "      <td>0.821169</td>\n",
       "    </tr>\n",
       "  </tbody>\n",
       "</table>\n",
       "</div>"
      ],
      "text/plain": [
       "                 Model  Accuracy  Precision    Recall  F1 Score   ROC AUC\n",
       "0        Random Forest  0.767477   0.967492  0.615907  0.752666  0.960124\n",
       "1    Gradient Boosting  0.795866   0.937160  0.690965  0.795448  0.941540\n",
       "2  Logistic Regression  0.751774   0.919270  0.622548  0.742357  0.821169"
      ]
     },
     "metadata": {},
     "output_type": "display_data"
    }
   ],
   "source": [
    "from sklearn.metrics import accuracy_score, precision_score, recall_score, f1_score\n",
    "from sklearn.metrics import roc_auc_score\n",
    "\n",
    "# Compute metrics for each model\n",
    "results = []\n",
    "for model, name in [(log_reg, 'Logistic Regression'), (random_forest, 'Random Forest'), (gb_classifier, 'Gradient Boosting')]:\n",
    "    preds = model.predict(X_validation)\n",
    "    accuracy = accuracy_score(Y_validation, preds)\n",
    "    precision = precision_score(Y_validation, preds)\n",
    "    recall = recall_score(Y_validation, preds)\n",
    "    f1 = f1_score(Y_validation, preds)\n",
    "    probas = model.predict_proba(X_validation)[:,1]\n",
    "    roc_auc = roc_auc_score(Y_validation, probas)\n",
    "    results.append([name, accuracy, precision, recall, f1, roc_auc])\n",
    "\n",
    "# Convert results to DataFrame for easy display and sorting\n",
    "results_df = pd.DataFrame(results, columns=['Model', 'Accuracy', 'Precision', 'Recall', 'F1 Score', 'ROC AUC'])\n",
    "results_df = results_df.sort_values(by='ROC AUC', ascending=False)\n",
    "results_df.reset_index(drop=True, inplace=True)\n",
    "\n",
    "# Display the sorted results table\n",
    "display(results_df)\n"
   ]
  },
  {
   "cell_type": "markdown",
   "id": "c7b995c0",
   "metadata": {},
   "source": [
    "### ANN (Artificial Neural Network):\n",
    "This is a basic feedforward neural network."
   ]
  },
  {
   "cell_type": "code",
   "execution_count": 32,
   "id": "5fbe8c00",
   "metadata": {},
   "outputs": [],
   "source": [
    "from keras.models import Sequential\n",
    "from keras.layers import Dense\n",
    "\n",
    "model_ann = Sequential()\n",
    "model_ann.add(Dense(128, input_dim=X_train.shape[1], activation='relu'))\n",
    "model_ann.add(Dense(64, activation='relu'))\n",
    "model_ann.add(Dense(1, activation='sigmoid'))"
   ]
  },
  {
   "cell_type": "code",
   "execution_count": 33,
   "id": "230219f6",
   "metadata": {},
   "outputs": [],
   "source": [
    "model_ann.compile(optimizer='adam', loss='binary_crossentropy', metrics=['accuracy'])"
   ]
  },
  {
   "cell_type": "code",
   "execution_count": 34,
   "id": "1b1bd125",
   "metadata": {},
   "outputs": [
    {
     "name": "stdout",
     "output_type": "stream",
     "text": [
      "Epoch 1/10\n",
      "3937/3937 [==============================] - 6s 2ms/step - loss: 0.0461 - accuracy: 0.9839 - val_loss: 1.4231 - val_accuracy: 0.7803\n",
      "Epoch 2/10\n",
      "3937/3937 [==============================] - 6s 1ms/step - loss: 0.0215 - accuracy: 0.9922 - val_loss: 1.4204 - val_accuracy: 0.7881\n",
      "Epoch 3/10\n",
      "3937/3937 [==============================] - 6s 1ms/step - loss: 0.0165 - accuracy: 0.9940 - val_loss: 1.7511 - val_accuracy: 0.7927\n",
      "Epoch 4/10\n",
      "3937/3937 [==============================] - 6s 1ms/step - loss: 0.0142 - accuracy: 0.9947 - val_loss: 2.0002 - val_accuracy: 0.7928\n",
      "Epoch 5/10\n",
      "3937/3937 [==============================] - 6s 1ms/step - loss: 0.0129 - accuracy: 0.9951 - val_loss: 2.1652 - val_accuracy: 0.7796\n",
      "Epoch 6/10\n",
      "3937/3937 [==============================] - 6s 1ms/step - loss: 0.0121 - accuracy: 0.9953 - val_loss: 2.0541 - val_accuracy: 0.8059\n",
      "Epoch 7/10\n",
      "3937/3937 [==============================] - 6s 1ms/step - loss: 0.0111 - accuracy: 0.9959 - val_loss: 2.7922 - val_accuracy: 0.7663\n",
      "Epoch 8/10\n",
      "3937/3937 [==============================] - 6s 1ms/step - loss: 0.0103 - accuracy: 0.9960 - val_loss: 2.5597 - val_accuracy: 0.7987\n",
      "Epoch 9/10\n",
      "3937/3937 [==============================] - 6s 1ms/step - loss: 0.0099 - accuracy: 0.9963 - val_loss: 3.1550 - val_accuracy: 0.7896\n",
      "Epoch 10/10\n",
      "3937/3937 [==============================] - 6s 1ms/step - loss: 0.0098 - accuracy: 0.9963 - val_loss: 2.5729 - val_accuracy: 0.8031\n"
     ]
    }
   ],
   "source": [
    "history_ann = model_ann.fit(X_train, Y_train, validation_data=(X_validation, Y_validation), epochs=10, batch_size=32)\n"
   ]
  },
  {
   "cell_type": "code",
   "execution_count": 35,
   "id": "2329df0b",
   "metadata": {},
   "outputs": [
    {
     "name": "stdout",
     "output_type": "stream",
     "text": [
      "353/353 [==============================] - 0s 1ms/step - loss: 2.5729 - accuracy: 0.8031\n",
      "Validation Accuracy: 80.31%\n"
     ]
    }
   ],
   "source": [
    "# Evaluate the model\n",
    "loss, accuracy = model_ann.evaluate(X_validation, Y_validation)\n",
    "print(f\"Validation Accuracy: {accuracy*100:.2f}%\")\n"
   ]
  },
  {
   "cell_type": "code",
   "execution_count": 36,
   "id": "fde9af5a",
   "metadata": {},
   "outputs": [
    {
     "data": {
      "image/png": "[encoded data removed]",
      "text/plain": [
       "<Figure size 864x360 with 2 Axes>"
      ]
     },
     "metadata": {
      "needs_background": "light"
     },
     "output_type": "display_data"
    }
   ],
   "source": [
    "import matplotlib.pyplot as plt\n",
    "\n",
    "# Plot training & validation accuracy values\n",
    "plt.figure(figsize=(12, 5))\n",
    "\n",
    "plt.subplot(1, 2, 1)\n",
    "plt.plot(history_ann.history['accuracy'])\n",
    "plt.plot(history_ann.history['val_accuracy'])\n",
    "plt.title('Model accuracy')\n",
    "plt.ylabel('Accuracy')\n",
    "plt.xlabel('Epoch')\n",
    "plt.legend(['Train', 'Validation'], loc='upper left')\n",
    "\n",
    "# Plot training & validation loss values\n",
    "plt.subplot(1, 2, 2)\n",
    "plt.plot(history_ann.history['loss'])\n",
    "plt.plot(history_ann.history['val_loss'])\n",
    "plt.title('Model loss')\n",
    "plt.ylabel('Loss')\n",
    "plt.xlabel('Epoch')\n",
    "plt.legend(['Train', 'Validation'], loc='upper left')\n",
    "\n",
    "plt.tight_layout()\n",
    "plt.show()\n"
   ]
  },
  {
   "cell_type": "code",
   "execution_count": 37,
   "id": "57fb7303",
   "metadata": {
    "scrolled": true
   },
   "outputs": [
    {
     "name": "stdout",
     "output_type": "stream",
     "text": [
      "353/353 [==============================] - 0s 963us/step\n"
     ]
    },
    {
     "data": {
      "image/png": "[encoded data removed]",
      "text/plain": [
       "<Figure size 576x432 with 1 Axes>"
      ]
     },
     "metadata": {
      "needs_background": "light"
     },
     "output_type": "display_data"
    }
   ],
   "source": [
    "from sklearn.metrics import roc_curve, auc\n",
    "import matplotlib.pyplot as plt\n",
    "\n",
    "# Predict probabilities for the positive class\n",
    "probas = model_ann.predict(X_validation).ravel()\n",
    "\n",
    "# Compute ROC curve and AUC\n",
    "fpr, tpr, _ = roc_curve(Y_validation, probas)\n",
    "roc_auc = auc(fpr, tpr)\n",
    "\n",
    "# Plot the ROC curve\n",
    "plt.figure(figsize=(8, 6))\n",
    "plt.plot(fpr, tpr, color='darkorange', lw=2, label=f'ROC curve (AUC = {roc_auc:.2f})')\n",
    "plt.plot([0, 1], [0, 1], color='navy', lw=2, linestyle='--')\n",
    "plt.xlim([0.0, 1.0])\n",
    "plt.ylim([0.0, 1.05])\n",
    "plt.xlabel('False Positive Rate')\n",
    "plt.ylabel('True Positive Rate')\n",
    "plt.title('Receiver Operating Characteristic (ROC) Curve for ANN')\n",
    "plt.legend(loc=\"lower right\")\n",
    "plt.show()\n"
   ]
  },
  {
   "cell_type": "code",
   "execution_count": 39,
   "id": "bc8de609",
   "metadata": {},
   "outputs": [],
   "source": [
    "# Save the model\n",
    "model_ann.save(\"my_ann_model_v1.keras\")"
   ]
  },
  {
   "cell_type": "code",
   "execution_count": 40,
   "id": "d8bb8de2",
   "metadata": {},
   "outputs": [
    {
     "name": "stdout",
     "output_type": "stream",
     "text": [
      "Epoch 1/50\n",
      "3937/3937 [==============================] - 7s 2ms/step - loss: 0.0816 - accuracy: 0.9738 - val_loss: 1.3526 - val_accuracy: 0.7608 - lr: 0.0010\n",
      "Epoch 2/50\n",
      "3937/3937 [==============================] - 6s 2ms/step - loss: 0.0426 - accuracy: 0.9845 - val_loss: 1.6004 - val_accuracy: 0.7783 - lr: 0.0010\n",
      "Epoch 3/50\n",
      "3937/3937 [==============================] - 6s 2ms/step - loss: 0.0353 - accuracy: 0.9876 - val_loss: 1.7201 - val_accuracy: 0.7904 - lr: 0.0010\n",
      "Epoch 4/50\n",
      "3937/3937 [==============================] - 6s 2ms/step - loss: 0.0309 - accuracy: 0.9896 - val_loss: 1.7828 - val_accuracy: 0.8059 - lr: 0.0010\n",
      "Epoch 5/50\n",
      "3937/3937 [==============================] - 6s 2ms/step - loss: 0.0290 - accuracy: 0.9899 - val_loss: 1.8400 - val_accuracy: 0.7898 - lr: 0.0010\n",
      "Epoch 6/50\n",
      "3937/3937 [==============================] - 6s 2ms/step - loss: 0.0278 - accuracy: 0.9906 - val_loss: 1.8629 - val_accuracy: 0.8067 - lr: 0.0010\n",
      "Epoch 7/50\n",
      "3937/3937 [==============================] - 6s 2ms/step - loss: 0.0229 - accuracy: 0.9925 - val_loss: 2.1110 - val_accuracy: 0.7952 - lr: 2.0000e-04\n",
      "Epoch 8/50\n",
      "3937/3937 [==============================] - 6s 2ms/step - loss: 0.0212 - accuracy: 0.9932 - val_loss: 2.1992 - val_accuracy: 0.7947 - lr: 2.0000e-04\n",
      "Epoch 9/50\n",
      "3937/3937 [==============================] - 6s 2ms/step - loss: 0.0204 - accuracy: 0.9932 - val_loss: 2.2502 - val_accuracy: 0.7961 - lr: 2.0000e-04\n",
      "Epoch 10/50\n",
      "3937/3937 [==============================] - 6s 2ms/step - loss: 0.0203 - accuracy: 0.9934 - val_loss: 2.2971 - val_accuracy: 0.7957 - lr: 2.0000e-04\n",
      "Epoch 11/50\n",
      "3937/3937 [==============================] - 6s 2ms/step - loss: 0.0206 - accuracy: 0.9933 - val_loss: 2.2817 - val_accuracy: 0.7944 - lr: 2.0000e-04\n"
     ]
    }
   ],
   "source": [
    "from keras.models import Sequential\n",
    "from keras.layers import Dense, Dropout\n",
    "from keras.optimizers import Adam\n",
    "from keras.callbacks import EarlyStopping, ReduceLROnPlateau\n",
    "\n",
    "model_ann = Sequential()\n",
    "\n",
    "# Input layer with dropout\n",
    "model_ann.add(Dense(64, input_dim=X_train.shape[1], activation='relu'))\n",
    "model_ann.add(Dropout(0.5))\n",
    "\n",
    "# Hidden layer with dropout\n",
    "model_ann.add(Dense(32, activation='relu'))\n",
    "model_ann.add(Dropout(0.5))\n",
    "\n",
    "# Output layer\n",
    "model_ann.add(Dense(1, activation='sigmoid'))\n",
    "\n",
    "# Compile the model with Adam optimizer\n",
    "optimizer = Adam(learning_rate=0.001)\n",
    "model_ann.compile(optimizer=optimizer, loss='binary_crossentropy', metrics=['accuracy'])\n",
    "\n",
    "# Use early stopping and learning rate reduction callbacks\n",
    "early_stopping = EarlyStopping(monitor='val_loss', patience=10, restore_best_weights=True)\n",
    "reduce_lr = ReduceLROnPlateau(monitor='val_loss', factor=0.2, patience=5, min_lr=0.0001)\n",
    "\n",
    "# Train the model\n",
    "history_ann = model_ann.fit(X_train, Y_train, validation_data=(X_validation, Y_validation), epochs=50, batch_size=32, callbacks=[early_stopping, reduce_lr])\n"
   ]
  },
  {
   "cell_type": "code",
   "execution_count": 41,
   "id": "580f8454",
   "metadata": {},
   "outputs": [
    {
     "name": "stdout",
     "output_type": "stream",
     "text": [
      "353/353 [==============================] - 0s 1ms/step - loss: 1.3526 - accuracy: 0.7608\n",
      "Validation Accuracy: 76.08%\n"
     ]
    }
   ],
   "source": [
    "# Evaluate the model\n",
    "loss, accuracy = model_ann.evaluate(X_validation, Y_validation)\n",
    "print(f\"Validation Accuracy: {accuracy*100:.2f}%\")"
   ]
  },
  {
   "cell_type": "code",
   "execution_count": 42,
   "id": "05b8dcac",
   "metadata": {},
   "outputs": [
    {
     "data": {
      "image/png": "[encoded data removed]",
      "text/plain": [
       "<Figure size 864x360 with 2 Axes>"
      ]
     },
     "metadata": {
      "needs_background": "light"
     },
     "output_type": "display_data"
    }
   ],
   "source": [
    "import matplotlib.pyplot as plt\n",
    "\n",
    "# Plot training & validation accuracy values\n",
    "plt.figure(figsize=(12, 5))\n",
    "\n",
    "plt.subplot(1, 2, 1)\n",
    "plt.plot(history_ann.history['accuracy'])\n",
    "plt.plot(history_ann.history['val_accuracy'])\n",
    "plt.title('Model accuracy')\n",
    "plt.ylabel('Accuracy')\n",
    "plt.xlabel('Epoch')\n",
    "plt.legend(['Train', 'Validation'], loc='upper left')\n",
    "\n",
    "# Plot training & validation loss values\n",
    "plt.subplot(1, 2, 2)\n",
    "plt.plot(history_ann.history['loss'])\n",
    "plt.plot(history_ann.history['val_loss'])\n",
    "plt.title('Model loss')\n",
    "plt.ylabel('Loss')\n",
    "plt.xlabel('Epoch')\n",
    "plt.legend(['Train', 'Validation'], loc='upper left')\n",
    "\n",
    "plt.tight_layout()\n",
    "plt.show()"
   ]
  },
  {
   "cell_type": "code",
   "execution_count": 43,
   "id": "b1e5a4fb",
   "metadata": {},
   "outputs": [
    {
     "name": "stdout",
     "output_type": "stream",
     "text": [
      "353/353 [==============================] - 0s 928us/step\n"
     ]
    },
    {
     "data": {
      "image/png": "[encoded data removed]",
      "text/plain": [
       "<Figure size 576x432 with 1 Axes>"
      ]
     },
     "metadata": {
      "needs_background": "light"
     },
     "output_type": "display_data"
    }
   ],
   "source": [
    "from sklearn.metrics import roc_curve, auc\n",
    "import matplotlib.pyplot as plt\n",
    "\n",
    "# Predict probabilities for the positive class\n",
    "probas = model_ann.predict(X_validation).ravel()\n",
    "\n",
    "# Compute ROC curve and AUC\n",
    "fpr, tpr, _ = roc_curve(Y_validation, probas)\n",
    "roc_auc = auc(fpr, tpr)\n",
    "\n",
    "# Plot the ROC curve\n",
    "plt.figure(figsize=(8, 6))\n",
    "plt.plot(fpr, tpr, color='darkorange', lw=2, label=f'ROC curve (AUC = {roc_auc:.2f})')\n",
    "plt.plot([0, 1], [0, 1], color='navy', lw=2, linestyle='--')\n",
    "plt.xlim([0.0, 1.0])\n",
    "plt.ylim([0.0, 1.05])\n",
    "plt.xlabel('False Positive Rate')\n",
    "plt.ylabel('True Positive Rate')\n",
    "plt.title('Receiver Operating Characteristic (ROC) Curve for ANN')\n",
    "plt.legend(loc=\"lower right\")\n",
    "plt.show()"
   ]
  },
  {
   "cell_type": "code",
   "execution_count": 44,
   "id": "0db560f3",
   "metadata": {},
   "outputs": [
    {
     "name": "stdout",
     "output_type": "stream",
     "text": [
      "Epoch 1/100\n",
      "3937/3937 [==============================] - 7s 2ms/step - loss: 0.0715 - accuracy: 0.9770 - val_loss: 1.2746 - val_accuracy: 0.7662 - lr: 0.0010\n",
      "Epoch 2/100\n",
      "3937/3937 [==============================] - 6s 2ms/step - loss: 0.0462 - accuracy: 0.9856 - val_loss: 1.3412 - val_accuracy: 0.7838 - lr: 0.0010\n",
      "Epoch 3/100\n",
      "3937/3937 [==============================] - 6s 2ms/step - loss: 0.0416 - accuracy: 0.9882 - val_loss: 1.4033 - val_accuracy: 0.7857 - lr: 0.0010\n",
      "Epoch 4/100\n",
      "3937/3937 [==============================] - 6s 2ms/step - loss: 0.0398 - accuracy: 0.9891 - val_loss: 1.3191 - val_accuracy: 0.7787 - lr: 0.0010\n",
      "Epoch 5/100\n",
      "3937/3937 [==============================] - 6s 2ms/step - loss: 0.0374 - accuracy: 0.9897 - val_loss: 1.5625 - val_accuracy: 0.7787 - lr: 0.0010\n",
      "Epoch 6/100\n",
      "3937/3937 [==============================] - 6s 2ms/step - loss: 0.0367 - accuracy: 0.9902 - val_loss: 1.5995 - val_accuracy: 0.7682 - lr: 0.0010\n",
      "Epoch 7/100\n",
      "3937/3937 [==============================] - 6s 2ms/step - loss: 0.0345 - accuracy: 0.9910 - val_loss: 1.5796 - val_accuracy: 0.7754 - lr: 2.0000e-04\n",
      "Epoch 8/100\n",
      "3937/3937 [==============================] - 6s 2ms/step - loss: 0.0333 - accuracy: 0.9915 - val_loss: 1.6155 - val_accuracy: 0.7708 - lr: 2.0000e-04\n",
      "Epoch 9/100\n",
      "3937/3937 [==============================] - 6s 2ms/step - loss: 0.0331 - accuracy: 0.9915 - val_loss: 1.6118 - val_accuracy: 0.7747 - lr: 2.0000e-04\n",
      "Epoch 10/100\n",
      "3937/3937 [==============================] - 6s 2ms/step - loss: 0.0328 - accuracy: 0.9917 - val_loss: 1.6150 - val_accuracy: 0.7693 - lr: 2.0000e-04\n",
      "Epoch 11/100\n",
      "3937/3937 [==============================] - 6s 2ms/step - loss: 0.0331 - accuracy: 0.9919 - val_loss: 1.6082 - val_accuracy: 0.7766 - lr: 2.0000e-04\n",
      "Epoch 12/100\n",
      "3937/3937 [==============================] - 6s 2ms/step - loss: 0.0333 - accuracy: 0.9916 - val_loss: 1.6131 - val_accuracy: 0.7762 - lr: 1.0000e-04\n",
      "Epoch 13/100\n",
      "3937/3937 [==============================] - 6s 2ms/step - loss: 0.0334 - accuracy: 0.9916 - val_loss: 1.6625 - val_accuracy: 0.7742 - lr: 1.0000e-04\n",
      "Epoch 14/100\n",
      "3937/3937 [==============================] - 6s 2ms/step - loss: 0.0327 - accuracy: 0.9919 - val_loss: 1.6588 - val_accuracy: 0.7739 - lr: 1.0000e-04\n",
      "Epoch 15/100\n",
      "3937/3937 [==============================] - 6s 2ms/step - loss: 0.0332 - accuracy: 0.9917 - val_loss: 1.6823 - val_accuracy: 0.7732 - lr: 1.0000e-04\n",
      "Epoch 16/100\n",
      "3937/3937 [==============================] - 6s 2ms/step - loss: 0.0333 - accuracy: 0.9919 - val_loss: 1.6497 - val_accuracy: 0.7728 - lr: 1.0000e-04\n"
     ]
    }
   ],
   "source": [
    "from keras.models import Sequential\n",
    "from keras.layers import Dense, Dropout\n",
    "from keras.optimizers import RMSprop\n",
    "from keras.callbacks import EarlyStopping, ReduceLROnPlateau\n",
    "\n",
    "model_ann = Sequential()\n",
    "\n",
    "# Input layer with dropout\n",
    "model_ann.add(Dense(96, input_dim=X_train.shape[1], activation='relu'))\n",
    "model_ann.add(Dropout(0.4))\n",
    "\n",
    "# Hidden layer with dropout\n",
    "model_ann.add(Dense(48, activation='relu'))\n",
    "model_ann.add(Dropout(0.4))\n",
    "\n",
    "# Output layer\n",
    "model_ann.add(Dense(1, activation='sigmoid'))\n",
    "\n",
    "# Compile the model with RMSprop optimizer\n",
    "optimizer = RMSprop(learning_rate=0.001)\n",
    "model_ann.compile(optimizer=optimizer, loss='binary_crossentropy', metrics=['accuracy'])\n",
    "\n",
    "# Use early stopping and learning rate reduction callbacks\n",
    "early_stopping = EarlyStopping(monitor='val_loss', patience=15, restore_best_weights=True)\n",
    "reduce_lr = ReduceLROnPlateau(monitor='val_loss', factor=0.2, patience=5, min_lr=0.0001)\n",
    "\n",
    "# Train the model\n",
    "history_ann = model_ann.fit(X_train, Y_train, validation_data=(X_validation, Y_validation), epochs=100, batch_size=32, callbacks=[early_stopping, reduce_lr])\n"
   ]
  },
  {
   "cell_type": "code",
   "execution_count": 45,
   "id": "15993d4a",
   "metadata": {},
   "outputs": [
    {
     "name": "stdout",
     "output_type": "stream",
     "text": [
      "353/353 [==============================] - 0s 1ms/step - loss: 1.2746 - accuracy: 0.7662\n",
      "Validation Accuracy: 76.62%\n"
     ]
    }
   ],
   "source": [
    "# Evaluate the model\n",
    "loss, accuracy = model_ann.evaluate(X_validation, Y_validation)\n",
    "print(f\"Validation Accuracy: {accuracy*100:.2f}%\")"
   ]
  },
  {
   "cell_type": "code",
   "execution_count": 46,
   "id": "44859db4",
   "metadata": {},
   "outputs": [
    {
     "data": {
      "image/png": "[encoded data removed]",
      "text/plain": [
       "<Figure size 864x360 with 2 Axes>"
      ]
     },
     "metadata": {
      "needs_background": "light"
     },
     "output_type": "display_data"
    }
   ],
   "source": [
    "import matplotlib.pyplot as plt\n",
    "\n",
    "# Plot training & validation accuracy values\n",
    "plt.figure(figsize=(12, 5))\n",
    "\n",
    "plt.subplot(1, 2, 1)\n",
    "plt.plot(history_ann.history['accuracy'])\n",
    "plt.plot(history_ann.history['val_accuracy'])\n",
    "plt.title('Model accuracy')\n",
    "plt.ylabel('Accuracy')\n",
    "plt.xlabel('Epoch')\n",
    "plt.legend(['Train', 'Validation'], loc='upper left')\n",
    "\n",
    "# Plot training & validation loss values\n",
    "plt.subplot(1, 2, 2)\n",
    "plt.plot(history_ann.history['loss'])\n",
    "plt.plot(history_ann.history['val_loss'])\n",
    "plt.title('Model loss')\n",
    "plt.ylabel('Loss')\n",
    "plt.xlabel('Epoch')\n",
    "plt.legend(['Train', 'Validation'], loc='upper left')\n",
    "\n",
    "plt.tight_layout()\n",
    "plt.show()"
   ]
  },
  {
   "cell_type": "code",
   "execution_count": 47,
   "id": "e032857d",
   "metadata": {
    "scrolled": true
   },
   "outputs": [
    {
     "name": "stdout",
     "output_type": "stream",
     "text": [
      "353/353 [==============================] - 0s 950us/step\n"
     ]
    },
    {
     "data": {
      "image/png": "[encoded data removed]",
      "text/plain": [
       "<Figure size 576x432 with 1 Axes>"
      ]
     },
     "metadata": {
      "needs_background": "light"
     },
     "output_type": "display_data"
    }
   ],
   "source": [
    "from sklearn.metrics import roc_curve, auc\n",
    "import matplotlib.pyplot as plt\n",
    "\n",
    "# Predict probabilities for the positive class\n",
    "probas = model_ann.predict(X_validation).ravel()\n",
    "\n",
    "# Compute ROC curve and AUC\n",
    "fpr, tpr, _ = roc_curve(Y_validation, probas)\n",
    "roc_auc = auc(fpr, tpr)\n",
    "\n",
    "# Plot the ROC curve\n",
    "plt.figure(figsize=(8, 6))\n",
    "plt.plot(fpr, tpr, color='darkorange', lw=2, label=f'ROC curve (AUC = {roc_auc:.2f})')\n",
    "plt.plot([0, 1], [0, 1], color='navy', lw=2, linestyle='--')\n",
    "plt.xlim([0.0, 1.0])\n",
    "plt.ylim([0.0, 1.05])\n",
    "plt.xlabel('False Positive Rate')\n",
    "plt.ylabel('True Positive Rate')\n",
    "plt.title('Receiver Operating Characteristic (ROC) Curve for ANN')\n",
    "plt.legend(loc=\"lower right\")\n",
    "plt.show()"
   ]
  },
  {
   "cell_type": "code",
   "execution_count": 48,
   "id": "593b7ccc",
   "metadata": {},
   "outputs": [],
   "source": [
    "# Concatenate dataset for streaming simulation\n",
    "streaming_df = pd.concat([X_streaming, Y_streaming], axis=1)\n",
    "# Save dataset for streaming simulation\n",
    "streaming_df.to_csv('streaming_data.csv', index=False)"
   ]
  },
  {
   "cell_type": "code",
   "execution_count": null,
   "id": "b87b191b",
   "metadata": {},
   "outputs": [],
   "source": [
    "# Compute the correlation matrix\n",
    "corr_matrix = X_train.corr()\n",
    "\n",
    "# Visualize the correlation matrix using a heatmap\n",
    "plt.figure(figsize=(20, 20))\n",
    "sns.heatmap(corr_matrix, cmap='coolwarm', annot=True, fmt=\".2f\")\n",
    "plt.show()\n",
    "\n",
    "# Identify highly correlated features\n",
    "threshold = 0.9\n",
    "to_drop = []"
   ]
  },
  {
   "cell_type": "code",
   "execution_count": null,
   "id": "8c9946f8",
   "metadata": {},
   "outputs": [],
   "source": [
    "# Iterate over the features (columns)\n",
    "for i in range(len(corr_matrix.columns)):\n",
    "    for j in range(i):\n",
    "        if abs(corr_matrix.iloc[i, j]) > threshold:\n",
    "            colname = corr_matrix.columns[i]\n",
    "            to_drop.append(colname)"
   ]
  },
  {
   "cell_type": "code",
   "execution_count": null,
   "id": "6ddd1c26",
   "metadata": {},
   "outputs": [],
   "source": [
    "# Remove correlated columns\n",
    "X_train = X_train.drop(columns=to_drop)\n",
    "X_validation = X_validation.drop(columns=to_drop)"
   ]
  },
  {
   "cell_type": "code",
   "execution_count": null,
   "id": "83474c01",
   "metadata": {},
   "outputs": [],
   "source": [
    "from keras.models import Sequential\n",
    "from keras.layers import Dense\n",
    "\n",
    "model_ann = Sequential()\n",
    "model_ann.add(Dense(128, input_dim=X_train.shape[1], activation='relu'))\n",
    "model_ann.add(Dense(64, activation='relu'))\n",
    "model_ann.add(Dense(1, activation='sigmoid'))"
   ]
  },
  {
   "cell_type": "code",
   "execution_count": null,
   "id": "1768f05a",
   "metadata": {},
   "outputs": [],
   "source": [
    "model_ann.compile(optimizer='adam', loss='binary_crossentropy', metrics=['accuracy'])"
   ]
  },
  {
   "cell_type": "code",
   "execution_count": null,
   "id": "52a79b24",
   "metadata": {},
   "outputs": [],
   "source": [
    "history_ann = model_ann.fit(X_train, Y_train, validation_data=(X_validation, Y_validation), epochs=10, batch_size=32)\n"
   ]
  },
  {
   "cell_type": "code",
   "execution_count": null,
   "id": "1cffeb7d",
   "metadata": {},
   "outputs": [],
   "source": [
    "# Evaluate the model\n",
    "loss, accuracy = model_ann.evaluate(X_validation, Y_validation)\n",
    "print(f\"Validation Accuracy: {accuracy*100:.2f}%\")"
   ]
  },
  {
   "cell_type": "code",
   "execution_count": null,
   "id": "2be264fc",
   "metadata": {},
   "outputs": [],
   "source": [
    "import matplotlib.pyplot as plt\n",
    "\n",
    "# Plot training & validation accuracy values\n",
    "plt.figure(figsize=(12, 5))\n",
    "\n",
    "plt.subplot(1, 2, 1)\n",
    "plt.plot(history_ann.history['accuracy'])\n",
    "plt.plot(history_ann.history['val_accuracy'])\n",
    "plt.title('Model accuracy')\n",
    "plt.ylabel('Accuracy')\n",
    "plt.xlabel('Epoch')\n",
    "plt.legend(['Train', 'Validation'], loc='upper left')\n",
    "\n",
    "# Plot training & validation loss values\n",
    "plt.subplot(1, 2, 2)\n",
    "plt.plot(history_ann.history['loss'])\n",
    "plt.plot(history_ann.history['val_loss'])\n",
    "plt.title('Model loss')\n",
    "plt.ylabel('Loss')\n",
    "plt.xlabel('Epoch')\n",
    "plt.legend(['Train', 'Validation'], loc='upper left')\n",
    "\n",
    "plt.tight_layout()\n",
    "plt.show()"
   ]
  },
  {
   "cell_type": "code",
   "execution_count": null,
   "id": "ad352067",
   "metadata": {},
   "outputs": [],
   "source": [
    "from sklearn.metrics import roc_curve, auc\n",
    "import matplotlib.pyplot as plt\n",
    "\n",
    "# Predict probabilities for the positive class\n",
    "probas = model_ann.predict(X_validation).ravel()\n",
    "\n",
    "# Compute ROC curve and AUC\n",
    "fpr, tpr, _ = roc_curve(Y_validation, probas)\n",
    "roc_auc = auc(fpr, tpr)\n",
    "\n",
    "# Plot the ROC curve\n",
    "plt.figure(figsize=(8, 6))\n",
    "plt.plot(fpr, tpr, color='darkorange', lw=2, label=f'ROC curve (AUC = {roc_auc:.2f})')\n",
    "plt.plot([0, 1], [0, 1], color='navy', lw=2, linestyle='--')\n",
    "plt.xlim([0.0, 1.0])\n",
    "plt.ylim([0.0, 1.05])\n",
    "plt.xlabel('False Positive Rate')\n",
    "plt.ylabel('True Positive Rate')\n",
    "plt.title('Receiver Operating Characteristic (ROC) Curve for ANN')\n",
    "plt.legend(loc=\"lower right\")\n",
    "plt.show()"
   ]
  },
  {
   "cell_type": "code",
   "execution_count": null,
   "id": "6b0fed2c",
   "metadata": {},
   "outputs": [],
   "source": []
  }
 ],
 "metadata": {
  "kernelspec": {
   "display_name": "Python 3 (ipykernel)",
   "language": "python",
   "name": "python3"
  },
  "language_info": {
   "codemirror_mode": {
    "name": "ipython",
    "version": 3
   },
   "file_extension": ".py",
   "mimetype": "text/x-python",
   "name": "python",
   "nbconvert_exporter": "python",
   "pygments_lexer": "ipython3",
   "version": "3.9.12"
  }
 },
 "nbformat": 4,
 "nbformat_minor": 5
}
