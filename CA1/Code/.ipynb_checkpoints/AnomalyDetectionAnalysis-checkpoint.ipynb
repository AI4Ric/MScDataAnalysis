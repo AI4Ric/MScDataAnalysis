{
 "cells": [
  {
   "cell_type": "code",
   "execution_count": 1,
   "id": "8be82290",
   "metadata": {},
   "outputs": [],
   "source": [
    "# ------------------------------\n",
    "# IMPORTING LIBRARIES\n",
    "# ------------------------------\n",
    "\n",
    "# For numerical operations\n",
    "import numpy as np\n",
    "\n",
    "# For data manipulation and analysis\n",
    "import pandas as pd\n",
    "\n",
    "# For data visualization\n",
    "import matplotlib.pyplot as plt\n",
    "import seaborn as sns\n",
    "\n",
    "# For handling zip files\n",
    "import zipfile"
   ]
  },
  {
   "cell_type": "markdown",
   "id": "14c81068",
   "metadata": {},
   "source": [
    "---\n",
    "\n",
    "## **Dataset Overview**\n",
    "\n",
    "### **NSL-KDD**\n",
    "\n",
    "The NSL-KDD dataset is an enhancement of the widely acknowledged KDD'99 dataset. It has been curated to address some of the inherent problems of the KDD'99 dataset, making it a more suitable option for modern intrusion detection system experiments.\n",
    "\n",
    "**Source:** [UCI Machine Learning Repository - KDD Cup 1999 Data](https://archive.ics.uci.edu/dataset/130/kdd+cup+1999+data)\n",
    "\n",
    "---"
   ]
  },
  {
   "cell_type": "code",
   "execution_count": 2,
   "id": "362d71ae",
   "metadata": {},
   "outputs": [],
   "source": [
    "# Define the path to the zipped dataset\n",
    "zip_file_path = '../Data/NSL-KDD.zip'\n",
    "\n",
    "# Use the `zipfile` library to extract the contents\n",
    "with zipfile.ZipFile(zip_file_path, 'r') as zip_ref:\n",
    "    # Get the list of all files in the zip archive\n",
    "    file_names = zip_ref.namelist()\n",
    "    \n",
    "    # Extract all files to the specified directory\n",
    "    #zip_ref.extractall('../Data/DataSetFiles/')"
   ]
  },
  {
   "cell_type": "code",
   "execution_count": 4,
   "id": "44bd48bb",
   "metadata": {},
   "outputs": [
    {
     "data": {
      "text/plain": [
       "['index.html',\n",
       " 'KDDTest1.jpg',\n",
       " 'KDDTest-21.arff',\n",
       " 'KDDTest-21.txt',\n",
       " 'KDDTest+.arff',\n",
       " 'KDDTest+.txt',\n",
       " 'KDDTrain1.jpg',\n",
       " 'KDDTrain+.arff',\n",
       " 'KDDTrain+.txt',\n",
       " 'KDDTrain+_20Percent.arff',\n",
       " 'KDDTrain+_20Percent.txt']"
      ]
     },
     "execution_count": 4,
     "metadata": {},
     "output_type": "execute_result"
    }
   ],
   "source": [
    "# Display the files names\n",
    "file_names"
   ]
  },
  {
   "cell_type": "markdown",
   "id": "9c427a6f",
   "metadata": {},
   "source": [
    "---\n",
    "\n",
    "### **Loading the Dataset**\n",
    "\n",
    "I will load both the training and testing datasets from the extracted files. These datasets will be used for subsequent analysis and model training/testing.\n",
    "\n",
    "---"
   ]
  },
  {
   "cell_type": "code",
   "execution_count": 5,
   "id": "cb2152e1",
   "metadata": {},
   "outputs": [],
   "source": [
    "# Load the training dataset\n",
    "df_train = pd.read_csv('../Data/DataSetFiles/KDDTrain+.txt', header=None)\n",
    "\n",
    "# Load the testing dataset\n",
    "df_test = pd.read_csv('../Data/DataSetFiles/KDDTest+.txt', header=None)"
   ]
  },
  {
   "cell_type": "markdown",
   "id": "02c0a5f5",
   "metadata": {},
   "source": [
    "---\n",
    "\n",
    "### **Dataset Attributes Overview**\n",
    "\n",
    "The NSL-KDD dataset consists of records that have 41 different features. These features capture various aspects of network connections, such as protocol type, service, flag, and byte counts. Additionally, each record has information on the type of attack and its severity level.\n",
    "\n",
    "The features in each record are ordered as follows:\n",
    "\n",
    "- **Basic features of individual TCP connections:**  \n",
    "  `duration`, `protocol_type`, `service`, `flag`, `src_bytes`, `dst_bytes`\n",
    "  \n",
    "- **Content features within a connection suggested by domain knowledge:**  \n",
    "  `land`, `wrong_fragment`, `urgent`, `hot`, `num_failed_logins`, `logged_in`, `num_compromised`, `root_shell`, `su_attempted`, `num_root`, `num_file_creations`, `num_shells`, `num_access_files`, `num_outbound_cmds`\n",
    "  \n",
    "- **Traffic features computed using a two-second time window:**  \n",
    "  `is_host_login`, `is_guest_login`, `count`, `srv_count`, `serror_rate`, `srv_serror_rate`, `rerror_rate`, `srv_rerror_rate`, `same_srv_rate`, `diff_srv_rate`, `srv_diff_host_rate`\n",
    "\n",
    "- **Traffic features computed with respect to the host:**  \n",
    "  `dst_host_count`, `dst_host_srv_count`, `dst_host_same_srv_rate`, `dst_host_diff_srv_rate`, `dst_host_same_src_port_rate`, `dst_host_srv_diff_host_rate`, `dst_host_serror_rate`, `dst_host_srv_serror_rate`, `dst_host_rerror_rate`, `dst_host_srv_rerror_rate`\n",
    "\n",
    "- **Outcome:**  \n",
    "  `attack`, `level`\n",
    "\n",
    "---\n"
   ]
  },
  {
   "cell_type": "code",
   "execution_count": 6,
   "id": "f3af56fb",
   "metadata": {},
   "outputs": [],
   "source": [
    "# To make the dataset more comprehensible, I will assign appropriate column names to each of the features \n",
    "# in the dataset. These column names correspond to the attributes discussed in the previous section.\n",
    "columns = (['duration','protocol_type','service','flag','src_bytes','dst_bytes','land','wrong_fragment','urgent','hot','num_failed_logins','logged_in','num_compromised','root_shell','su_attempted'\n",
    ",'num_root','num_file_creations','num_shells','num_access_files','num_outbound_cmds','is_host_login','is_guest_login','count','srv_count','serror_rate','srv_serror_rate','rerror_rate','srv_rerror_rate','same_srv_rate','diff_srv_rate'\n",
    ",'srv_diff_host_rate','dst_host_count','dst_host_srv_count','dst_host_same_srv_rate','dst_host_diff_srv_rate','dst_host_same_src_port_rate','dst_host_srv_diff_host_rate','dst_host_serror_rate',\n",
    "'dst_host_srv_serror_rate','dst_host_rerror_rate','dst_host_srv_rerror_rate','attack','level'])"
   ]
  },
  {
   "cell_type": "code",
   "execution_count": 7,
   "id": "63b3d11a",
   "metadata": {},
   "outputs": [],
   "source": [
    "# Assigning column names to the training dataset\n",
    "df_train.columns = columns\n",
    "\n",
    "# Assigning column names to the testing dataset\n",
    "df_test.columns = columns"
   ]
  },
  {
   "cell_type": "code",
   "execution_count": 8,
   "id": "91b21e00",
   "metadata": {},
   "outputs": [
    {
     "name": "stdout",
     "output_type": "stream",
     "text": [
      "<class 'pandas.core.frame.DataFrame'>\n",
      "RangeIndex: 125973 entries, 0 to 125972\n",
      "Data columns (total 43 columns):\n",
      " #   Column                       Non-Null Count   Dtype  \n",
      "---  ------                       --------------   -----  \n",
      " 0   duration                     125973 non-null  int64  \n",
      " 1   protocol_type                125973 non-null  object \n",
      " 2   service                      125973 non-null  object \n",
      " 3   flag                         125973 non-null  object \n",
      " 4   src_bytes                    125973 non-null  int64  \n",
      " 5   dst_bytes                    125973 non-null  int64  \n",
      " 6   land                         125973 non-null  int64  \n",
      " 7   wrong_fragment               125973 non-null  int64  \n",
      " 8   urgent                       125973 non-null  int64  \n",
      " 9   hot                          125973 non-null  int64  \n",
      " 10  num_failed_logins            125973 non-null  int64  \n",
      " 11  logged_in                    125973 non-null  int64  \n",
      " 12  num_compromised              125973 non-null  int64  \n",
      " 13  root_shell                   125973 non-null  int64  \n",
      " 14  su_attempted                 125973 non-null  int64  \n",
      " 15  num_root                     125973 non-null  int64  \n",
      " 16  num_file_creations           125973 non-null  int64  \n",
      " 17  num_shells                   125973 non-null  int64  \n",
      " 18  num_access_files             125973 non-null  int64  \n",
      " 19  num_outbound_cmds            125973 non-null  int64  \n",
      " 20  is_host_login                125973 non-null  int64  \n",
      " 21  is_guest_login               125973 non-null  int64  \n",
      " 22  count                        125973 non-null  int64  \n",
      " 23  srv_count                    125973 non-null  int64  \n",
      " 24  serror_rate                  125973 non-null  float64\n",
      " 25  srv_serror_rate              125973 non-null  float64\n",
      " 26  rerror_rate                  125973 non-null  float64\n",
      " 27  srv_rerror_rate              125973 non-null  float64\n",
      " 28  same_srv_rate                125973 non-null  float64\n",
      " 29  diff_srv_rate                125973 non-null  float64\n",
      " 30  srv_diff_host_rate           125973 non-null  float64\n",
      " 31  dst_host_count               125973 non-null  int64  \n",
      " 32  dst_host_srv_count           125973 non-null  int64  \n",
      " 33  dst_host_same_srv_rate       125973 non-null  float64\n",
      " 34  dst_host_diff_srv_rate       125973 non-null  float64\n",
      " 35  dst_host_same_src_port_rate  125973 non-null  float64\n",
      " 36  dst_host_srv_diff_host_rate  125973 non-null  float64\n",
      " 37  dst_host_serror_rate         125973 non-null  float64\n",
      " 38  dst_host_srv_serror_rate     125973 non-null  float64\n",
      " 39  dst_host_rerror_rate         125973 non-null  float64\n",
      " 40  dst_host_srv_rerror_rate     125973 non-null  float64\n",
      " 41  attack                       125973 non-null  object \n",
      " 42  level                        125973 non-null  int64  \n",
      "dtypes: float64(15), int64(24), object(4)\n",
      "memory usage: 41.3+ MB\n"
     ]
    }
   ],
   "source": [
    "# look at the basic structure of the training dataset. \n",
    "# data types of each column, number of non-null values, and memory usage.\n",
    "\n",
    "df_train.info()"
   ]
  },
  {
   "cell_type": "markdown",
   "id": "f6ba20a6",
   "metadata": {},
   "source": [
    "---\n",
    "\n",
    "### **Attribute Value Types in the Dataset**\n",
    "\n",
    "Upon inspection, I can identify that the attributes in our dataset fall into three distinct value types:\n",
    "\n",
    "1. **Nominal Attributes:** These are categorical attributes that have two or more categories without any kind of order or priority.\n",
    "   \n",
    "2. **Binary Attributes:** These attributes take on one of two possible outcomes, typically represented as 0 or 1.\n",
    "\n",
    "3. **Numeric Attributes:** These are quantitative attributes and represent measurable quantities.\n",
    "\n",
    "Understanding these types will be crucial when preprocessing the data and selecting appropriate methods for analysis.\n",
    "\n",
    "---"
   ]
  },
  {
   "cell_type": "markdown",
   "id": "d242b0dc",
   "metadata": {},
   "source": [
    "### **Inspecting Unique Values for each attribute**\n",
    "\n",
    "To ensure consistency between the training and testing datasets, it's essential to verify if both datasets have the same unique values for categorical attributes. In this section, I will inspect the unique values of the categorical attributes in both datasets."
   ]
  },
  {
   "cell_type": "code",
   "execution_count": 9,
   "id": "9a0a93cc",
   "metadata": {},
   "outputs": [
    {
     "name": "stdout",
     "output_type": "stream",
     "text": [
      "Training dataset 'protocol_type' unique values: ['tcp' 'udp' 'icmp']\n",
      "Testing dataset 'protocol_type' unique values: ['tcp' 'icmp' 'udp']\n"
     ]
    }
   ],
   "source": [
    "# Displaying unique values for 'protocol_type' in the training dataset\n",
    "print(\"Training dataset 'protocol_type' unique values:\", df_train['protocol_type'].unique())\n",
    "\n",
    "# Displaying unique values for 'protocol_type' in the testing dataset\n",
    "print(\"Testing dataset 'protocol_type' unique values:\", df_test['protocol_type'].unique())"
   ]
  },
  {
   "cell_type": "code",
   "execution_count": 10,
   "id": "4a075f2e",
   "metadata": {},
   "outputs": [
    {
     "name": "stdout",
     "output_type": "stream",
     "text": [
      "Training dataset 'service' unique values: ['ftp_data' 'other' 'private' 'http' 'remote_job' 'name' 'netbios_ns'\n",
      " 'eco_i' 'mtp' 'telnet' 'finger' 'domain_u' 'supdup' 'uucp_path' 'Z39_50'\n",
      " 'smtp' 'csnet_ns' 'uucp' 'netbios_dgm' 'urp_i' 'auth' 'domain' 'ftp'\n",
      " 'bgp' 'ldap' 'ecr_i' 'gopher' 'vmnet' 'systat' 'http_443' 'efs' 'whois'\n",
      " 'imap4' 'iso_tsap' 'echo' 'klogin' 'link' 'sunrpc' 'login' 'kshell'\n",
      " 'sql_net' 'time' 'hostnames' 'exec' 'ntp_u' 'discard' 'nntp' 'courier'\n",
      " 'ctf' 'ssh' 'daytime' 'shell' 'netstat' 'pop_3' 'nnsp' 'IRC' 'pop_2'\n",
      " 'printer' 'tim_i' 'pm_dump' 'red_i' 'netbios_ssn' 'rje' 'X11' 'urh_i'\n",
      " 'http_8001' 'aol' 'http_2784' 'tftp_u' 'harvest']\n",
      "Testing dataset 'service' unique values: ['private' 'ftp_data' 'eco_i' 'telnet' 'http' 'smtp' 'ftp' 'ldap' 'pop_3'\n",
      " 'courier' 'discard' 'ecr_i' 'imap4' 'domain_u' 'mtp' 'systat' 'iso_tsap'\n",
      " 'other' 'csnet_ns' 'finger' 'uucp' 'whois' 'netbios_ns' 'link' 'Z39_50'\n",
      " 'sunrpc' 'auth' 'netbios_dgm' 'uucp_path' 'vmnet' 'domain' 'name' 'pop_2'\n",
      " 'http_443' 'urp_i' 'login' 'gopher' 'exec' 'time' 'remote_job' 'ssh'\n",
      " 'kshell' 'sql_net' 'shell' 'hostnames' 'echo' 'daytime' 'pm_dump' 'IRC'\n",
      " 'netstat' 'ctf' 'nntp' 'netbios_ssn' 'tim_i' 'supdup' 'bgp' 'nnsp' 'rje'\n",
      " 'printer' 'efs' 'X11' 'ntp_u' 'klogin' 'tftp_u']\n"
     ]
    }
   ],
   "source": [
    "# Displaying unique values for 'service' in the training dataset\n",
    "print(\"Training dataset 'service' unique values:\", df_train['service'].unique())\n",
    "\n",
    "# Displaying unique values for 'service' in the testing dataset\n",
    "print(\"Testing dataset 'service' unique values:\", df_test['service'].unique())"
   ]
  },
  {
   "cell_type": "markdown",
   "id": "c5f2bb97",
   "metadata": {},
   "source": [
    "Given the large number of unique values in the `service` attribute, listing them all might be overwhelming. Instead, I will compare the count of unique values in both the training and testing datasets. This will help to quickly identify any discrepancies between the datasets."
   ]
  },
  {
   "cell_type": "code",
   "execution_count": 11,
   "id": "c5c961bc",
   "metadata": {},
   "outputs": [
    {
     "name": "stdout",
     "output_type": "stream",
     "text": [
      "Number of unique 'service' values in the training dataset: 70\n",
      "Number of unique 'service' values in the testing dataset: 64\n"
     ]
    }
   ],
   "source": [
    "# Displaying count of unique values for 'service' in the training dataset\n",
    "print(\"Number of unique 'service' values in the training dataset:\", df_train['service'].nunique())\n",
    "\n",
    "# Displaying count of unique values for 'service' in the testing dataset\n",
    "print(\"Number of unique 'service' values in the testing dataset:\", df_test['service'].nunique())"
   ]
  },
  {
   "cell_type": "code",
   "execution_count": 12,
   "id": "08e6d4e6",
   "metadata": {},
   "outputs": [
    {
     "name": "stdout",
     "output_type": "stream",
     "text": [
      "Training dataset 'flag' unique values: ['SF' 'S0' 'REJ' 'RSTR' 'SH' 'RSTO' 'S1' 'RSTOS0' 'S3' 'S2' 'OTH']\n",
      "Testing dataset 'flag' unique values: ['REJ' 'SF' 'RSTO' 'S0' 'RSTR' 'SH' 'S3' 'S2' 'S1' 'RSTOS0' 'OTH']\n"
     ]
    }
   ],
   "source": [
    "# Displaying unique values for 'flag' in the training dataset\n",
    "print(\"Training dataset 'flag' unique values:\", df_train['flag'].unique())\n",
    "\n",
    "# Displaying unique values for 'flag' in the testing dataset\n",
    "print(\"Testing dataset 'flag' unique values:\", df_test['flag'].unique())"
   ]
  },
  {
   "cell_type": "code",
   "execution_count": 13,
   "id": "62b17d06",
   "metadata": {},
   "outputs": [
    {
     "name": "stdout",
     "output_type": "stream",
     "text": [
      "Training dataset 'attack' unique values: ['normal' 'neptune' 'warezclient' 'ipsweep' 'portsweep' 'teardrop' 'nmap'\n",
      " 'satan' 'smurf' 'pod' 'back' 'guess_passwd' 'ftp_write' 'multihop'\n",
      " 'rootkit' 'buffer_overflow' 'imap' 'warezmaster' 'phf' 'land'\n",
      " 'loadmodule' 'spy' 'perl']\n",
      "Testing dataset 'attack' unique values: ['neptune' 'normal' 'saint' 'mscan' 'guess_passwd' 'smurf' 'apache2'\n",
      " 'satan' 'buffer_overflow' 'back' 'warezmaster' 'snmpgetattack'\n",
      " 'processtable' 'pod' 'httptunnel' 'nmap' 'ps' 'snmpguess' 'ipsweep'\n",
      " 'mailbomb' 'portsweep' 'multihop' 'named' 'sendmail' 'loadmodule' 'xterm'\n",
      " 'worm' 'teardrop' 'rootkit' 'xlock' 'perl' 'land' 'xsnoop' 'sqlattack'\n",
      " 'ftp_write' 'imap' 'udpstorm' 'phf']\n"
     ]
    }
   ],
   "source": [
    "# Displaying unique values for 'attack' in the training dataset\n",
    "print(\"Training dataset 'attack' unique values:\", df_train['attack'].unique())\n",
    "\n",
    "# Displaying unique values for 'attack' in the testing dataset\n",
    "print(\"Testing dataset 'attack' unique values:\", df_test['attack'].unique())"
   ]
  },
  {
   "cell_type": "code",
   "execution_count": 14,
   "id": "66deaa60",
   "metadata": {},
   "outputs": [
    {
     "name": "stdout",
     "output_type": "stream",
     "text": [
      "Number of unique 'attack' values in the training dataset: 23\n",
      "Number of unique 'attack' values in the testing dataset: 38\n"
     ]
    }
   ],
   "source": [
    "# Displaying count of unique values for 'service' in the training dataset\n",
    "print(\"Number of unique 'attack' values in the training dataset:\", df_train['attack'].nunique())\n",
    "\n",
    "# Displaying count of unique values for 'service' in the testing dataset\n",
    "print(\"Number of unique 'attack' values in the testing dataset:\", df_test['attack'].nunique())"
   ]
  },
  {
   "cell_type": "code",
   "execution_count": 15,
   "id": "884a301a",
   "metadata": {
    "scrolled": true
   },
   "outputs": [
    {
     "name": "stdout",
     "output_type": "stream",
     "text": [
      "Training dataset size: 125973 rows and 43 columns\n",
      "Testing dataset size: 22544 rows and 43 columns\n"
     ]
    }
   ],
   "source": [
    "# Displaying the size of the training dataset\n",
    "train_size = df_train.shape\n",
    "print(f\"Training dataset size: {train_size[0]} rows and {train_size[1]} columns\")\n",
    "\n",
    "# Displaying the size of the testing dataset\n",
    "test_size = df_test.shape\n",
    "print(f\"Testing dataset size: {test_size[0]} rows and {test_size[1]} columns\")"
   ]
  },
  {
   "cell_type": "markdown",
   "id": "73f5ffa9",
   "metadata": {},
   "source": [
    "---\n",
    "\n",
    "### **Merging Training and Testing Datasets**\n",
    "\n",
    "During the exploratory analysis, I identified discrepancies in some of the categorical attributes between the training and testing datasets. Such discrepancies can lead to issues during data preprocessing, especially when techniques like one-hot encoding are employed. If not addressed, the model might be trained without knowledge of some categories present only in the testing data, potentially affecting its performance.\n",
    "\n",
    "To address this, I will merge both datasets into a single DataFrame. This ensures that during any preprocessing, all possible categories are considered, guaranteeing consistent transformations across both datasets. \n",
    "\n",
    "---\n"
   ]
  },
  {
   "cell_type": "code",
   "execution_count": 16,
   "id": "ce2e1670",
   "metadata": {},
   "outputs": [],
   "source": [
    "# Merging the training and testing datasets\n",
    "combined_df = pd.concat([df_train, df_test], axis=0, ignore_index=True)"
   ]
  },
  {
   "cell_type": "markdown",
   "id": "f33fe30c",
   "metadata": {},
   "source": [
    "---\n",
    "\n",
    "### **Statistical Summary of the Combined Dataset**\n",
    "\n",
    "After merging the datasets, it's beneficial to obtain a statistical summary of the combined data. This provides insights into the distribution, central tendency, and spread of the numeric attributes across the entire dataset."
   ]
  },
  {
   "cell_type": "code",
   "execution_count": 17,
   "id": "0e2eef0a",
   "metadata": {},
   "outputs": [
    {
     "data": {
      "text/html": [
       "<div>\n",
       "<style scoped>\n",
       "    .dataframe tbody tr th:only-of-type {\n",
       "        vertical-align: middle;\n",
       "    }\n",
       "\n",
       "    .dataframe tbody tr th {\n",
       "        vertical-align: top;\n",
       "    }\n",
       "\n",
       "    .dataframe thead th {\n",
       "        text-align: right;\n",
       "    }\n",
       "</style>\n",
       "<table border=\"1\" class=\"dataframe\">\n",
       "  <thead>\n",
       "    <tr style=\"text-align: right;\">\n",
       "      <th></th>\n",
       "      <th>duration</th>\n",
       "      <th>src_bytes</th>\n",
       "      <th>dst_bytes</th>\n",
       "      <th>land</th>\n",
       "      <th>wrong_fragment</th>\n",
       "      <th>urgent</th>\n",
       "      <th>hot</th>\n",
       "      <th>num_failed_logins</th>\n",
       "      <th>logged_in</th>\n",
       "      <th>num_compromised</th>\n",
       "      <th>...</th>\n",
       "      <th>dst_host_srv_count</th>\n",
       "      <th>dst_host_same_srv_rate</th>\n",
       "      <th>dst_host_diff_srv_rate</th>\n",
       "      <th>dst_host_same_src_port_rate</th>\n",
       "      <th>dst_host_srv_diff_host_rate</th>\n",
       "      <th>dst_host_serror_rate</th>\n",
       "      <th>dst_host_srv_serror_rate</th>\n",
       "      <th>dst_host_rerror_rate</th>\n",
       "      <th>dst_host_srv_rerror_rate</th>\n",
       "      <th>level</th>\n",
       "    </tr>\n",
       "  </thead>\n",
       "  <tbody>\n",
       "    <tr>\n",
       "      <th>count</th>\n",
       "      <td>148517.000000</td>\n",
       "      <td>1.485170e+05</td>\n",
       "      <td>1.485170e+05</td>\n",
       "      <td>148517.000000</td>\n",
       "      <td>148517.000000</td>\n",
       "      <td>148517.000000</td>\n",
       "      <td>148517.000000</td>\n",
       "      <td>148517.000000</td>\n",
       "      <td>148517.000000</td>\n",
       "      <td>148517.000000</td>\n",
       "      <td>...</td>\n",
       "      <td>148517.000000</td>\n",
       "      <td>148517.000000</td>\n",
       "      <td>148517.000000</td>\n",
       "      <td>148517.000000</td>\n",
       "      <td>148517.000000</td>\n",
       "      <td>148517.000000</td>\n",
       "      <td>148517.000000</td>\n",
       "      <td>148517.000000</td>\n",
       "      <td>148517.000000</td>\n",
       "      <td>148517.000000</td>\n",
       "    </tr>\n",
       "    <tr>\n",
       "      <th>mean</th>\n",
       "      <td>276.779305</td>\n",
       "      <td>4.022795e+04</td>\n",
       "      <td>1.708885e+04</td>\n",
       "      <td>0.000215</td>\n",
       "      <td>0.020523</td>\n",
       "      <td>0.000202</td>\n",
       "      <td>0.189379</td>\n",
       "      <td>0.004323</td>\n",
       "      <td>0.402789</td>\n",
       "      <td>0.255062</td>\n",
       "      <td>...</td>\n",
       "      <td>119.462661</td>\n",
       "      <td>0.534521</td>\n",
       "      <td>0.084103</td>\n",
       "      <td>0.145932</td>\n",
       "      <td>0.030584</td>\n",
       "      <td>0.256122</td>\n",
       "      <td>0.251304</td>\n",
       "      <td>0.136220</td>\n",
       "      <td>0.136397</td>\n",
       "      <td>19.278480</td>\n",
       "    </tr>\n",
       "    <tr>\n",
       "      <th>std</th>\n",
       "      <td>2460.683131</td>\n",
       "      <td>5.409612e+06</td>\n",
       "      <td>3.703525e+06</td>\n",
       "      <td>0.014677</td>\n",
       "      <td>0.240069</td>\n",
       "      <td>0.019417</td>\n",
       "      <td>2.013160</td>\n",
       "      <td>0.072248</td>\n",
       "      <td>0.490461</td>\n",
       "      <td>22.231375</td>\n",
       "      <td>...</td>\n",
       "      <td>111.232318</td>\n",
       "      <td>0.448061</td>\n",
       "      <td>0.194102</td>\n",
       "      <td>0.308638</td>\n",
       "      <td>0.108975</td>\n",
       "      <td>0.428500</td>\n",
       "      <td>0.429719</td>\n",
       "      <td>0.322741</td>\n",
       "      <td>0.335282</td>\n",
       "      <td>2.739757</td>\n",
       "    </tr>\n",
       "    <tr>\n",
       "      <th>min</th>\n",
       "      <td>0.000000</td>\n",
       "      <td>0.000000e+00</td>\n",
       "      <td>0.000000e+00</td>\n",
       "      <td>0.000000</td>\n",
       "      <td>0.000000</td>\n",
       "      <td>0.000000</td>\n",
       "      <td>0.000000</td>\n",
       "      <td>0.000000</td>\n",
       "      <td>0.000000</td>\n",
       "      <td>0.000000</td>\n",
       "      <td>...</td>\n",
       "      <td>0.000000</td>\n",
       "      <td>0.000000</td>\n",
       "      <td>0.000000</td>\n",
       "      <td>0.000000</td>\n",
       "      <td>0.000000</td>\n",
       "      <td>0.000000</td>\n",
       "      <td>0.000000</td>\n",
       "      <td>0.000000</td>\n",
       "      <td>0.000000</td>\n",
       "      <td>0.000000</td>\n",
       "    </tr>\n",
       "    <tr>\n",
       "      <th>25%</th>\n",
       "      <td>0.000000</td>\n",
       "      <td>0.000000e+00</td>\n",
       "      <td>0.000000e+00</td>\n",
       "      <td>0.000000</td>\n",
       "      <td>0.000000</td>\n",
       "      <td>0.000000</td>\n",
       "      <td>0.000000</td>\n",
       "      <td>0.000000</td>\n",
       "      <td>0.000000</td>\n",
       "      <td>0.000000</td>\n",
       "      <td>...</td>\n",
       "      <td>11.000000</td>\n",
       "      <td>0.050000</td>\n",
       "      <td>0.000000</td>\n",
       "      <td>0.000000</td>\n",
       "      <td>0.000000</td>\n",
       "      <td>0.000000</td>\n",
       "      <td>0.000000</td>\n",
       "      <td>0.000000</td>\n",
       "      <td>0.000000</td>\n",
       "      <td>18.000000</td>\n",
       "    </tr>\n",
       "    <tr>\n",
       "      <th>50%</th>\n",
       "      <td>0.000000</td>\n",
       "      <td>4.400000e+01</td>\n",
       "      <td>0.000000e+00</td>\n",
       "      <td>0.000000</td>\n",
       "      <td>0.000000</td>\n",
       "      <td>0.000000</td>\n",
       "      <td>0.000000</td>\n",
       "      <td>0.000000</td>\n",
       "      <td>0.000000</td>\n",
       "      <td>0.000000</td>\n",
       "      <td>...</td>\n",
       "      <td>72.000000</td>\n",
       "      <td>0.600000</td>\n",
       "      <td>0.020000</td>\n",
       "      <td>0.000000</td>\n",
       "      <td>0.000000</td>\n",
       "      <td>0.000000</td>\n",
       "      <td>0.000000</td>\n",
       "      <td>0.000000</td>\n",
       "      <td>0.000000</td>\n",
       "      <td>20.000000</td>\n",
       "    </tr>\n",
       "    <tr>\n",
       "      <th>75%</th>\n",
       "      <td>0.000000</td>\n",
       "      <td>2.780000e+02</td>\n",
       "      <td>5.710000e+02</td>\n",
       "      <td>0.000000</td>\n",
       "      <td>0.000000</td>\n",
       "      <td>0.000000</td>\n",
       "      <td>0.000000</td>\n",
       "      <td>0.000000</td>\n",
       "      <td>1.000000</td>\n",
       "      <td>0.000000</td>\n",
       "      <td>...</td>\n",
       "      <td>255.000000</td>\n",
       "      <td>1.000000</td>\n",
       "      <td>0.070000</td>\n",
       "      <td>0.050000</td>\n",
       "      <td>0.010000</td>\n",
       "      <td>0.600000</td>\n",
       "      <td>0.500000</td>\n",
       "      <td>0.000000</td>\n",
       "      <td>0.000000</td>\n",
       "      <td>21.000000</td>\n",
       "    </tr>\n",
       "    <tr>\n",
       "      <th>max</th>\n",
       "      <td>57715.000000</td>\n",
       "      <td>1.379964e+09</td>\n",
       "      <td>1.309937e+09</td>\n",
       "      <td>1.000000</td>\n",
       "      <td>3.000000</td>\n",
       "      <td>3.000000</td>\n",
       "      <td>101.000000</td>\n",
       "      <td>5.000000</td>\n",
       "      <td>1.000000</td>\n",
       "      <td>7479.000000</td>\n",
       "      <td>...</td>\n",
       "      <td>255.000000</td>\n",
       "      <td>1.000000</td>\n",
       "      <td>1.000000</td>\n",
       "      <td>1.000000</td>\n",
       "      <td>1.000000</td>\n",
       "      <td>1.000000</td>\n",
       "      <td>1.000000</td>\n",
       "      <td>1.000000</td>\n",
       "      <td>1.000000</td>\n",
       "      <td>21.000000</td>\n",
       "    </tr>\n",
       "  </tbody>\n",
       "</table>\n",
       "<p>8 rows × 39 columns</p>\n",
       "</div>"
      ],
      "text/plain": [
       "            duration     src_bytes     dst_bytes           land  \\\n",
       "count  148517.000000  1.485170e+05  1.485170e+05  148517.000000   \n",
       "mean      276.779305  4.022795e+04  1.708885e+04       0.000215   \n",
       "std      2460.683131  5.409612e+06  3.703525e+06       0.014677   \n",
       "min         0.000000  0.000000e+00  0.000000e+00       0.000000   \n",
       "25%         0.000000  0.000000e+00  0.000000e+00       0.000000   \n",
       "50%         0.000000  4.400000e+01  0.000000e+00       0.000000   \n",
       "75%         0.000000  2.780000e+02  5.710000e+02       0.000000   \n",
       "max     57715.000000  1.379964e+09  1.309937e+09       1.000000   \n",
       "\n",
       "       wrong_fragment         urgent            hot  num_failed_logins  \\\n",
       "count   148517.000000  148517.000000  148517.000000      148517.000000   \n",
       "mean         0.020523       0.000202       0.189379           0.004323   \n",
       "std          0.240069       0.019417       2.013160           0.072248   \n",
       "min          0.000000       0.000000       0.000000           0.000000   \n",
       "25%          0.000000       0.000000       0.000000           0.000000   \n",
       "50%          0.000000       0.000000       0.000000           0.000000   \n",
       "75%          0.000000       0.000000       0.000000           0.000000   \n",
       "max          3.000000       3.000000     101.000000           5.000000   \n",
       "\n",
       "           logged_in  num_compromised  ...  dst_host_srv_count  \\\n",
       "count  148517.000000    148517.000000  ...       148517.000000   \n",
       "mean        0.402789         0.255062  ...          119.462661   \n",
       "std         0.490461        22.231375  ...          111.232318   \n",
       "min         0.000000         0.000000  ...            0.000000   \n",
       "25%         0.000000         0.000000  ...           11.000000   \n",
       "50%         0.000000         0.000000  ...           72.000000   \n",
       "75%         1.000000         0.000000  ...          255.000000   \n",
       "max         1.000000      7479.000000  ...          255.000000   \n",
       "\n",
       "       dst_host_same_srv_rate  dst_host_diff_srv_rate  \\\n",
       "count           148517.000000           148517.000000   \n",
       "mean                 0.534521                0.084103   \n",
       "std                  0.448061                0.194102   \n",
       "min                  0.000000                0.000000   \n",
       "25%                  0.050000                0.000000   \n",
       "50%                  0.600000                0.020000   \n",
       "75%                  1.000000                0.070000   \n",
       "max                  1.000000                1.000000   \n",
       "\n",
       "       dst_host_same_src_port_rate  dst_host_srv_diff_host_rate  \\\n",
       "count                148517.000000                148517.000000   \n",
       "mean                      0.145932                     0.030584   \n",
       "std                       0.308638                     0.108975   \n",
       "min                       0.000000                     0.000000   \n",
       "25%                       0.000000                     0.000000   \n",
       "50%                       0.000000                     0.000000   \n",
       "75%                       0.050000                     0.010000   \n",
       "max                       1.000000                     1.000000   \n",
       "\n",
       "       dst_host_serror_rate  dst_host_srv_serror_rate  dst_host_rerror_rate  \\\n",
       "count         148517.000000             148517.000000         148517.000000   \n",
       "mean               0.256122                  0.251304              0.136220   \n",
       "std                0.428500                  0.429719              0.322741   \n",
       "min                0.000000                  0.000000              0.000000   \n",
       "25%                0.000000                  0.000000              0.000000   \n",
       "50%                0.000000                  0.000000              0.000000   \n",
       "75%                0.600000                  0.500000              0.000000   \n",
       "max                1.000000                  1.000000              1.000000   \n",
       "\n",
       "       dst_host_srv_rerror_rate          level  \n",
       "count             148517.000000  148517.000000  \n",
       "mean                   0.136397      19.278480  \n",
       "std                    0.335282       2.739757  \n",
       "min                    0.000000       0.000000  \n",
       "25%                    0.000000      18.000000  \n",
       "50%                    0.000000      20.000000  \n",
       "75%                    0.000000      21.000000  \n",
       "max                    1.000000      21.000000  \n",
       "\n",
       "[8 rows x 39 columns]"
      ]
     },
     "execution_count": 17,
     "metadata": {},
     "output_type": "execute_result"
    }
   ],
   "source": [
    "combined_df.describe()"
   ]
  },
  {
   "cell_type": "markdown",
   "id": "544e382b",
   "metadata": {},
   "source": [
    "---\n",
    "\n",
    "### **Attributes Dictionary**\n",
    "\n",
    "Each record in the dataset is characterized by the following attributes:\n",
    "\n",
    "- **duration**: Real number\n",
    "- **protocol_type**: Categorical {'tcp', 'udp', 'icmp'}\n",
    "- **service**: Categorical {'ftp_data' 'other' 'private' 'http' 'remote_job' 'name' 'netbios_ns' 'eco_i' 'mtp' 'telnet' 'finger' 'domain_u' 'supdup' 'uucp_path' 'Z39_50' 'smtp' 'csnet_ns' 'uucp' 'netbios_dgm' 'urp_i' 'auth' 'domain' 'ftp''bgp' 'ldap' 'ecr_i' 'gopher' 'vmnet' 'systat' 'http_443' 'efs' 'whois' 'imap4' 'iso_tsap' 'echo' 'klogin' 'link' 'sunrpc' 'login' 'kshell' 'sql_net' 'time' 'hostnames' 'exec' 'ntp_u' 'discard' 'nntp' 'courier' 'ctf' 'ssh' 'daytime' 'shell' 'netstat' 'pop_3' 'nnsp' 'IRC' 'pop_2' 'printer' 'tim_i' 'pm_dump' 'red_i' 'netbios_ssn' 'rje' 'X11' 'urh_i' 'http_8001' 'aol' 'http_2784' 'tftp_u' 'harvest'} \n",
    "- **flag**: Categorical { 'SF' 'S0' 'REJ' 'RSTR' 'SH' 'RSTO' 'S1' 'RSTOS0' 'S3' 'S2' 'OTH'}\n",
    "- **src_bytes**: Real number\n",
    "- **dst_bytes**: Real number\n",
    "- **land**: Binary {'0', '1'}\n",
    "- **wrong_fragment**: Real number\n",
    "- **urgent**: Real number\n",
    "- **hot**: Real number\n",
    "- **num_failed_logins**: Real number\n",
    "- **logged_in**: Binary {'0', '1'}\n",
    "- **num_compromised**: Real number\n",
    "- **root_shell**: Real number\n",
    "- **su_attempted**: Real number\n",
    "- **num_root**: Real number\n",
    "- **num_file_creations**: Real number\n",
    "- **num_shells**: Real number\n",
    "- **num_access_files**: Real number\n",
    "- **num_outbound_cmds**: Real number\n",
    "- **is_host_login**: Binary {'0', '1'}\n",
    "- **is_guest_login**: Binary {'0', '1'}\n",
    "- **count**: Real number\n",
    "- **srv_count**: Real number\n",
    "- **serror_rate**: Real number\n",
    "- **srv_serror_rate**: Real number\n",
    "- **rerror_rate**: Real number\n",
    "- **srv_rerror_rate**: Real number\n",
    "- **same_srv_rate**: Real number\n",
    "- **diff_srv_rate**: Real number\n",
    "- **srv_diff_host_rate**: Real number\n",
    "- **dst_host_count**: Real number\n",
    "- **dst_host_srv_count**: Real number\n",
    "- **dst_host_same_srv_rate**: Real number\n",
    "- **dst_host_diff_srv_rate**: Real number\n",
    "- **dst_host_same_src_port_rate**: Real number\n",
    "- **dst_host_srv_diff_host_rate**: Real number\n",
    "- **dst_host_serror_rate**: Real number\n",
    "- **dst_host_srv_serror_rate**: Real number\n",
    "- **dst_host_rerror_rate**: Real number\n",
    "- **dst_host_srv_rerror_rate**: Real number\n",
    "- **attack**: Categorical {'normal' 'neptune' 'warezclient' 'ipsweep' 'portsweep' 'teardrop' 'nmap' 'satan' 'smurf' 'pod' 'back' 'guess_passwd' 'ftp_write' 'multihop' 'rootkit' 'buffer_overflow' 'imap' 'warezmaster' 'phf' 'land' 'loadmodule' 'spy' 'perl' 'saint' 'mscan' 'apache2' 'snmpgetattack' 'processtable' 'httptunnel' 'ps' 'snmpguess' 'mailbomb' 'named' 'sendmail' 'xterm' 'worm' 'xlock' 'xsnoop' 'sqlattack' 'udpstorm'}\n",
    "\n",
    "---"
   ]
  },
  {
   "cell_type": "markdown",
   "id": "17f6018d",
   "metadata": {},
   "source": [
    "---\n",
    "\n",
    "### **Simplifying the 'attack' Attribute**\n",
    "\n",
    "In real-world streaming scenarios, the immediate priority is typically to detect any anomaly, regardless of its specific type. Detailed classifications can be pursued once an anomaly is detected. This approach aids in rapidly identifying potential threats without getting bogged down by the nuances of each attack type.\n",
    "\n",
    "Given this context, we will simplify the `attack` attribute in the dataset. Instead of having multiple categories representing various attack types, I will classify entries into two main categories:\n",
    "- **normal**: Represented by '0'\n",
    "- **attack**: Represented by '1'\n",
    "\n",
    "This binary classification will streamline the analysis and make real-time detection more feasible.\n",
    "\n",
    "---"
   ]
  },
  {
   "cell_type": "code",
   "execution_count": 18,
   "id": "7392d26d",
   "metadata": {},
   "outputs": [],
   "source": [
    "# Function to modify attack labels\n",
    "def change_label(data):\n",
    "    # Replacing specific attack types with the label '1' (indicating an attack)\n",
    "    data.attack.replace(['neptune','warezclient','ipsweep','portsweep',\n",
    "                         'teardrop','nmap','satan','smurf','pod','back', \n",
    "                         'guess_passwd','ftp_write','multihop','rootkit', \n",
    "                         'buffer_overflow','imap','warezmaster','phf','land', \n",
    "                         'loadmodule','spy','perl','saint', 'mscan', 'apache2',\n",
    "                         'snmpgetattack','processtable', 'httptunnel', 'ps',\n",
    "                         'snmpguess', 'mailbomb','named', 'sendmail', 'xterm',\n",
    "                         'worm', 'xlock', 'xsnoop','sqlattack',\n",
    "                         'udpstorm'], 1, inplace=True)\n",
    "    \n",
    "    # Replacing 'normal' type with '0' (indicating normal/non-attack)\n",
    "    data.attack.replace(['normal'], 0, inplace=True)"
   ]
  },
  {
   "cell_type": "code",
   "execution_count": 19,
   "id": "5a4ee0b3",
   "metadata": {},
   "outputs": [],
   "source": [
    "change_label(combined_df)"
   ]
  },
  {
   "cell_type": "code",
   "execution_count": 20,
   "id": "d1c7f4b9",
   "metadata": {},
   "outputs": [
    {
     "data": {
      "text/plain": [
       "array([0, 1], dtype=int64)"
      ]
     },
     "execution_count": 20,
     "metadata": {},
     "output_type": "execute_result"
    }
   ],
   "source": [
    "combined_df['attack'].unique()"
   ]
  },
  {
   "cell_type": "markdown",
   "id": "ac86fd16",
   "metadata": {},
   "source": [
    "---\n",
    "\n",
    "### **Visualizing the Distribution of 'Attack' vs. 'Normal'**\n",
    "\n",
    "To get a better understanding of the distribution of the data, I will visualize the proportion of 'Attack' vs. 'Normal' entries in the combined dataset. A pie chart will provide a clear view of how these two categories are distributed.\n",
    "\n",
    "---"
   ]
  },
  {
   "cell_type": "code",
   "execution_count": 21,
   "id": "035dd71a",
   "metadata": {},
   "outputs": [
    {
     "data": {
      "image/png": "[encoded data removed]",
      "text/plain": [
       "<Figure size 720x504 with 1 Axes>"
      ]
     },
     "metadata": {},
     "output_type": "display_data"
    }
   ],
   "source": [
    "# Calculate the counts for each category\n",
    "attacks_counts = combined_df['attack'].value_counts()\n",
    "\n",
    "# Plot a pie chart\n",
    "plt.figure(figsize=(10,7))\n",
    "attacks_counts.plot.pie(autopct='%1.1f%%', startangle=90, legend=True)\n",
    "plt.title('Distribution of Attack vs. Normal')\n",
    "plt.ylabel('') \n",
    "plt.show()"
   ]
  },
  {
   "cell_type": "markdown",
   "id": "fc8f33f9",
   "metadata": {},
   "source": [
    "---\n",
    "\n",
    "### **Visualizing the Distribution of Attack Difficulty Levels**\n",
    "\n",
    "The dataset provides a 'level' attribute indicating the difficulty level of an attack. To better understand the distribution and prevalence of each difficulty level, I will visualize the counts of each level using a bar chart.\n",
    "\n",
    "---"
   ]
  },
  {
   "cell_type": "code",
   "execution_count": 22,
   "id": "9ca02aae",
   "metadata": {},
   "outputs": [
    {
     "data": {
      "image/png": "[encoded data removed]",
      "text/plain": [
       "<Figure size 1008x504 with 1 Axes>"
      ]
     },
     "metadata": {
      "needs_background": "light"
     },
     "output_type": "display_data"
    }
   ],
   "source": [
    "# Calculate the counts for each level\n",
    "level_counts = combined_df['level'].value_counts().sort_index()\n",
    "\n",
    "# Plot a bar chart\n",
    "plt.figure(figsize=(14,7))\n",
    "level_counts.plot.bar(rot=0)\n",
    "plt.title('Distribution of Attack Levels')\n",
    "plt.xlabel('Attack Level')\n",
    "plt.ylabel('Count')\n",
    "plt.show()"
   ]
  },
  {
   "cell_type": "markdown",
   "id": "29c4a3bb",
   "metadata": {},
   "source": [
    "---\n",
    "\n",
    "### **Dropping the 'level' Column**\n",
    "\n",
    "The `level` column in our dataset indicates the difficulty level of an attack. However, in a real-world scenario, this level cannot be determined until after an attack is detected and subsequently classified. Given this, the `level` attribute is not relevant for our model training and testing processes. Therefore, I will remove this column from both the training and testing datasets.\n",
    "\n",
    "---"
   ]
  },
  {
   "cell_type": "code",
   "execution_count": 23,
   "id": "556c2105",
   "metadata": {},
   "outputs": [],
   "source": [
    "# Dropping the 'level' column from the combined dataset\n",
    "combined_df.drop('level', axis=1, inplace=True)"
   ]
  },
  {
   "cell_type": "markdown",
   "id": "1f04382d",
   "metadata": {},
   "source": [
    "---\n",
    "\n",
    "### **Handling Categorical Features**\n",
    "\n",
    "The NSL-KDD dataset contains several categorical features, including `protocol_type`, `service`, and `flag`. To make these features suitable for machine learning algorithms, they need to be converted into a numerical format. One popular approach for handling categorical data is:\n",
    "\n",
    "- **One-Hot Encoding**: This method converts categorical values into a format that can be provided to machine learning algorithms to improve model accuracy. It involves creating binary columns for each category or label in the original column. Each of these binary columns represents a unique category and is marked as '0' or '1' based on whether the category is present for a given record.\n",
    "\n",
    "---"
   ]
  },
  {
   "cell_type": "code",
   "execution_count": 24,
   "id": "e5fbb871",
   "metadata": {
    "scrolled": true
   },
   "outputs": [
    {
     "data": {
      "text/html": [
       "<div>\n",
       "<style scoped>\n",
       "    .dataframe tbody tr th:only-of-type {\n",
       "        vertical-align: middle;\n",
       "    }\n",
       "\n",
       "    .dataframe tbody tr th {\n",
       "        vertical-align: top;\n",
       "    }\n",
       "\n",
       "    .dataframe thead th {\n",
       "        text-align: right;\n",
       "    }\n",
       "</style>\n",
       "<table border=\"1\" class=\"dataframe\">\n",
       "  <thead>\n",
       "    <tr style=\"text-align: right;\">\n",
       "      <th></th>\n",
       "      <th>duration</th>\n",
       "      <th>src_bytes</th>\n",
       "      <th>dst_bytes</th>\n",
       "      <th>land</th>\n",
       "      <th>wrong_fragment</th>\n",
       "      <th>urgent</th>\n",
       "      <th>hot</th>\n",
       "      <th>num_failed_logins</th>\n",
       "      <th>logged_in</th>\n",
       "      <th>num_compromised</th>\n",
       "      <th>...</th>\n",
       "      <th>flag_REJ</th>\n",
       "      <th>flag_RSTO</th>\n",
       "      <th>flag_RSTOS0</th>\n",
       "      <th>flag_RSTR</th>\n",
       "      <th>flag_S0</th>\n",
       "      <th>flag_S1</th>\n",
       "      <th>flag_S2</th>\n",
       "      <th>flag_S3</th>\n",
       "      <th>flag_SF</th>\n",
       "      <th>flag_SH</th>\n",
       "    </tr>\n",
       "  </thead>\n",
       "  <tbody>\n",
       "    <tr>\n",
       "      <th>0</th>\n",
       "      <td>0</td>\n",
       "      <td>491</td>\n",
       "      <td>0</td>\n",
       "      <td>0</td>\n",
       "      <td>0</td>\n",
       "      <td>0</td>\n",
       "      <td>0</td>\n",
       "      <td>0</td>\n",
       "      <td>0</td>\n",
       "      <td>0</td>\n",
       "      <td>...</td>\n",
       "      <td>0</td>\n",
       "      <td>0</td>\n",
       "      <td>0</td>\n",
       "      <td>0</td>\n",
       "      <td>0</td>\n",
       "      <td>0</td>\n",
       "      <td>0</td>\n",
       "      <td>0</td>\n",
       "      <td>1</td>\n",
       "      <td>0</td>\n",
       "    </tr>\n",
       "    <tr>\n",
       "      <th>1</th>\n",
       "      <td>0</td>\n",
       "      <td>146</td>\n",
       "      <td>0</td>\n",
       "      <td>0</td>\n",
       "      <td>0</td>\n",
       "      <td>0</td>\n",
       "      <td>0</td>\n",
       "      <td>0</td>\n",
       "      <td>0</td>\n",
       "      <td>0</td>\n",
       "      <td>...</td>\n",
       "      <td>0</td>\n",
       "      <td>0</td>\n",
       "      <td>0</td>\n",
       "      <td>0</td>\n",
       "      <td>0</td>\n",
       "      <td>0</td>\n",
       "      <td>0</td>\n",
       "      <td>0</td>\n",
       "      <td>1</td>\n",
       "      <td>0</td>\n",
       "    </tr>\n",
       "    <tr>\n",
       "      <th>2</th>\n",
       "      <td>0</td>\n",
       "      <td>0</td>\n",
       "      <td>0</td>\n",
       "      <td>0</td>\n",
       "      <td>0</td>\n",
       "      <td>0</td>\n",
       "      <td>0</td>\n",
       "      <td>0</td>\n",
       "      <td>0</td>\n",
       "      <td>0</td>\n",
       "      <td>...</td>\n",
       "      <td>0</td>\n",
       "      <td>0</td>\n",
       "      <td>0</td>\n",
       "      <td>0</td>\n",
       "      <td>1</td>\n",
       "      <td>0</td>\n",
       "      <td>0</td>\n",
       "      <td>0</td>\n",
       "      <td>0</td>\n",
       "      <td>0</td>\n",
       "    </tr>\n",
       "    <tr>\n",
       "      <th>3</th>\n",
       "      <td>0</td>\n",
       "      <td>232</td>\n",
       "      <td>8153</td>\n",
       "      <td>0</td>\n",
       "      <td>0</td>\n",
       "      <td>0</td>\n",
       "      <td>0</td>\n",
       "      <td>0</td>\n",
       "      <td>1</td>\n",
       "      <td>0</td>\n",
       "      <td>...</td>\n",
       "      <td>0</td>\n",
       "      <td>0</td>\n",
       "      <td>0</td>\n",
       "      <td>0</td>\n",
       "      <td>0</td>\n",
       "      <td>0</td>\n",
       "      <td>0</td>\n",
       "      <td>0</td>\n",
       "      <td>1</td>\n",
       "      <td>0</td>\n",
       "    </tr>\n",
       "    <tr>\n",
       "      <th>4</th>\n",
       "      <td>0</td>\n",
       "      <td>199</td>\n",
       "      <td>420</td>\n",
       "      <td>0</td>\n",
       "      <td>0</td>\n",
       "      <td>0</td>\n",
       "      <td>0</td>\n",
       "      <td>0</td>\n",
       "      <td>1</td>\n",
       "      <td>0</td>\n",
       "      <td>...</td>\n",
       "      <td>0</td>\n",
       "      <td>0</td>\n",
       "      <td>0</td>\n",
       "      <td>0</td>\n",
       "      <td>0</td>\n",
       "      <td>0</td>\n",
       "      <td>0</td>\n",
       "      <td>0</td>\n",
       "      <td>1</td>\n",
       "      <td>0</td>\n",
       "    </tr>\n",
       "  </tbody>\n",
       "</table>\n",
       "<p>5 rows × 123 columns</p>\n",
       "</div>"
      ],
      "text/plain": [
       "   duration  src_bytes  dst_bytes  land  wrong_fragment  urgent  hot  \\\n",
       "0         0        491          0     0               0       0    0   \n",
       "1         0        146          0     0               0       0    0   \n",
       "2         0          0          0     0               0       0    0   \n",
       "3         0        232       8153     0               0       0    0   \n",
       "4         0        199        420     0               0       0    0   \n",
       "\n",
       "   num_failed_logins  logged_in  num_compromised  ...  flag_REJ  flag_RSTO  \\\n",
       "0                  0          0                0  ...         0          0   \n",
       "1                  0          0                0  ...         0          0   \n",
       "2                  0          0                0  ...         0          0   \n",
       "3                  0          1                0  ...         0          0   \n",
       "4                  0          1                0  ...         0          0   \n",
       "\n",
       "   flag_RSTOS0  flag_RSTR  flag_S0  flag_S1  flag_S2  flag_S3  flag_SF  \\\n",
       "0            0          0        0        0        0        0        1   \n",
       "1            0          0        0        0        0        0        1   \n",
       "2            0          0        1        0        0        0        0   \n",
       "3            0          0        0        0        0        0        1   \n",
       "4            0          0        0        0        0        0        1   \n",
       "\n",
       "   flag_SH  \n",
       "0        0  \n",
       "1        0  \n",
       "2        0  \n",
       "3        0  \n",
       "4        0  \n",
       "\n",
       "[5 rows x 123 columns]"
      ]
     },
     "execution_count": 24,
     "metadata": {},
     "output_type": "execute_result"
    }
   ],
   "source": [
    "# One-hot encoding categorical columns\n",
    "combined_df_encoded = pd.get_dummies(combined_df, columns=['protocol_type', 'service', 'flag'])\n",
    "\n",
    "combined_df_encoded.head()  # Displaying the top rows of the encoded dataframe"
   ]
  },
  {
   "cell_type": "markdown",
   "id": "dcd21d73",
   "metadata": {},
   "source": [
    "---\n",
    "\n",
    "### **Splitting Dataset into Train, Validation, and Streaming Simulation**\n",
    "\n",
    "I partition the `combined_df_encoded` dataset into three distinct subsets:\n",
    "\n",
    "- **Training Set**: This subset will be used to train our models.\n",
    "- **Validation/Test Set**: To evaluate and compare the performance of different neural network architectures.\n",
    "- **Streaming Simulation Set**: To simulate streaming data and test the model in a streaming environment.\n",
    "\n",
    "---"
   ]
  },
  {
   "cell_type": "code",
   "execution_count": 25,
   "id": "35951371",
   "metadata": {},
   "outputs": [],
   "source": [
    "from sklearn.model_selection import train_test_split\n",
    "# Splitting combined_df_encoded into train, validation/test, and streaming_simulation sets\n",
    "train_df, temp_df = train_test_split(combined_df_encoded, test_size=0.4, random_state=42, stratify=combined_df_encoded['attack'])\n",
    "val_df, streaming_simulation_df = train_test_split(temp_df, test_size=0.5, random_state=42, stratify=temp_df['attack'])"
   ]
  },
  {
   "cell_type": "markdown",
   "id": "e4c9516c",
   "metadata": {},
   "source": [
    "---\n",
    "\n",
    "### **Splitting Features and Labels**\n",
    "\n",
    "For the machine learning model training process, it's crucial to segregate the dataset into input features and the target variable. In this section, I will separate our dataset into:\n",
    "\n",
    "- **Features (X)**: These are the input variables that our model will learn from.\n",
    "- **Labels/Targets (Y)**: This is the output variable that our model aims to predict.\n",
    "\n",
    "---"
   ]
  },
  {
   "cell_type": "code",
   "execution_count": 26,
   "id": "912673f5",
   "metadata": {},
   "outputs": [
    {
     "name": "stdout",
     "output_type": "stream",
     "text": [
      "Training set size: 89110 rows\n",
      "Validation set size: 29703 rows\n",
      "Streaming simulation set size: 29704 rows\n"
     ]
    }
   ],
   "source": [
    "# Separating features and labels for each subset\n",
    "X_train, Y_train = train_df.drop('attack', axis=1), train_df['attack']\n",
    "X_val, Y_val = val_df.drop('attack', axis=1), val_df['attack']\n",
    "X_stream, Y_stream = streaming_simulation_df.drop('attack', axis=1), streaming_simulation_df['attack']\n",
    "\n",
    "# Displaying the sizes of each subset\n",
    "print(f\"Training set size: {X_train.shape[0]} rows\")\n",
    "print(f\"Validation set size: {X_val.shape[0]} rows\")\n",
    "print(f\"Streaming simulation set size: {X_stream.shape[0]} rows\")"
   ]
  },
  {
   "cell_type": "markdown",
   "id": "ffe645cb",
   "metadata": {},
   "source": [
    "---\n",
    "\n",
    "### **Normalizing Numerical Features**\n",
    "\n",
    "Neural networks tend to converge faster and perform better when input features have values ranging between 0 and 1. Features with large magnitudes or differing scales can disproportionately influence the training process and lead to suboptimal results.\n",
    "\n",
    "One popular approach to address this is:\n",
    "\n",
    "- **Min-Max Scaling**: This method scales and translates each feature individually such that it's in the range of 0 to 1. \n",
    "\n",
    "I will apply Min-Max Scaling to our numerical features to prepare them for neural network training.\n",
    "\n",
    "---"
   ]
  },
  {
   "cell_type": "code",
   "execution_count": 27,
   "id": "752298f8",
   "metadata": {},
   "outputs": [
    {
     "data": {
      "text/html": [
       "<div>\n",
       "<style scoped>\n",
       "    .dataframe tbody tr th:only-of-type {\n",
       "        vertical-align: middle;\n",
       "    }\n",
       "\n",
       "    .dataframe tbody tr th {\n",
       "        vertical-align: top;\n",
       "    }\n",
       "\n",
       "    .dataframe thead th {\n",
       "        text-align: right;\n",
       "    }\n",
       "</style>\n",
       "<table border=\"1\" class=\"dataframe\">\n",
       "  <thead>\n",
       "    <tr style=\"text-align: right;\">\n",
       "      <th></th>\n",
       "      <th>duration</th>\n",
       "      <th>src_bytes</th>\n",
       "      <th>dst_bytes</th>\n",
       "      <th>land</th>\n",
       "      <th>wrong_fragment</th>\n",
       "      <th>urgent</th>\n",
       "      <th>hot</th>\n",
       "      <th>num_failed_logins</th>\n",
       "      <th>logged_in</th>\n",
       "      <th>num_compromised</th>\n",
       "      <th>...</th>\n",
       "      <th>flag_REJ</th>\n",
       "      <th>flag_RSTO</th>\n",
       "      <th>flag_RSTOS0</th>\n",
       "      <th>flag_RSTR</th>\n",
       "      <th>flag_S0</th>\n",
       "      <th>flag_S1</th>\n",
       "      <th>flag_S2</th>\n",
       "      <th>flag_S3</th>\n",
       "      <th>flag_SF</th>\n",
       "      <th>flag_SH</th>\n",
       "    </tr>\n",
       "  </thead>\n",
       "  <tbody>\n",
       "    <tr>\n",
       "      <th>111718</th>\n",
       "      <td>0.000000</td>\n",
       "      <td>0.000000e+00</td>\n",
       "      <td>0.000000e+00</td>\n",
       "      <td>0.0</td>\n",
       "      <td>0.0</td>\n",
       "      <td>0.0</td>\n",
       "      <td>0.0</td>\n",
       "      <td>0.0</td>\n",
       "      <td>0.0</td>\n",
       "      <td>0.0</td>\n",
       "      <td>...</td>\n",
       "      <td>0.0</td>\n",
       "      <td>0.0</td>\n",
       "      <td>0.0</td>\n",
       "      <td>0.0</td>\n",
       "      <td>1.0</td>\n",
       "      <td>0.0</td>\n",
       "      <td>0.0</td>\n",
       "      <td>0.0</td>\n",
       "      <td>0.0</td>\n",
       "      <td>0.0</td>\n",
       "    </tr>\n",
       "    <tr>\n",
       "      <th>62644</th>\n",
       "      <td>0.000017</td>\n",
       "      <td>1.066363e-06</td>\n",
       "      <td>1.191633e-06</td>\n",
       "      <td>0.0</td>\n",
       "      <td>0.0</td>\n",
       "      <td>0.0</td>\n",
       "      <td>0.0</td>\n",
       "      <td>0.0</td>\n",
       "      <td>1.0</td>\n",
       "      <td>0.0</td>\n",
       "      <td>...</td>\n",
       "      <td>0.0</td>\n",
       "      <td>0.0</td>\n",
       "      <td>0.0</td>\n",
       "      <td>0.0</td>\n",
       "      <td>0.0</td>\n",
       "      <td>0.0</td>\n",
       "      <td>0.0</td>\n",
       "      <td>0.0</td>\n",
       "      <td>1.0</td>\n",
       "      <td>0.0</td>\n",
       "    </tr>\n",
       "    <tr>\n",
       "      <th>108210</th>\n",
       "      <td>0.000000</td>\n",
       "      <td>8.839253e-07</td>\n",
       "      <td>0.000000e+00</td>\n",
       "      <td>0.0</td>\n",
       "      <td>0.0</td>\n",
       "      <td>0.0</td>\n",
       "      <td>0.0</td>\n",
       "      <td>0.0</td>\n",
       "      <td>0.0</td>\n",
       "      <td>0.0</td>\n",
       "      <td>...</td>\n",
       "      <td>0.0</td>\n",
       "      <td>0.0</td>\n",
       "      <td>0.0</td>\n",
       "      <td>0.0</td>\n",
       "      <td>0.0</td>\n",
       "      <td>0.0</td>\n",
       "      <td>0.0</td>\n",
       "      <td>0.0</td>\n",
       "      <td>1.0</td>\n",
       "      <td>0.0</td>\n",
       "    </tr>\n",
       "    <tr>\n",
       "      <th>12678</th>\n",
       "      <td>0.000000</td>\n",
       "      <td>9.678639e-08</td>\n",
       "      <td>0.000000e+00</td>\n",
       "      <td>0.0</td>\n",
       "      <td>0.0</td>\n",
       "      <td>0.0</td>\n",
       "      <td>0.0</td>\n",
       "      <td>0.0</td>\n",
       "      <td>0.0</td>\n",
       "      <td>0.0</td>\n",
       "      <td>...</td>\n",
       "      <td>0.0</td>\n",
       "      <td>0.0</td>\n",
       "      <td>0.0</td>\n",
       "      <td>0.0</td>\n",
       "      <td>0.0</td>\n",
       "      <td>0.0</td>\n",
       "      <td>0.0</td>\n",
       "      <td>0.0</td>\n",
       "      <td>1.0</td>\n",
       "      <td>0.0</td>\n",
       "    </tr>\n",
       "    <tr>\n",
       "      <th>51052</th>\n",
       "      <td>0.000000</td>\n",
       "      <td>3.768674e-08</td>\n",
       "      <td>3.297601e-07</td>\n",
       "      <td>0.0</td>\n",
       "      <td>0.0</td>\n",
       "      <td>0.0</td>\n",
       "      <td>0.0</td>\n",
       "      <td>0.0</td>\n",
       "      <td>0.0</td>\n",
       "      <td>0.0</td>\n",
       "      <td>...</td>\n",
       "      <td>0.0</td>\n",
       "      <td>0.0</td>\n",
       "      <td>0.0</td>\n",
       "      <td>0.0</td>\n",
       "      <td>0.0</td>\n",
       "      <td>0.0</td>\n",
       "      <td>0.0</td>\n",
       "      <td>0.0</td>\n",
       "      <td>1.0</td>\n",
       "      <td>0.0</td>\n",
       "    </tr>\n",
       "  </tbody>\n",
       "</table>\n",
       "<p>5 rows × 122 columns</p>\n",
       "</div>"
      ],
      "text/plain": [
       "        duration     src_bytes     dst_bytes  land  wrong_fragment  urgent  \\\n",
       "111718  0.000000  0.000000e+00  0.000000e+00   0.0             0.0     0.0   \n",
       "62644   0.000017  1.066363e-06  1.191633e-06   0.0             0.0     0.0   \n",
       "108210  0.000000  8.839253e-07  0.000000e+00   0.0             0.0     0.0   \n",
       "12678   0.000000  9.678639e-08  0.000000e+00   0.0             0.0     0.0   \n",
       "51052   0.000000  3.768674e-08  3.297601e-07   0.0             0.0     0.0   \n",
       "\n",
       "        hot  num_failed_logins  logged_in  num_compromised  ...  flag_REJ  \\\n",
       "111718  0.0                0.0        0.0              0.0  ...       0.0   \n",
       "62644   0.0                0.0        1.0              0.0  ...       0.0   \n",
       "108210  0.0                0.0        0.0              0.0  ...       0.0   \n",
       "12678   0.0                0.0        0.0              0.0  ...       0.0   \n",
       "51052   0.0                0.0        0.0              0.0  ...       0.0   \n",
       "\n",
       "        flag_RSTO  flag_RSTOS0  flag_RSTR  flag_S0  flag_S1  flag_S2  flag_S3  \\\n",
       "111718        0.0          0.0        0.0      1.0      0.0      0.0      0.0   \n",
       "62644         0.0          0.0        0.0      0.0      0.0      0.0      0.0   \n",
       "108210        0.0          0.0        0.0      0.0      0.0      0.0      0.0   \n",
       "12678         0.0          0.0        0.0      0.0      0.0      0.0      0.0   \n",
       "51052         0.0          0.0        0.0      0.0      0.0      0.0      0.0   \n",
       "\n",
       "        flag_SF  flag_SH  \n",
       "111718      0.0      0.0  \n",
       "62644       1.0      0.0  \n",
       "108210      1.0      0.0  \n",
       "12678       1.0      0.0  \n",
       "51052       1.0      0.0  \n",
       "\n",
       "[5 rows x 122 columns]"
      ]
     },
     "execution_count": 27,
     "metadata": {},
     "output_type": "execute_result"
    }
   ],
   "source": [
    "from sklearn.preprocessing import MinMaxScaler\n",
    "\n",
    "# Identify numerical columns that need to be normalized\n",
    "numerical_cols = combined_df_encoded.select_dtypes(include=[np.number]).columns.tolist()\n",
    "numerical_cols.remove('attack')  # Removing the 'attack' column as it's our label\n",
    "\n",
    "# Initialize MinMaxScaler\n",
    "scaler = MinMaxScaler()\n",
    "\n",
    "# Fit the scaler on the training data\n",
    "X_train[numerical_cols] = scaler.fit_transform(X_train[numerical_cols])\n",
    "\n",
    "# Transform the validation and streaming simulation datasets using the same scaler\n",
    "X_val[numerical_cols] = scaler.transform(X_val[numerical_cols])\n",
    "X_stream[numerical_cols] = scaler.transform(X_stream[numerical_cols])\n",
    "\n",
    "# Display the top rows of the normalized training data\n",
    "X_train.head()\n"
   ]
  },
  {
   "cell_type": "code",
   "execution_count": 28,
   "id": "16934d3c",
   "metadata": {},
   "outputs": [
    {
     "data": {
      "text/html": [
       "<div>\n",
       "<style scoped>\n",
       "    .dataframe tbody tr th:only-of-type {\n",
       "        vertical-align: middle;\n",
       "    }\n",
       "\n",
       "    .dataframe tbody tr th {\n",
       "        vertical-align: top;\n",
       "    }\n",
       "\n",
       "    .dataframe thead th {\n",
       "        text-align: right;\n",
       "    }\n",
       "</style>\n",
       "<table border=\"1\" class=\"dataframe\">\n",
       "  <thead>\n",
       "    <tr style=\"text-align: right;\">\n",
       "      <th></th>\n",
       "      <th>duration</th>\n",
       "      <th>src_bytes</th>\n",
       "      <th>dst_bytes</th>\n",
       "      <th>land</th>\n",
       "      <th>wrong_fragment</th>\n",
       "      <th>urgent</th>\n",
       "      <th>hot</th>\n",
       "      <th>num_failed_logins</th>\n",
       "      <th>logged_in</th>\n",
       "      <th>num_compromised</th>\n",
       "      <th>...</th>\n",
       "      <th>flag_REJ</th>\n",
       "      <th>flag_RSTO</th>\n",
       "      <th>flag_RSTOS0</th>\n",
       "      <th>flag_RSTR</th>\n",
       "      <th>flag_S0</th>\n",
       "      <th>flag_S1</th>\n",
       "      <th>flag_S2</th>\n",
       "      <th>flag_S3</th>\n",
       "      <th>flag_SF</th>\n",
       "      <th>flag_SH</th>\n",
       "    </tr>\n",
       "  </thead>\n",
       "  <tbody>\n",
       "    <tr>\n",
       "      <th>57710</th>\n",
       "      <td>0.0</td>\n",
       "      <td>1.172571e-06</td>\n",
       "      <td>8.144074e-07</td>\n",
       "      <td>0.0</td>\n",
       "      <td>0.0</td>\n",
       "      <td>0.0</td>\n",
       "      <td>0.0</td>\n",
       "      <td>0.0</td>\n",
       "      <td>1.0</td>\n",
       "      <td>0.0</td>\n",
       "      <td>...</td>\n",
       "      <td>0.0</td>\n",
       "      <td>0.0</td>\n",
       "      <td>0.0</td>\n",
       "      <td>0.0</td>\n",
       "      <td>0.0</td>\n",
       "      <td>0.0</td>\n",
       "      <td>0.0</td>\n",
       "      <td>0.0</td>\n",
       "      <td>1.0</td>\n",
       "      <td>0.0</td>\n",
       "    </tr>\n",
       "    <tr>\n",
       "      <th>7390</th>\n",
       "      <td>0.0</td>\n",
       "      <td>0.000000e+00</td>\n",
       "      <td>0.000000e+00</td>\n",
       "      <td>0.0</td>\n",
       "      <td>0.0</td>\n",
       "      <td>0.0</td>\n",
       "      <td>0.0</td>\n",
       "      <td>0.0</td>\n",
       "      <td>0.0</td>\n",
       "      <td>0.0</td>\n",
       "      <td>...</td>\n",
       "      <td>0.0</td>\n",
       "      <td>1.0</td>\n",
       "      <td>0.0</td>\n",
       "      <td>0.0</td>\n",
       "      <td>0.0</td>\n",
       "      <td>0.0</td>\n",
       "      <td>0.0</td>\n",
       "      <td>0.0</td>\n",
       "      <td>0.0</td>\n",
       "      <td>0.0</td>\n",
       "    </tr>\n",
       "    <tr>\n",
       "      <th>79843</th>\n",
       "      <td>0.0</td>\n",
       "      <td>2.072771e-07</td>\n",
       "      <td>9.792874e-07</td>\n",
       "      <td>0.0</td>\n",
       "      <td>0.0</td>\n",
       "      <td>0.0</td>\n",
       "      <td>0.0</td>\n",
       "      <td>0.0</td>\n",
       "      <td>1.0</td>\n",
       "      <td>0.0</td>\n",
       "      <td>...</td>\n",
       "      <td>0.0</td>\n",
       "      <td>0.0</td>\n",
       "      <td>0.0</td>\n",
       "      <td>0.0</td>\n",
       "      <td>0.0</td>\n",
       "      <td>0.0</td>\n",
       "      <td>0.0</td>\n",
       "      <td>0.0</td>\n",
       "      <td>1.0</td>\n",
       "      <td>0.0</td>\n",
       "    </tr>\n",
       "    <tr>\n",
       "      <th>56960</th>\n",
       "      <td>0.0</td>\n",
       "      <td>0.000000e+00</td>\n",
       "      <td>0.000000e+00</td>\n",
       "      <td>0.0</td>\n",
       "      <td>0.0</td>\n",
       "      <td>0.0</td>\n",
       "      <td>0.0</td>\n",
       "      <td>0.0</td>\n",
       "      <td>0.0</td>\n",
       "      <td>0.0</td>\n",
       "      <td>...</td>\n",
       "      <td>0.0</td>\n",
       "      <td>0.0</td>\n",
       "      <td>0.0</td>\n",
       "      <td>0.0</td>\n",
       "      <td>1.0</td>\n",
       "      <td>0.0</td>\n",
       "      <td>0.0</td>\n",
       "      <td>0.0</td>\n",
       "      <td>0.0</td>\n",
       "      <td>0.0</td>\n",
       "    </tr>\n",
       "    <tr>\n",
       "      <th>68975</th>\n",
       "      <td>0.0</td>\n",
       "      <td>0.000000e+00</td>\n",
       "      <td>0.000000e+00</td>\n",
       "      <td>0.0</td>\n",
       "      <td>0.0</td>\n",
       "      <td>0.0</td>\n",
       "      <td>0.0</td>\n",
       "      <td>0.0</td>\n",
       "      <td>0.0</td>\n",
       "      <td>0.0</td>\n",
       "      <td>...</td>\n",
       "      <td>0.0</td>\n",
       "      <td>0.0</td>\n",
       "      <td>0.0</td>\n",
       "      <td>0.0</td>\n",
       "      <td>1.0</td>\n",
       "      <td>0.0</td>\n",
       "      <td>0.0</td>\n",
       "      <td>0.0</td>\n",
       "      <td>0.0</td>\n",
       "      <td>0.0</td>\n",
       "    </tr>\n",
       "  </tbody>\n",
       "</table>\n",
       "<p>5 rows × 123 columns</p>\n",
       "</div>"
      ],
      "text/plain": [
       "       duration     src_bytes     dst_bytes  land  wrong_fragment  urgent  \\\n",
       "57710       0.0  1.172571e-06  8.144074e-07   0.0             0.0     0.0   \n",
       "7390        0.0  0.000000e+00  0.000000e+00   0.0             0.0     0.0   \n",
       "79843       0.0  2.072771e-07  9.792874e-07   0.0             0.0     0.0   \n",
       "56960       0.0  0.000000e+00  0.000000e+00   0.0             0.0     0.0   \n",
       "68975       0.0  0.000000e+00  0.000000e+00   0.0             0.0     0.0   \n",
       "\n",
       "       hot  num_failed_logins  logged_in  num_compromised  ...  flag_REJ  \\\n",
       "57710  0.0                0.0        1.0              0.0  ...       0.0   \n",
       "7390   0.0                0.0        0.0              0.0  ...       0.0   \n",
       "79843  0.0                0.0        1.0              0.0  ...       0.0   \n",
       "56960  0.0                0.0        0.0              0.0  ...       0.0   \n",
       "68975  0.0                0.0        0.0              0.0  ...       0.0   \n",
       "\n",
       "       flag_RSTO  flag_RSTOS0  flag_RSTR  flag_S0  flag_S1  flag_S2  flag_S3  \\\n",
       "57710        0.0          0.0        0.0      0.0      0.0      0.0      0.0   \n",
       "7390         1.0          0.0        0.0      0.0      0.0      0.0      0.0   \n",
       "79843        0.0          0.0        0.0      0.0      0.0      0.0      0.0   \n",
       "56960        0.0          0.0        0.0      1.0      0.0      0.0      0.0   \n",
       "68975        0.0          0.0        0.0      1.0      0.0      0.0      0.0   \n",
       "\n",
       "       flag_SF  flag_SH  \n",
       "57710      1.0      0.0  \n",
       "7390       0.0      0.0  \n",
       "79843      1.0      0.0  \n",
       "56960      0.0      0.0  \n",
       "68975      0.0      0.0  \n",
       "\n",
       "[5 rows x 123 columns]"
      ]
     },
     "execution_count": 28,
     "metadata": {},
     "output_type": "execute_result"
    }
   ],
   "source": [
    "# Transform the streaming simulation dataset using the same scaler\n",
    "streaming_simulation_df[numerical_cols] = scaler.transform(streaming_simulation_df[numerical_cols])\n",
    "streaming_simulation_df.head()"
   ]
  },
  {
   "cell_type": "markdown",
   "id": "485bc2d0",
   "metadata": {},
   "source": [
    "---\n",
    "\n",
    "### **Establishing a Baseline Model**\n",
    "\n",
    "Before diving into more complex modeling techniques, it's prudent to establish a baseline performance. This helps in setting expectations and provides a reference point to compare the effectiveness of more intricate models.\n",
    "\n",
    "Given that the dataset is fairly balanced, I will use:\n",
    "\n",
    "- **Logistic Regression**: Despite being a simple linear model, logistic regression can be effective, especially for binary classification tasks. It estimates probabilities for class membership and serves as a straightforward and interpretable baseline.\n",
    "\n",
    "---"
   ]
  },
  {
   "cell_type": "code",
   "execution_count": 29,
   "id": "153b53d3",
   "metadata": {
    "scrolled": true
   },
   "outputs": [
    {
     "name": "stdout",
     "output_type": "stream",
     "text": [
      "Baseline Logistic Regression Accuracy: 0.9569\n",
      "\n",
      "Classification Report:\n",
      "               precision    recall  f1-score   support\n",
      "\n",
      "           0       0.95      0.97      0.96     15411\n",
      "           1       0.97      0.94      0.95     14292\n",
      "\n",
      "    accuracy                           0.96     29703\n",
      "   macro avg       0.96      0.96      0.96     29703\n",
      "weighted avg       0.96      0.96      0.96     29703\n",
      "\n"
     ]
    }
   ],
   "source": [
    "from sklearn.linear_model import LogisticRegression\n",
    "from sklearn.metrics import accuracy_score, classification_report\n",
    "\n",
    "# Initialize and train the Logistic Regression model\n",
    "logreg = LogisticRegression(max_iter=10000, random_state=42)\n",
    "logreg.fit(X_train, Y_train)\n",
    "\n",
    "# Predict on the validation set\n",
    "y_val_pred = logreg.predict(X_val)\n",
    "\n",
    "# Evaluate the performance\n",
    "accuracy = accuracy_score(Y_val, y_val_pred)\n",
    "print(f\"Baseline Logistic Regression Accuracy: {accuracy:.4f}\")\n",
    "print(\"\\nClassification Report:\\n\", classification_report(Y_val, y_val_pred))\n"
   ]
  },
  {
   "cell_type": "code",
   "execution_count": 30,
   "id": "34395e8d",
   "metadata": {},
   "outputs": [],
   "source": [
    "def evaluate_model(model, X_val, Y_val):\n",
    "\n",
    "    # Predicting on the validation data\n",
    "    y_pred = model.predict(X_val)\n",
    "    y_pred = [1 if p > 0.5 else 0 for p in y_pred]  # Convert probabilities to class labels\n",
    "    \n",
    "    # Calculate accuracy\n",
    "    loss, accuracy = model.evaluate(X_val, Y_val, verbose=0)\n",
    "    \n",
    "    # Print accuracy\n",
    "    print(f\"Validation Accuracy: {accuracy*100:.2f}%\")\n",
    "    \n",
    "    # Print classification report\n",
    "    print(\"\\nClassification Report:\")\n",
    "    print(classification_report(Y_val, y_pred))"
   ]
  },
  {
   "cell_type": "code",
   "execution_count": 31,
   "id": "e85d0575",
   "metadata": {},
   "outputs": [],
   "source": [
    "def plot_training_history(history):\n",
    "\n",
    "    plt.figure(figsize=(12, 5))\n",
    "\n",
    "    # Accuracy plot\n",
    "    plt.subplot(1, 2, 1)\n",
    "    plt.plot(history.history['accuracy'])\n",
    "    plt.plot(history.history['val_accuracy'])\n",
    "    plt.title('Model accuracy')\n",
    "    plt.ylabel('Accuracy')\n",
    "    plt.xlabel('Epoch')\n",
    "    plt.legend(['Train', 'Validation'], loc='upper left')\n",
    "\n",
    "    # Loss plot\n",
    "    plt.subplot(1, 2, 2)\n",
    "    plt.plot(history.history['loss'])\n",
    "    plt.plot(history.history['val_loss'])\n",
    "    plt.title('Model loss')\n",
    "    plt.ylabel('Loss')\n",
    "    plt.xlabel('Epoch')\n",
    "    plt.legend(['Train', 'Validation'], loc='upper left')\n",
    "\n",
    "    plt.tight_layout()\n",
    "    plt.show()"
   ]
  },
  {
   "cell_type": "code",
   "execution_count": 32,
   "id": "09ebc5b0",
   "metadata": {},
   "outputs": [],
   "source": [
    "from sklearn.metrics import roc_curve, auc\n",
    "\n",
    "def plot_roc_curve(model, X_val, Y_val, model_name=\"Model\"):\n",
    "\n",
    "    # Predict probabilities for the positive class\n",
    "    probas = model.predict(X_val).ravel()\n",
    "\n",
    "    # Compute ROC curve and AUC\n",
    "    fpr, tpr, _ = roc_curve(Y_val, probas)\n",
    "    roc_auc = auc(fpr, tpr)\n",
    "\n",
    "    # Plot the ROC curve\n",
    "    plt.figure(figsize=(8, 6))\n",
    "    plt.plot(fpr, tpr, color='darkorange', lw=2, label=f'ROC curve (AUC = {roc_auc:.2f})')\n",
    "    plt.plot([0, 1], [0, 1], color='navy', lw=2, linestyle='--')\n",
    "    plt.xlim([0.0, 1.0])\n",
    "    plt.ylim([0.0, 1.05])\n",
    "    plt.xlabel('False Positive Rate')\n",
    "    plt.ylabel('True Positive Rate')\n",
    "    plt.title(f'Receiver Operating Characteristic (ROC) Curve for {model_name}')\n",
    "    plt.legend(loc=\"lower right\")\n",
    "    plt.show()"
   ]
  },
  {
   "cell_type": "markdown",
   "id": "81102e20",
   "metadata": {},
   "source": [
    "---\n",
    "\n",
    "### Neural Network Model: Dense Feedforward Architecture\n",
    "\n",
    "I will construct and train our primary neural network model. Given the nature of the dataset and the task at hand (binary classification), I will employ a dense feedforward neural network, also known as a Multi-Layer Perceptron (MLP).\n",
    "\n",
    "#### Model Architecture:\n",
    "\n",
    "1. **Input Layer**: Comprising 122 neurons with a ReLU activation function. The number of neurons matches the number of features in our dataset to ensure that each feature has a corresponding input neuron.\n",
    "2. **Hidden Layers**: \n",
    "    - The first hidden layer has 64 neurons with a ReLU activation function. A dropout layer follows it with a dropout rate of 0.5 to prevent overfitting.\n",
    "    - The second hidden layer has 32 neurons with a ReLU activation function. A dropout layer with a 0.5 dropout rate again follows this.\n",
    "3. **Output Layer**: A single neuron with a sigmoid activation function to provide binary classification results (0 or 1).\n",
    "\n",
    "#### Training Parameters:\n",
    "\n",
    "- **Optimizer**: Adam optimizer. Adam is an adaptive learning rate optimization algorithm that's been designed specifically for training deep neural networks.\n",
    "- **Loss Function**: Binary cross-entropy, which is suitable for binary classification problems.\n",
    "- **Epochs**: The model will be trained for 10 epochs. An epoch is one forward pass and one backward pass of all the training examples.\n",
    "- **Batch Size**: I have chosen a batch size of 32, which means that the model will update its weights after 32 training samples.\n",
    "\n",
    "---"
   ]
  },
  {
   "cell_type": "code",
   "execution_count": 33,
   "id": "213989d6",
   "metadata": {
    "scrolled": true
   },
   "outputs": [
    {
     "name": "stdout",
     "output_type": "stream",
     "text": [
      "Model: \"sequential\"\n",
      "_________________________________________________________________\n",
      " Layer (type)                Output Shape              Param #   \n",
      "=================================================================\n",
      " dense (Dense)               (None, 122)               15006     \n",
      "                                                                 \n",
      " dropout (Dropout)           (None, 122)               0         \n",
      "                                                                 \n",
      " dense_1 (Dense)             (None, 64)                7872      \n",
      "                                                                 \n",
      " dropout_1 (Dropout)         (None, 64)                0         \n",
      "                                                                 \n",
      " dense_2 (Dense)             (None, 32)                2080      \n",
      "                                                                 \n",
      " dense_3 (Dense)             (None, 1)                 33        \n",
      "                                                                 \n",
      "=================================================================\n",
      "Total params: 24991 (97.62 KB)\n",
      "Trainable params: 24991 (97.62 KB)\n",
      "Non-trainable params: 0 (0.00 Byte)\n",
      "_________________________________________________________________\n",
      "Epoch 1/10\n",
      "2785/2785 [==============================] - 9s 3ms/step - loss: 0.1152 - accuracy: 0.9576 - val_loss: 0.0700 - val_accuracy: 0.9698\n",
      "Epoch 2/10\n",
      "2785/2785 [==============================] - 7s 3ms/step - loss: 0.0699 - accuracy: 0.9737 - val_loss: 0.0502 - val_accuracy: 0.9831\n",
      "Epoch 3/10\n",
      "2785/2785 [==============================] - 7s 3ms/step - loss: 0.0584 - accuracy: 0.9778 - val_loss: 0.0453 - val_accuracy: 0.9823\n",
      "Epoch 4/10\n",
      "2785/2785 [==============================] - 7s 3ms/step - loss: 0.0529 - accuracy: 0.9798 - val_loss: 0.0425 - val_accuracy: 0.9846\n",
      "Epoch 5/10\n",
      "2785/2785 [==============================] - 7s 3ms/step - loss: 0.0495 - accuracy: 0.9816 - val_loss: 0.0424 - val_accuracy: 0.9845\n",
      "Epoch 6/10\n",
      "2785/2785 [==============================] - 7s 3ms/step - loss: 0.0482 - accuracy: 0.9819 - val_loss: 0.0404 - val_accuracy: 0.9853\n",
      "Epoch 7/10\n",
      "2785/2785 [==============================] - 8s 3ms/step - loss: 0.0462 - accuracy: 0.9825 - val_loss: 0.0384 - val_accuracy: 0.9855\n",
      "Epoch 8/10\n",
      "2785/2785 [==============================] - 8s 3ms/step - loss: 0.0454 - accuracy: 0.9826 - val_loss: 0.0386 - val_accuracy: 0.9860\n",
      "Epoch 9/10\n",
      "2785/2785 [==============================] - 7s 3ms/step - loss: 0.0435 - accuracy: 0.9836 - val_loss: 0.0379 - val_accuracy: 0.9856\n",
      "Epoch 10/10\n",
      "2785/2785 [==============================] - 8s 3ms/step - loss: 0.0435 - accuracy: 0.9840 - val_loss: 0.0377 - val_accuracy: 0.9864\n",
      "Total training time: 76.28 seconds\n"
     ]
    }
   ],
   "source": [
    "import tensorflow as tf\n",
    "from tensorflow.keras.models import Sequential\n",
    "from tensorflow.keras.layers import Dense, Dropout\n",
    "import time\n",
    "\n",
    "# Define the model\n",
    "model_1 = Sequential()\n",
    "\n",
    "# Input layer\n",
    "model_1.add(Dense(122, input_dim=X_train.shape[1], activation='relu'))\n",
    "\n",
    "# Hidden layers\n",
    "model_1.add(Dropout(0.5))\n",
    "model_1.add(Dense(64, activation='relu'))\n",
    "model_1.add(Dropout(0.5))\n",
    "model_1.add(Dense(32, activation='relu'))\n",
    "\n",
    "# Output layer\n",
    "model_1.add(Dense(1, activation='sigmoid'))  # Using sigmoid activation for binary classification\n",
    "\n",
    "# Compile the model\n",
    "model_1.compile(optimizer='adam', loss='binary_crossentropy', metrics=['accuracy'])\n",
    "\n",
    "# Display the model's architecture\n",
    "model_1.summary()\n",
    "\n",
    "# Record the start time\n",
    "start_time = time.time()\n",
    "\n",
    "# Train the model\n",
    "history = model_1.fit(X_train, Y_train, validation_data=(X_val, Y_val), epochs=10, batch_size=32, verbose=1)\n",
    "\n",
    "# Record the end time\n",
    "end_time = time.time()\n",
    "\n",
    "# Calculate the total training time\n",
    "model_1_training_time = end_time - start_time\n",
    "print(f\"Total training time: {model_1_training_time:.2f} seconds\")"
   ]
  },
  {
   "cell_type": "code",
   "execution_count": 34,
   "id": "71074aa4",
   "metadata": {
    "scrolled": true
   },
   "outputs": [
    {
     "name": "stdout",
     "output_type": "stream",
     "text": [
      "929/929 [==============================] - 1s 1ms/step\n",
      "Validation Accuracy: 98.64%\n",
      "\n",
      "Classification Report:\n",
      "              precision    recall  f1-score   support\n",
      "\n",
      "           0       0.99      0.98      0.99     15411\n",
      "           1       0.98      0.99      0.99     14292\n",
      "\n",
      "    accuracy                           0.99     29703\n",
      "   macro avg       0.99      0.99      0.99     29703\n",
      "weighted avg       0.99      0.99      0.99     29703\n",
      "\n"
     ]
    }
   ],
   "source": [
    "evaluate_model(model_1, X_val, Y_val)"
   ]
  },
  {
   "cell_type": "code",
   "execution_count": 35,
   "id": "1657b94f",
   "metadata": {
    "scrolled": true
   },
   "outputs": [
    {
     "data": {
      "image/png": "[encoded data removed]",
      "text/plain": [
       "<Figure size 864x360 with 2 Axes>"
      ]
     },
     "metadata": {
      "needs_background": "light"
     },
     "output_type": "display_data"
    }
   ],
   "source": [
    "plot_training_history(history)"
   ]
  },
  {
   "cell_type": "code",
   "execution_count": 36,
   "id": "af37aa0e",
   "metadata": {
    "scrolled": true
   },
   "outputs": [
    {
     "name": "stdout",
     "output_type": "stream",
     "text": [
      "929/929 [==============================] - 1s 1ms/step\n"
     ]
    },
    {
     "data": {
      "image/png": "[encoded data removed]",
      "text/plain": [
       "<Figure size 576x432 with 1 Axes>"
      ]
     },
     "metadata": {
      "needs_background": "light"
     },
     "output_type": "display_data"
    }
   ],
   "source": [
    "plot_roc_curve(model_1, X_val, Y_val, model_name=\"model_1\")"
   ]
  },
  {
   "cell_type": "markdown",
   "id": "0439abf7",
   "metadata": {},
   "source": [
    "---\n",
    "\n",
    "### Neural Network Model 2: Simplified Dense Feedforward Architecture\n",
    "\n",
    "This model, aim to test how a simpler architecture performs compared to the previous one. By reducing the complexity, we might achieve faster training times and perhaps even better generalization.\n",
    "\n",
    "#### Model Architecture:\n",
    "\n",
    "1. **Input Layer**: As with our previous model, this layer comprises 122 neurons with a ReLU activation function, corresponding to each feature in our dataset.\n",
    "2. **Hidden Layer**: A single hidden layer with 64 neurons and a ReLU activation function. This reduction in complexity compared to the previous model is to test how well a simpler model can perform.\n",
    "3. **Output Layer**: A single neuron with a sigmoid activation function to provide binary classification results (either 0 or 1).\n",
    "\n",
    "#### Training Parameters:\n",
    "\n",
    "- **Optimizer**: Adam optimizer, a popular choice for training neural networks due to its adaptive learning rate capabilities.\n",
    "- **Loss Function**: Binary cross-entropy, suitable for our binary classification problem.\n",
    "- **Epochs**: We'll train the model for 10 epochs.\n",
    "- **Batch Size**: A batch size of 32 has been chosen, meaning the model will update its weights after 32 training samples.\n",
    "\n",
    "---"
   ]
  },
  {
   "cell_type": "code",
   "execution_count": 37,
   "id": "e4541cc9",
   "metadata": {
    "scrolled": true
   },
   "outputs": [
    {
     "name": "stdout",
     "output_type": "stream",
     "text": [
      "Model: \"sequential_1\"\n",
      "_________________________________________________________________\n",
      " Layer (type)                Output Shape              Param #   \n",
      "=================================================================\n",
      " dense_4 (Dense)             (None, 122)               15006     \n",
      "                                                                 \n",
      " dense_5 (Dense)             (None, 64)                7872      \n",
      "                                                                 \n",
      " dense_6 (Dense)             (None, 1)                 65        \n",
      "                                                                 \n",
      "=================================================================\n",
      "Total params: 22943 (89.62 KB)\n",
      "Trainable params: 22943 (89.62 KB)\n",
      "Non-trainable params: 0 (0.00 Byte)\n",
      "_________________________________________________________________\n",
      "Epoch 1/10\n",
      "2785/2785 [==============================] - 7s 2ms/step - loss: 0.0855 - accuracy: 0.9679 - val_loss: 0.0588 - val_accuracy: 0.9770\n",
      "Epoch 2/10\n",
      "2785/2785 [==============================] - 6s 2ms/step - loss: 0.0483 - accuracy: 0.9811 - val_loss: 0.0429 - val_accuracy: 0.9852\n",
      "Epoch 3/10\n",
      "2785/2785 [==============================] - 7s 2ms/step - loss: 0.0388 - accuracy: 0.9854 - val_loss: 0.0392 - val_accuracy: 0.9855\n",
      "Epoch 4/10\n",
      "2785/2785 [==============================] - 9s 3ms/step - loss: 0.0346 - accuracy: 0.9861 - val_loss: 0.0391 - val_accuracy: 0.9846\n",
      "Epoch 5/10\n",
      "2785/2785 [==============================] - 9s 3ms/step - loss: 0.0316 - accuracy: 0.9876 - val_loss: 0.0375 - val_accuracy: 0.9856\n",
      "Epoch 6/10\n",
      "2785/2785 [==============================] - 9s 3ms/step - loss: 0.0296 - accuracy: 0.9883 - val_loss: 0.0419 - val_accuracy: 0.9859\n",
      "Epoch 7/10\n",
      "2785/2785 [==============================] - 9s 3ms/step - loss: 0.0276 - accuracy: 0.9893 - val_loss: 0.0325 - val_accuracy: 0.9884\n",
      "Epoch 8/10\n",
      "2785/2785 [==============================] - 9s 3ms/step - loss: 0.0264 - accuracy: 0.9895 - val_loss: 0.0346 - val_accuracy: 0.9884\n",
      "Epoch 9/10\n",
      "2785/2785 [==============================] - 8s 3ms/step - loss: 0.0250 - accuracy: 0.9903 - val_loss: 0.0342 - val_accuracy: 0.9886\n",
      "Epoch 10/10\n",
      "2785/2785 [==============================] - 9s 3ms/step - loss: 0.0239 - accuracy: 0.9908 - val_loss: 0.0347 - val_accuracy: 0.9889\n",
      "Total training time: 81.07 seconds\n"
     ]
    }
   ],
   "source": [
    "# Define the model\n",
    "model_2 = Sequential()\n",
    "\n",
    "# Input layer\n",
    "model_2.add(Dense(122, input_dim=X_train.shape[1], activation='relu'))\n",
    "\n",
    "# Hidden layer\n",
    "model_2.add(Dense(64, activation='relu'))\n",
    "\n",
    "# Output layer\n",
    "model_2.add(Dense(1, activation='sigmoid'))  # Using sigmoid activation for binary classification\n",
    "\n",
    "# Compile the model\n",
    "model_2.compile(optimizer='adam', loss='binary_crossentropy', metrics=['accuracy'])\n",
    "\n",
    "# Display the model's architecture\n",
    "model_2.summary()\n",
    "\n",
    "# Record the start time\n",
    "start_time = time.time()\n",
    "\n",
    "# Train the model\n",
    "history_2 = model_2.fit(X_train, Y_train, validation_data=(X_val, Y_val), epochs=10, batch_size=32)\n",
    "\n",
    "# Record the end time\n",
    "end_time = time.time()\n",
    "\n",
    "# Calculate the total training time\n",
    "model_2_training_time = end_time - start_time\n",
    "print(f\"Total training time: {model_2_training_time:.2f} seconds\")"
   ]
  },
  {
   "cell_type": "code",
   "execution_count": 38,
   "id": "f9e19c4f",
   "metadata": {
    "scrolled": false
   },
   "outputs": [
    {
     "name": "stdout",
     "output_type": "stream",
     "text": [
      "929/929 [==============================] - 1s 1ms/step\n",
      "Validation Accuracy: 98.89%\n",
      "\n",
      "Classification Report:\n",
      "              precision    recall  f1-score   support\n",
      "\n",
      "           0       0.99      0.99      0.99     15411\n",
      "           1       0.99      0.99      0.99     14292\n",
      "\n",
      "    accuracy                           0.99     29703\n",
      "   macro avg       0.99      0.99      0.99     29703\n",
      "weighted avg       0.99      0.99      0.99     29703\n",
      "\n"
     ]
    }
   ],
   "source": [
    "evaluate_model(model_2, X_val, Y_val)"
   ]
  },
  {
   "cell_type": "code",
   "execution_count": 39,
   "id": "8d851cec",
   "metadata": {
    "scrolled": true
   },
   "outputs": [
    {
     "data": {
      "image/png": "[encoded data removed]",
      "text/plain": [
       "<Figure size 864x360 with 2 Axes>"
      ]
     },
     "metadata": {
      "needs_background": "light"
     },
     "output_type": "display_data"
    }
   ],
   "source": [
    "plot_training_history(history_2)"
   ]
  },
  {
   "cell_type": "code",
   "execution_count": 40,
   "id": "dd1467bd",
   "metadata": {
    "scrolled": true
   },
   "outputs": [
    {
     "name": "stdout",
     "output_type": "stream",
     "text": [
      "929/929 [==============================] - 1s 1ms/step\n"
     ]
    },
    {
     "data": {
      "image/png": "[encoded data removed]",
      "text/plain": [
       "<Figure size 576x432 with 1 Axes>"
      ]
     },
     "metadata": {
      "needs_background": "light"
     },
     "output_type": "display_data"
    }
   ],
   "source": [
    "plot_roc_curve(model_2, X_val, Y_val, model_name=\"model_2\")"
   ]
  },
  {
   "cell_type": "markdown",
   "id": "36700759",
   "metadata": {},
   "source": [
    "---\n",
    "\n",
    "### Neural Network Model 3: Dense Feedforward with Batch Normalization\n",
    "\n",
    "For this third model, I have introduce batch normalization layers and utilize the `tanh` activation function. Batch normalization can potentially help in stabilizing the learning process and achieving faster convergence. The `tanh` activation function is another popular choice, especially for problems where negative activations are useful.\n",
    "\n",
    "#### Model Architecture:\n",
    "\n",
    "1. **Input Layer**: This layer comprises 122 neurons with a `tanh` activation function, matching the number of features in our dataset.\n",
    "2. **Hidden Layers**: \n",
    "    - After the input, we introduce a batch normalization layer.\n",
    "    - The first hidden layer has 64 neurons with a `tanh` activation function, followed by another batch normalization layer.\n",
    "    - The second hidden layer consists of 32 neurons, again with a `tanh` activation function.\n",
    "3. **Output Layer**: The output layer uses a single neuron with a sigmoid activation function, optimal for binary classification tasks.\n",
    "\n",
    "#### Training Parameters:\n",
    "\n",
    "- **Optimizer**: For this model, we switch to the `RMSprop` optimizer, which adjusts the learning rate during training.\n",
    "- **Loss Function**: We continue with binary cross-entropy for our binary classification problem.\n",
    "- **Epochs**: The model undergoes training for 10 epochs.\n",
    "- **Batch Size**: We maintain a batch size of 32.\n",
    "\n",
    "---"
   ]
  },
  {
   "cell_type": "code",
   "execution_count": 41,
   "id": "7e394254",
   "metadata": {
    "scrolled": true
   },
   "outputs": [
    {
     "name": "stdout",
     "output_type": "stream",
     "text": [
      "Model: \"sequential_2\"\n",
      "_________________________________________________________________\n",
      " Layer (type)                Output Shape              Param #   \n",
      "=================================================================\n",
      " dense_7 (Dense)             (None, 128)               15744     \n",
      "                                                                 \n",
      " batch_normalization (Batch  (None, 128)               512       \n",
      " Normalization)                                                  \n",
      "                                                                 \n",
      " dense_8 (Dense)             (None, 64)                8256      \n",
      "                                                                 \n",
      " batch_normalization_1 (Bat  (None, 64)                256       \n",
      " chNormalization)                                                \n",
      "                                                                 \n",
      " dense_9 (Dense)             (None, 32)                2080      \n",
      "                                                                 \n",
      " dense_10 (Dense)            (None, 1)                 33        \n",
      "                                                                 \n",
      "=================================================================\n",
      "Total params: 26881 (105.00 KB)\n",
      "Trainable params: 26497 (103.50 KB)\n",
      "Non-trainable params: 384 (1.50 KB)\n",
      "_________________________________________________________________\n",
      "Epoch 1/10\n",
      "2785/2785 [==============================] - 9s 3ms/step - loss: 0.0848 - accuracy: 0.9680 - val_loss: 0.0936 - val_accuracy: 0.9750\n",
      "Epoch 2/10\n",
      "2785/2785 [==============================] - 11s 4ms/step - loss: 0.0540 - accuracy: 0.9797 - val_loss: 0.0447 - val_accuracy: 0.9843\n",
      "Epoch 3/10\n",
      "2785/2785 [==============================] - 10s 4ms/step - loss: 0.0469 - accuracy: 0.9824 - val_loss: 0.0428 - val_accuracy: 0.9832\n",
      "Epoch 4/10\n",
      "2785/2785 [==============================] - 8s 3ms/step - loss: 0.0433 - accuracy: 0.9840 - val_loss: 0.0390 - val_accuracy: 0.9855\n",
      "Epoch 5/10\n",
      "2785/2785 [==============================] - 10s 4ms/step - loss: 0.0409 - accuracy: 0.9849 - val_loss: 0.0423 - val_accuracy: 0.9847\n",
      "Epoch 6/10\n",
      "2785/2785 [==============================] - 8s 3ms/step - loss: 0.0402 - accuracy: 0.9853 - val_loss: 0.0398 - val_accuracy: 0.9856\n",
      "Epoch 7/10\n",
      "2785/2785 [==============================] - 8s 3ms/step - loss: 0.0382 - accuracy: 0.9861 - val_loss: 0.0401 - val_accuracy: 0.9857\n",
      "Epoch 8/10\n",
      "2785/2785 [==============================] - 10s 3ms/step - loss: 0.0365 - accuracy: 0.9868 - val_loss: 0.0355 - val_accuracy: 0.9876\n",
      "Epoch 9/10\n",
      "2785/2785 [==============================] - 9s 3ms/step - loss: 0.0361 - accuracy: 0.9870 - val_loss: 0.0366 - val_accuracy: 0.9870\n",
      "Epoch 10/10\n",
      "2785/2785 [==============================] - 8s 3ms/step - loss: 0.0356 - accuracy: 0.9872 - val_loss: 0.0346 - val_accuracy: 0.9878\n",
      "Total training time: 91.58 seconds\n"
     ]
    }
   ],
   "source": [
    "from keras.layers import BatchNormalization\n",
    "\n",
    "# Define the model\n",
    "model_3 = Sequential()\n",
    "\n",
    "# Input layer\n",
    "model_3.add(Dense(128, input_dim=X_train.shape[1], activation='tanh'))\n",
    "\n",
    "# Hidden layers\n",
    "model_3.add(BatchNormalization())\n",
    "model_3.add(Dense(64, activation='tanh'))\n",
    "model_3.add(BatchNormalization())\n",
    "model_3.add(Dense(32, activation='tanh'))\n",
    "\n",
    "# Output layer\n",
    "model_3.add(Dense(1, activation='sigmoid'))\n",
    "\n",
    "# Compile the model\n",
    "model_3.compile(optimizer='rmsprop', loss='binary_crossentropy', metrics=['accuracy'])\n",
    "\n",
    "# Display the model's architecture\n",
    "model_3.summary()\n",
    "\n",
    "# Record the start time\n",
    "start_time = time.time()\n",
    "\n",
    "# Train the model\n",
    "history_3 = model_3.fit(X_train, Y_train, validation_data=(X_val, Y_val), epochs=10, batch_size=32)\n",
    "\n",
    "# Record the end time\n",
    "end_time = time.time()\n",
    "\n",
    "# Calculate the total training time\n",
    "model_2_training_time = end_time - start_time\n",
    "print(f\"Total training time: {model_2_training_time:.2f} seconds\")"
   ]
  },
  {
   "cell_type": "code",
   "execution_count": 42,
   "id": "c7656cc7",
   "metadata": {
    "scrolled": true
   },
   "outputs": [
    {
     "name": "stdout",
     "output_type": "stream",
     "text": [
      "929/929 [==============================] - 1s 2ms/step\n",
      "Validation Accuracy: 98.78%\n",
      "\n",
      "Classification Report:\n",
      "              precision    recall  f1-score   support\n",
      "\n",
      "           0       0.99      0.99      0.99     15411\n",
      "           1       0.98      0.99      0.99     14292\n",
      "\n",
      "    accuracy                           0.99     29703\n",
      "   macro avg       0.99      0.99      0.99     29703\n",
      "weighted avg       0.99      0.99      0.99     29703\n",
      "\n"
     ]
    }
   ],
   "source": [
    "evaluate_model(model_3, X_val, Y_val)"
   ]
  },
  {
   "cell_type": "code",
   "execution_count": 43,
   "id": "b56fca5e",
   "metadata": {
    "scrolled": true
   },
   "outputs": [
    {
     "data": {
      "image/png": "[encoded data removed]",
      "text/plain": [
       "<Figure size 864x360 with 2 Axes>"
      ]
     },
     "metadata": {
      "needs_background": "light"
     },
     "output_type": "display_data"
    }
   ],
   "source": [
    "plot_training_history(history_3)"
   ]
  },
  {
   "cell_type": "code",
   "execution_count": 44,
   "id": "d6679b34",
   "metadata": {
    "scrolled": false
   },
   "outputs": [
    {
     "name": "stdout",
     "output_type": "stream",
     "text": [
      "929/929 [==============================] - 1s 1ms/step\n"
     ]
    },
    {
     "data": {
      "image/png": "[encoded data removed]",
      "text/plain": [
       "<Figure size 576x432 with 1 Axes>"
      ]
     },
     "metadata": {
      "needs_background": "light"
     },
     "output_type": "display_data"
    }
   ],
   "source": [
    "plot_roc_curve(model_3, X_val, Y_val, model_name=\"model_3\")"
   ]
  },
  {
   "cell_type": "markdown",
   "id": "d6af24f4",
   "metadata": {},
   "source": [
    "---\n",
    "\n",
    "### Neural Network Model 4: Enhanced Feedforward with LeakyReLU and Increased Complexity\n",
    "\n",
    "The fourth variation, I have introduce a more complex architecture combined with the use of the LeakyReLU activation function. The LeakyReLU activation function allows a small gradient when the unit is not active, which can potentially accelerate convergence and give a more dynamic range to the activations. Also increase the model's depth by adding more dense layers, potentially giving the model more expressive power.\n",
    "\n",
    "#### Model Architecture:\n",
    "\n",
    "1. **Input Layer**: This layer comprises 122 neurons with a LeakyReLU activation function.\n",
    "2. **Hidden Layers**: \n",
    "    - The first hidden layer consists of 256 neurons, followed by a LeakyReLU activation.\n",
    "    - A dropout layer follows with a rate of 0.5 to combat overfitting.\n",
    "    - The second hidden layer has 128 neurons, followed by another LeakyReLU activation and a dropout layer with a rate of 0.5.\n",
    "    - The third hidden layer consists of 64 neurons with a standard ReLU activation.\n",
    "3. **Output Layer**: The output layer uses a single neuron with a sigmoid activation function, suitable for binary classification.\n",
    "\n",
    "#### Training Parameters:\n",
    "\n",
    "- **Optimizer**: The Adam optimizer is used for training.\n",
    "- **Loss Function**: Binary cross-entropy remains our choice for this binary classification problem.\n",
    "- **Epochs**: The model is trained for 10 epochs.\n",
    "- **Batch Size**: We use a batch size of 32.\n",
    "\n",
    "---"
   ]
  },
  {
   "cell_type": "code",
   "execution_count": 45,
   "id": "bf0d4737",
   "metadata": {},
   "outputs": [
    {
     "name": "stdout",
     "output_type": "stream",
     "text": [
      "Model: \"sequential_3\"\n",
      "_________________________________________________________________\n",
      " Layer (type)                Output Shape              Param #   \n",
      "=================================================================\n",
      " dense_11 (Dense)            (None, 122)               15006     \n",
      "                                                                 \n",
      " leaky_re_lu (LeakyReLU)     (None, 122)               0         \n",
      "                                                                 \n",
      " dense_12 (Dense)            (None, 256)               31488     \n",
      "                                                                 \n",
      " leaky_re_lu_1 (LeakyReLU)   (None, 256)               0         \n",
      "                                                                 \n",
      " dropout_2 (Dropout)         (None, 256)               0         \n",
      "                                                                 \n",
      " dense_13 (Dense)            (None, 128)               32896     \n",
      "                                                                 \n",
      " leaky_re_lu_2 (LeakyReLU)   (None, 128)               0         \n",
      "                                                                 \n",
      " dropout_3 (Dropout)         (None, 128)               0         \n",
      "                                                                 \n",
      " dense_14 (Dense)            (None, 64)                8256      \n",
      "                                                                 \n",
      " dense_15 (Dense)            (None, 1)                 65        \n",
      "                                                                 \n",
      "=================================================================\n",
      "Total params: 87711 (342.62 KB)\n",
      "Trainable params: 87711 (342.62 KB)\n",
      "Non-trainable params: 0 (0.00 Byte)\n",
      "_________________________________________________________________\n",
      "Epoch 1/10\n",
      "2785/2785 [==============================] - 14s 5ms/step - loss: 0.0866 - accuracy: 0.9674 - val_loss: 0.0565 - val_accuracy: 0.9780\n",
      "Epoch 2/10\n",
      "2785/2785 [==============================] - 12s 4ms/step - loss: 0.0486 - accuracy: 0.9810 - val_loss: 0.0456 - val_accuracy: 0.9821\n",
      "Epoch 3/10\n",
      "2785/2785 [==============================] - 11s 4ms/step - loss: 0.0418 - accuracy: 0.9840 - val_loss: 0.0486 - val_accuracy: 0.9820\n",
      "Epoch 4/10\n",
      "2785/2785 [==============================] - 12s 4ms/step - loss: 0.0381 - accuracy: 0.9852 - val_loss: 0.0387 - val_accuracy: 0.9857\n",
      "Epoch 5/10\n",
      "2785/2785 [==============================] - 12s 4ms/step - loss: 0.0362 - accuracy: 0.9861 - val_loss: 0.0358 - val_accuracy: 0.9871\n",
      "Epoch 6/10\n",
      "2785/2785 [==============================] - 11s 4ms/step - loss: 0.0340 - accuracy: 0.9867 - val_loss: 0.0341 - val_accuracy: 0.9875\n",
      "Epoch 7/10\n",
      "2785/2785 [==============================] - 10s 4ms/step - loss: 0.0320 - accuracy: 0.9874 - val_loss: 0.0385 - val_accuracy: 0.9862\n",
      "Epoch 8/10\n",
      "2785/2785 [==============================] - 10s 4ms/step - loss: 0.0304 - accuracy: 0.9884 - val_loss: 0.0338 - val_accuracy: 0.9881\n",
      "Epoch 9/10\n",
      "2785/2785 [==============================] - 10s 4ms/step - loss: 0.0289 - accuracy: 0.9885 - val_loss: 0.0371 - val_accuracy: 0.9882\n",
      "Epoch 10/10\n",
      "2785/2785 [==============================] - 10s 4ms/step - loss: 0.0293 - accuracy: 0.9885 - val_loss: 0.0338 - val_accuracy: 0.9880\n",
      "Total training time: 113.72 seconds\n"
     ]
    }
   ],
   "source": [
    "from tensorflow.keras.layers import LeakyReLU\n",
    "\n",
    "# Define the model\n",
    "model_4 = Sequential()\n",
    "\n",
    "# Input layer\n",
    "model_4.add(Dense(122, input_dim=X_train.shape[1]))\n",
    "model_4.add(LeakyReLU(alpha=0.05))\n",
    "\n",
    "# Hidden layers\n",
    "model_4.add(Dense(256))\n",
    "model_4.add(LeakyReLU(alpha=0.05))\n",
    "model_4.add(Dropout(0.5))\n",
    "\n",
    "model_4.add(Dense(128))\n",
    "model_4.add(LeakyReLU(alpha=0.05))\n",
    "model_4.add(Dropout(0.5))\n",
    "\n",
    "model_4.add(Dense(64, activation='relu'))\n",
    "\n",
    "# Output layer\n",
    "model_4.add(Dense(1, activation='sigmoid'))\n",
    "\n",
    "# Compile the model\n",
    "model_4.compile(optimizer='adam', loss='binary_crossentropy', metrics=['accuracy'])\n",
    "\n",
    "# Display the model's architecture\n",
    "model_4.summary()\n",
    "\n",
    "# Record the start time\n",
    "start_time = time.time()\n",
    "\n",
    "# Train the model\n",
    "history_4 = model_4.fit(X_train, Y_train, validation_data=(X_val, Y_val), epochs=10, batch_size=32)\n",
    "\n",
    "# Record the end time\n",
    "end_time = time.time()\n",
    "\n",
    "# Calculate the total training time\n",
    "model_2_training_time = end_time - start_time\n",
    "print(f\"Total training time: {model_2_training_time:.2f} seconds\")"
   ]
  },
  {
   "cell_type": "code",
   "execution_count": 46,
   "id": "4ef889c6",
   "metadata": {},
   "outputs": [
    {
     "name": "stdout",
     "output_type": "stream",
     "text": [
      "929/929 [==============================] - 1s 2ms/step\n",
      "Validation Accuracy: 98.80%\n",
      "\n",
      "Classification Report:\n",
      "              precision    recall  f1-score   support\n",
      "\n",
      "           0       0.99      0.99      0.99     15411\n",
      "           1       0.99      0.99      0.99     14292\n",
      "\n",
      "    accuracy                           0.99     29703\n",
      "   macro avg       0.99      0.99      0.99     29703\n",
      "weighted avg       0.99      0.99      0.99     29703\n",
      "\n"
     ]
    }
   ],
   "source": [
    "evaluate_model(model_4, X_val, Y_val)"
   ]
  },
  {
   "cell_type": "code",
   "execution_count": 47,
   "id": "d6fd411f",
   "metadata": {},
   "outputs": [
    {
     "data": {
      "image/png": "[encoded data removed]",
      "text/plain": [
       "<Figure size 864x360 with 2 Axes>"
      ]
     },
     "metadata": {
      "needs_background": "light"
     },
     "output_type": "display_data"
    }
   ],
   "source": [
    "plot_training_history(history_4)"
   ]
  },
  {
   "cell_type": "code",
   "execution_count": 48,
   "id": "bc9c1d9d",
   "metadata": {
    "scrolled": true
   },
   "outputs": [
    {
     "name": "stdout",
     "output_type": "stream",
     "text": [
      "929/929 [==============================] - 1s 2ms/step\n"
     ]
    },
    {
     "data": {
      "image/png": "[encoded data removed]",
      "text/plain": [
       "<Figure size 576x432 with 1 Axes>"
      ]
     },
     "metadata": {
      "needs_background": "light"
     },
     "output_type": "display_data"
    }
   ],
   "source": [
    "plot_roc_curve(model_4, X_val, Y_val, model_name=\"model_4\")"
   ]
  },
  {
   "cell_type": "markdown",
   "id": "43bec55b",
   "metadata": {},
   "source": [
    "### Saving the Best Model\n",
    "\n",
    "Given the evaluations and comparisons of all the models, `model_2` has proven to have the best performance in terms of accuracy and other metrics. It's crucial to save the architecture, weights, and training configuration of the best-performing model to allow for easy deployment, further analysis, or further training in the future.\n"
   ]
  },
  {
   "cell_type": "code",
   "execution_count": 48,
   "id": "52d413a5",
   "metadata": {},
   "outputs": [],
   "source": [
    "model_2.save('../Models/NeuralNetworkModel.keras')"
   ]
  },
  {
   "cell_type": "code",
   "execution_count": 49,
   "id": "e1c85ebb",
   "metadata": {},
   "outputs": [],
   "source": [
    "streaming_simulation_df.to_csv('../Data/EncodedStreamingDataset.csv', index=False)"
   ]
  },
  {
   "cell_type": "code",
   "execution_count": null,
   "id": "16b35ec9",
   "metadata": {},
   "outputs": [],
   "source": []
  }
 ],
 "metadata": {
  "kernelspec": {
   "display_name": "Python 3 (ipykernel)",
   "language": "python",
   "name": "python3"
  },
  "language_info": {
   "codemirror_mode": {
    "name": "ipython",
    "version": 3
   },
   "file_extension": ".py",
   "mimetype": "text/x-python",
   "name": "python",
   "nbconvert_exporter": "python",
   "pygments_lexer": "ipython3",
   "version": "3.9.12"
  }
 },
 "nbformat": 4,
 "nbformat_minor": 5
}
