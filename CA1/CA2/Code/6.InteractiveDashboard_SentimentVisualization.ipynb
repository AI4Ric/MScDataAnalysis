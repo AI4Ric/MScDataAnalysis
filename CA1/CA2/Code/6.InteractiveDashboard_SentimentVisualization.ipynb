{
 "cells": [
  {
   "cell_type": "code",
   "execution_count": 1,
   "id": "57615efc",
   "metadata": {},
   "outputs": [],
   "source": [
    "import dash\n",
    "from dash import dcc, html, Input, Output, State\n",
    "import plotly.express as px\n",
    "import pandas as pd\n",
    "from datetime import datetime"
   ]
  },
  {
   "cell_type": "code",
   "execution_count": 2,
   "id": "c98408d3",
   "metadata": {},
   "outputs": [],
   "source": [
    "actual = pd.read_csv(\"actual_data.csv\")\n",
    "forecast = pd.read_csv(\"forecast_data.csv\")\n",
    "\n",
    "# Define headers\n",
    "headers = [\"Date\", \"average_sentiment\"]\n",
    "\n",
    "# Assign headers to df1\n",
    "forecast.columns = headers\n",
    "\n",
    "# Convert the 'Date' column to datetime\n",
    "actual['Date'] = pd.to_datetime(actual['Date'])\n",
    "forecast['Date'] = pd.to_datetime(forecast['Date'])"
   ]
  },
  {
   "cell_type": "code",
   "execution_count": 3,
   "id": "bf57628b",
   "metadata": {},
   "outputs": [],
   "source": [
    "# Function to create the plot\n",
    "def create_dashboard(df1, df2, aggregation='W'):\n",
    "    # Aggregate data based on the selected aggregation\n",
    "    df1_agg = aggregate_data(df1, aggregation)\n",
    "    df2_agg = aggregate_data(df2, aggregation)\n",
    "\n",
    "    # Create subplots\n",
    "    fig = make_subplots(specs=[[{\"secondary_y\": True}]])\n",
    "\n",
    "    # Add traces\n",
    "    fig.add_trace(go.Scatter(x=df1_agg.index, y=df1_agg['average_sentiment'], name='Real Info', line=dict(color='blue')))\n",
    "    fig.add_trace(go.Scatter(x=df2_agg.index, y=df2_agg['average_sentiment'], name='Forecasted Info', line=dict(color='red')))\n",
    "\n",
    "    # Add layout\n",
    "    fig.update_layout(title_text=\"Data Visualization Dashboard\", xaxis_title=\"Date\", yaxis_title=\"Average Score\")\n",
    "    return fig"
   ]
  },
  {
   "cell_type": "code",
   "execution_count": 4,
   "id": "027cd0d0",
   "metadata": {},
   "outputs": [],
   "source": [
    "# Function to aggregate data\n",
    "def aggregate_data(df, freq):\n",
    "    return df.resample(freq, on='Date').mean()"
   ]
  },
  {
   "cell_type": "code",
   "execution_count": 5,
   "id": "3d282350",
   "metadata": {},
   "outputs": [],
   "source": [
    "app = dash.Dash(__name__)"
   ]
  },
  {
   "cell_type": "code",
   "execution_count": 6,
   "id": "4b14f303",
   "metadata": {},
   "outputs": [],
   "source": [
    "app.layout = html.Div([\n",
    "    dcc.Dropdown(\n",
    "        id='frequency-dropdown',\n",
    "        options=[\n",
    "            {'label': 'Weekly', 'value': 'W'},\n",
    "            {'label': 'Monthly', 'value': 'M'},\n",
    "            {'label': 'Quarterly', 'value': 'Q'}\n",
    "        ],\n",
    "        value='W',  # default value\n",
    "    ),\n",
    "    dcc.Dropdown(\n",
    "        id='dataframe-dropdown',\n",
    "        options=[\n",
    "            {'label': 'Forecast', 'value': 'forecast'},\n",
    "            {'label': 'Actual', 'value': 'actual'},\n",
    "            {'label': 'Both', 'value': 'both'}\n",
    "        ],\n",
    "        value='both'  # default value\n",
    "    ),\n",
    "    dcc.DatePickerRange(\n",
    "        id='date-picker-range',\n",
    "        start_date=datetime(2009, 4, 12),  # Set the default start date\n",
    "        end_date=datetime(2009, 9, 20),  # Set the default end date\n",
    "        min_date_allowed=datetime(2009, 4, 12),  # Set the earliest selectable date\n",
    "        max_date_allowed=datetime(2009, 9, 20),  # Set the latest selectable date\n",
    "        initial_visible_month=datetime(2009, 4, 12),  # Set the initial month displayed\n",
    "        end_date_placeholder_text='End Period',\n",
    "        calendar_orientation='horizontal',\n",
    "    ),\n",
    "    dcc.Graph(id='timeseries-graph')\n",
    "])"
   ]
  },
  {
   "cell_type": "code",
   "execution_count": 7,
   "id": "8e3c8260",
   "metadata": {},
   "outputs": [],
   "source": [
    "@app.callback(\n",
    "    Output('timeseries-graph', 'figure'),\n",
    "    [Input('frequency-dropdown', 'value'),\n",
    "     Input('dataframe-dropdown', 'value'),\n",
    "     Input('date-picker-range', 'start_date'),\n",
    "     Input('date-picker-range', 'end_date')]\n",
    ")\n",
    "def update_graph(frequency, dataframe, start_date, end_date):\n",
    "    # Based on the inputs, filter and/or aggregate the dataframes, and generate the plot\n",
    "    # Here you would include your logic to filter the df_forecast and df_actual based on the selected dates\n",
    "    # and frequency, then plot them using Plotly Express or Graph Objects\n",
    "    # Aggregate data based on the selected aggregation\n",
    "    filtered_df2 = forecast[(forecast['Date'] >= start_date) & (forecast['Date'] <= end_date)]\n",
    "    filtered_df1 = actual[(actual['Date'] >= start_date) & (actual['Date'] <= end_date)]\n",
    "    \n",
    "    \n",
    "    \n",
    "    # Reset the index to turn the 'Date' index into a column\n",
    "    \n",
    "    \n",
    "\n",
    "    # Sample plot generation (replace this with your actual plotting logic)\n",
    "    fig = px.line()  # or use go.Figure() for more complex plots\n",
    "\n",
    "    if dataframe in ['forecast', 'both']:\n",
    "        if not filtered_df2.empty:\n",
    "            df2 = aggregate_data(filtered_df2, frequency)\n",
    "            df2 = df2.reset_index()\n",
    "        # Filter and resample df_forecast according to frequency and date range\n",
    "        # ...\n",
    "            fig.add_scatter(x=df2['Date'], y=df2['average_sentiment'], name='Forecast')\n",
    "\n",
    "    if dataframe in ['actual', 'both']:\n",
    "        if not filtered_df1.empty:\n",
    "            df1 = aggregate_data(filtered_df1, frequency)\n",
    "            df1 = df1.reset_index()\n",
    "        # Filter and resample df_actual according to frequency and date range\n",
    "        # ...\n",
    "            fig.add_scatter(x=df1['Date'], y=df1['average_sentiment'], name='Actual')\n",
    "            \n",
    "    fig.update_layout(title='Average Sentiment Over Time', xaxis_title='Date', yaxis_title='Average Sentiment')\n",
    "\n",
    "    return fig"
   ]
  },
  {
   "cell_type": "markdown",
   "id": "ad3c3445",
   "metadata": {},
   "source": [
    "http://127.0.0.1:8050/"
   ]
  },
  {
   "cell_type": "code",
   "execution_count": 8,
   "id": "27dd45d9",
   "metadata": {},
   "outputs": [
    {
     "data": {
      "text/html": [
       "\n",
       "        <iframe\n",
       "            width=\"100%\"\n",
       "            height=\"650\"\n",
       "            src=\"http://127.0.0.1:8050/\"\n",
       "            frameborder=\"0\"\n",
       "            allowfullscreen\n",
       "            \n",
       "        ></iframe>\n",
       "        "
      ],
      "text/plain": [
       "<IPython.lib.display.IFrame at 0x256ca0aab80>"
      ]
     },
     "metadata": {},
     "output_type": "display_data"
    }
   ],
   "source": [
    "if __name__ == '__main__':\n",
    "    app.run_server(debug=True)"
   ]
  },
  {
   "cell_type": "code",
   "execution_count": null,
   "id": "fb68856d",
   "metadata": {},
   "outputs": [],
   "source": []
  }
 ],
 "metadata": {
  "kernelspec": {
   "display_name": "Python 3 (ipykernel)",
   "language": "python",
   "name": "python3"
  },
  "language_info": {
   "codemirror_mode": {
    "name": "ipython",
    "version": 3
   },
   "file_extension": ".py",
   "mimetype": "text/x-python",
   "name": "python",
   "nbconvert_exporter": "python",
   "pygments_lexer": "ipython3",
   "version": "3.9.12"
  }
 },
 "nbformat": 4,
 "nbformat_minor": 5
}
