{
 "cells": [
  {
   "cell_type": "code",
   "execution_count": 1,
   "id": "e80da1f8",
   "metadata": {
    "scrolled": true
   },
   "outputs": [
    {
     "data": {
      "text/html": [
       "\n",
       "        <div>\n",
       "            <p><b>SparkContext</b></p>\n",
       "\n",
       "            <p><a href=\"http://10.0.2.15:4040\">Spark UI</a></p>\n",
       "\n",
       "            <dl>\n",
       "              <dt>Version</dt>\n",
       "                <dd><code>v3.2.4</code></dd>\n",
       "              <dt>Master</dt>\n",
       "                <dd><code>local[*]</code></dd>\n",
       "              <dt>AppName</dt>\n",
       "                <dd><code>PySparkShell</code></dd>\n",
       "            </dl>\n",
       "        </div>\n",
       "        "
      ],
      "text/plain": [
       "<SparkContext master=local[*] appName=PySparkShell>"
      ]
     },
     "execution_count": 1,
     "metadata": {},
     "output_type": "execute_result"
    }
   ],
   "source": [
    "sc"
   ]
  },
  {
   "cell_type": "code",
   "execution_count": 24,
   "id": "49b71809",
   "metadata": {},
   "outputs": [],
   "source": [
    "# Standard Python libraries for data manipulation and regular expressions\n",
    "import re\n",
    "import string\n",
    "\n",
    "# Data analysis and visualization libraries\n",
    "import pandas as pd\n",
    "import matplotlib.pyplot as plt\n",
    "import numpy as np\n",
    "\n",
    "# PySpark related imports for Spark session and data frame operations\n",
    "from pyspark.sql import SparkSession\n",
    "from pyspark.sql.functions import (\n",
    "    col, regexp_extract, udf, count, when, sum, to_date, date_format, monotonically_increasing_id\n",
    ")\n",
    "from pyspark.sql.types import StringType, FloatType\n",
    "\n",
    "# NLTK for natural language processing tasks\n",
    "from nltk import download\n",
    "from nltk.corpus import stopwords\n",
    "from nltk.stem import WordNetLemmatizer\n",
    "\n",
    "# TextBlob for sentiment analysis\n",
    "from textblob import TextBlob"
   ]
  },
  {
   "cell_type": "markdown",
   "id": "f764a4f4",
   "metadata": {},
   "source": [
    "#### Initializing Spark Session"
   ]
  },
  {
   "cell_type": "code",
   "execution_count": 3,
   "id": "00edf792",
   "metadata": {},
   "outputs": [],
   "source": [
    "spark = SparkSession.builder \\\n",
    "                    .appName(\"Tweets Pre-process\") \\\n",
    "                    .getOrCreate()"
   ]
  },
  {
   "cell_type": "markdown",
   "id": "03ccda28",
   "metadata": {},
   "source": [
    "#### Database Connection Setup"
   ]
  },
  {
   "cell_type": "code",
   "execution_count": 4,
   "id": "e155d23f",
   "metadata": {},
   "outputs": [],
   "source": [
    "# Database connection parameters\n",
    "database_url = \"jdbc:mysql://localhost:3306/tweets_data\"\n",
    "properties = {\n",
    "    \"user\": \"root\",\n",
    "    \"password\": \"password\",  \n",
    "    \"driver\": \"com.mysql.cj.jdbc.Driver\"\n",
    "}\n",
    "\n",
    "# Reading data from the 'tweets' table into a DataFrame\n",
    "df = spark.read.jdbc(url=database_url, table=\"tweets\", properties=properties)"
   ]
  },
  {
   "cell_type": "markdown",
   "id": "11284d78",
   "metadata": {},
   "source": [
    "#### Data Preview"
   ]
  },
  {
   "cell_type": "code",
   "execution_count": 5,
   "id": "b31aafac",
   "metadata": {},
   "outputs": [
    {
     "name": "stderr",
     "output_type": "stream",
     "text": [
      "\r",
      "[Stage 0:>                                                          (0 + 1) / 1]\r"
     ]
    },
    {
     "name": "stdout",
     "output_type": "stream",
     "text": [
      "+---+--------------------+---------------+--------------------+\n",
      "|IDs|                Date|           user|                text|\n",
      "+---+--------------------+---------------+--------------------+\n",
      "|  1|Mon Apr 06 22:19:...|_TheSpecialOne_|@switchfoot http:...|\n",
      "|  2|Mon Apr 06 22:19:...|  scotthamilton|is upset that he ...|\n",
      "|  3|Mon Apr 06 22:19:...|       mattycus|@Kenichan I dived...|\n",
      "|  4|Mon Apr 06 22:19:...|        ElleCTF|my whole body fee...|\n",
      "|  5|Mon Apr 06 22:19:...|         Karoli|@nationwideclass ...|\n",
      "+---+--------------------+---------------+--------------------+\n",
      "only showing top 5 rows\n",
      "\n"
     ]
    },
    {
     "name": "stderr",
     "output_type": "stream",
     "text": [
      "\r",
      "                                                                                \r"
     ]
    }
   ],
   "source": [
    "# Display the first five rows of the DataFrame for a preliminary inspection\n",
    "df.show(5)"
   ]
  },
  {
   "cell_type": "code",
   "execution_count": 6,
   "id": "79db7fe1",
   "metadata": {},
   "outputs": [
    {
     "name": "stderr",
     "output_type": "stream",
     "text": [
      "\r",
      "[Stage 1:>                                                          (0 + 1) / 1]\r"
     ]
    },
    {
     "name": "stdout",
     "output_type": "stream",
     "text": [
      "Dataset Size: 1598315\n"
     ]
    },
    {
     "name": "stderr",
     "output_type": "stream",
     "text": [
      "\r",
      "                                                                                \r"
     ]
    }
   ],
   "source": [
    "# Count the number of rows in the DataFrame to understand the size of the dataset\n",
    "dataset_size = df.count()\n",
    "print(\"Dataset Size:\", dataset_size)"
   ]
  },
  {
   "cell_type": "code",
   "execution_count": 7,
   "id": "9b1cb5de",
   "metadata": {},
   "outputs": [
    {
     "name": "stdout",
     "output_type": "stream",
     "text": [
      "root\n",
      " |-- IDs: integer (nullable = true)\n",
      " |-- Date: string (nullable = true)\n",
      " |-- user: string (nullable = true)\n",
      " |-- text: string (nullable = true)\n",
      "\n"
     ]
    }
   ],
   "source": [
    "# Print the schema of the DataFrame to understand its structure\n",
    "df.printSchema()"
   ]
  },
  {
   "cell_type": "code",
   "execution_count": 8,
   "id": "1106a6d1",
   "metadata": {},
   "outputs": [
    {
     "name": "stderr",
     "output_type": "stream",
     "text": [
      "                                                                                \r"
     ]
    },
    {
     "data": {
      "text/plain": [
       "[Row(IDs=1, Date='Mon Apr 06 22:19:45 PDT 2009', user='_TheSpecialOne_', text=\"@switchfoot http://twitpic.com/2y1zl - Awww, that's a bummer.  You shoulda got David Carr of Third Day to do it. ;D\"),\n",
       " Row(IDs=2, Date='Mon Apr 06 22:19:49 PDT 2009', user='scotthamilton', text=\"is upset that he can't update his Facebook by texting it... and might cry as a result  School today also. Blah!\"),\n",
       " Row(IDs=3, Date='Mon Apr 06 22:19:53 PDT 2009', user='mattycus', text='@Kenichan I dived many times for the ball. Managed to save 50%  The rest go out of bounds')]"
      ]
     },
     "execution_count": 8,
     "metadata": {},
     "output_type": "execute_result"
    }
   ],
   "source": [
    "# Display the first 3 rows to inspect the format of the 'Date' column\n",
    "df.head(3)"
   ]
  },
  {
   "cell_type": "code",
   "execution_count": 9,
   "id": "df279288",
   "metadata": {},
   "outputs": [],
   "source": [
    "# Set Spark's time parser policy to legacy for compatibility with specific date formats\n",
    "spark.conf.set(\"spark.sql.legacy.timeParserPolicy\", \"LEGACY\")"
   ]
  },
  {
   "cell_type": "code",
   "execution_count": 10,
   "id": "e1f40a4c",
   "metadata": {},
   "outputs": [
    {
     "name": "stderr",
     "output_type": "stream",
     "text": [
      "\r",
      "[Stage 5:>                                                          (0 + 1) / 1]\r"
     ]
    },
    {
     "name": "stdout",
     "output_type": "stream",
     "text": [
      "+---+----------+---------------+--------------------+\n",
      "|IDs|      Date|           user|                text|\n",
      "+---+----------+---------------+--------------------+\n",
      "|  1|2009-04-07|_TheSpecialOne_|@switchfoot http:...|\n",
      "|  2|2009-04-07|  scotthamilton|is upset that he ...|\n",
      "|  3|2009-04-07|       mattycus|@Kenichan I dived...|\n",
      "|  4|2009-04-07|        ElleCTF|my whole body fee...|\n",
      "|  5|2009-04-07|         Karoli|@nationwideclass ...|\n",
      "+---+----------+---------------+--------------------+\n",
      "only showing top 5 rows\n",
      "\n"
     ]
    },
    {
     "name": "stderr",
     "output_type": "stream",
     "text": [
      "\r",
      "                                                                                \r"
     ]
    }
   ],
   "source": [
    "# Convert the 'Date' column to datetime format and then to 'YYYY-MM-DD' format\n",
    "df = df.withColumn(\"Date\", to_date(df[\"Date\"], \"E MMM dd HH:mm:ss zzz yyyy\"))\n",
    "df = df.withColumn(\"Date\", date_format(df[\"Date\"], \"yyyy-MM-dd\"))\n",
    "df.show(5)"
   ]
  },
  {
   "cell_type": "markdown",
   "id": "dfc03fb5",
   "metadata": {},
   "source": [
    "> *Note: A one-day shift in date values is observed due to timezone differences in the original data (PDT) and the processing environment. For sentiment analysis, particularly in forecasting trends, this minor shift is unlikely to significantly impact the overall analysis.*"
   ]
  },
  {
   "cell_type": "markdown",
   "id": "d91d85d4",
   "metadata": {},
   "source": [
    "#### Identifying the Time Range of the Dataset"
   ]
  },
  {
   "cell_type": "code",
   "execution_count": 11,
   "id": "271cc4b2",
   "metadata": {},
   "outputs": [
    {
     "name": "stderr",
     "output_type": "stream",
     "text": [
      "[Stage 9:>                                                          (0 + 1) / 1]\r"
     ]
    },
    {
     "name": "stdout",
     "output_type": "stream",
     "text": [
      "Maximum Date: 2009-06-25\n",
      "Minimum Date: 2009-04-07\n"
     ]
    },
    {
     "name": "stderr",
     "output_type": "stream",
     "text": [
      "\r",
      "                                                                                \r"
     ]
    }
   ],
   "source": [
    "from pyspark.sql import functions as F\n",
    "\n",
    "# Calculate the maximum and minimum dates in the dataset\n",
    "max_date = df.agg(F.max(\"Date\")).collect()[0][0]\n",
    "min_date = df.agg(F.min(\"Date\")).collect()[0][0]\n",
    "\n",
    "# Display the time range of the dataset\n",
    "print(\"Maximum Date:\", max_date)\n",
    "print(\"Minimum Date:\", min_date)"
   ]
  },
  {
   "cell_type": "markdown",
   "id": "47d52515",
   "metadata": {},
   "source": [
    "#### Analyzing User Activity for Suspicious Behavior"
   ]
  },
  {
   "cell_type": "code",
   "execution_count": 12,
   "id": "6ae5249f",
   "metadata": {},
   "outputs": [
    {
     "name": "stderr",
     "output_type": "stream",
     "text": [
      "[Stage 14:>                                                         (0 + 4) / 4]\r"
     ]
    },
    {
     "name": "stdout",
     "output_type": "stream",
     "text": [
      "+---------------+-----+\n",
      "|           user|count|\n",
      "+---------------+-----+\n",
      "|       lost_dog|  549|\n",
      "|        webwoke|  345|\n",
      "|       tweetpet|  310|\n",
      "|SallytheShizzle|  281|\n",
      "|    VioletsCRUK|  279|\n",
      "|    mcraddictal|  276|\n",
      "|       tsarnick|  248|\n",
      "|    what_bugs_u|  246|\n",
      "|    Karen230683|  238|\n",
      "|      DarkPiano|  236|\n",
      "|   SongoftheOss|  227|\n",
      "|      Jayme1988|  225|\n",
      "|         keza34|  219|\n",
      "| ramdomthoughts|  216|\n",
      "|      shanajaca|  213|\n",
      "|         wowlew|  212|\n",
      "|     nuttychris|  211|\n",
      "|   TraceyHewins|  211|\n",
      "|   thisgoeshere|  207|\n",
      "|     Spidersamm|  205|\n",
      "+---------------+-----+\n",
      "only showing top 20 rows\n",
      "\n"
     ]
    },
    {
     "name": "stderr",
     "output_type": "stream",
     "text": [
      "\r",
      "[Stage 14:===========================================>              (3 + 1) / 4]\r",
      "\r",
      "                                                                                \r"
     ]
    }
   ],
   "source": [
    "# Group by user and count the number of tweets, then order by count\n",
    "user_distribution = df.groupBy(\"user\").count().orderBy(F.desc(\"count\"))\n",
    "user_distribution.show()"
   ]
  },
  {
   "cell_type": "code",
   "execution_count": 13,
   "id": "26104cc6",
   "metadata": {},
   "outputs": [
    {
     "name": "stderr",
     "output_type": "stream",
     "text": [
      "                                                                                \r"
     ]
    },
    {
     "data": {
      "image/png": "[encoded data removed]",
      "text/plain": [
       "<Figure size 576x864 with 3 Axes>"
      ]
     },
     "metadata": {
      "needs_background": "light"
     },
     "output_type": "display_data"
    }
   ],
   "source": [
    "# Collect statistics for analysis\n",
    "num_tweets = df.count()  # Count total tweets\n",
    "num_users = df.select('user').distinct().count()  # Count unique users\n",
    "tweets_per_user_pd = user_distribution.toPandas()  # Convert Spark DataFrame to Pandas DataFrame for plotting\n",
    "\n",
    "# Set up a grid of subplots\n",
    "fig, axs = plt.subplots(3, 1, figsize=(8, 12))\n",
    "\n",
    "# Bar chart of number of tweets and users\n",
    "axs[0].bar([\"Tweets\", \"Users\"], [num_tweets, num_users], color=['blue', 'orange'])\n",
    "axs[0].set_title('Number of Tweets and Users')\n",
    "\n",
    "# Histogram of tweets per user\n",
    "axs[1].hist(tweets_per_user_pd['count'], bins=range(1, 21), edgecolor='black', align='left')\n",
    "axs[1].set_title('Distribution of Tweets per User')\n",
    "axs[1].set_xlabel('Number of Tweets')\n",
    "axs[1].set_ylabel('Number of Users')\n",
    "axs[1].set_xticks(range(1, 21))\n",
    "axs[1].set_xlim(0, 20)\n",
    "\n",
    "# Boxplot of tweets per user\n",
    "axs[2].boxplot(tweets_per_user_pd['count'])\n",
    "axs[2].set_title('Boxplot of Tweets per User')\n",
    "axs[2].set_ylabel('Number of Tweets')\n",
    "axs[2].set_xticklabels(['Users'])\n",
    "\n",
    "plt.tight_layout()\n",
    "plt.show()"
   ]
  },
  {
   "cell_type": "markdown",
   "id": "91a7ad86",
   "metadata": {},
   "source": [
    "### Insights from the Graphs\n",
    "\n",
    "1. **Tweet-to-User Ratio:**\n",
    "   - The dataset comprises approximately 1.598 million tweets from about 659,775 unique users, indicating an average of just over 2 tweets per user. This diverse user activity suggests a balanced mix of single and multiple tweets per user.\n",
    "\n",
    "2. **Skewness in Tweet Distribution:**\n",
    "   - The data shows a right-skewed distribution, with most users tweeting a few times, but a minority tweeting far more frequently than the average.\n",
    "\n",
    "3. **Boxplot Analysis:**\n",
    "   - The boxplot reveals that the median and interquartile range are concentrated at lower tweet counts. A long whisker and outliers indicate the presence of users with significantly higher tweet counts.\n",
    "\n",
    "4. **Identifying Outliers:**\n",
    "   - Notably, the top 5 users, such as \"lost_dog\" with 549 tweets, are distinct outliers, tweeting much more frequently than typical users.\n",
    "\n",
    "5. **Consideration of Potential Bias:**\n",
    "   - Despite some repetition among users, the dataset's broad user range helps minimize bias from frequent tweeters.\n",
    "\n",
    "6. **Implications for Generalization:**\n",
    "   - Given its user diversity, the dataset is likely a reliable source for sentiment analysis, not overly influenced by a few vocal users.\n",
    "\n",
    "7. **Impact on Overall Analysis:**\n",
    "   - With the dataset's substantial size, outliers have a limited effect on aggregate metrics, preserving the integrity of median and percentile-based analyses.\n",
    "\n",
    "In summary, this dataset's varied user representation makes it a valuable resource for sentiment analysis. The presence of users tweeting multiple times introduces some bias, but it is not substantial enough to dramatically alter overall findings."
   ]
  },
  {
   "cell_type": "markdown",
   "id": "bb840edd",
   "metadata": {},
   "source": [
    "### Identifying Trends Through Hashtags"
   ]
  },
  {
   "cell_type": "code",
   "execution_count": 14,
   "id": "8dd6148b",
   "metadata": {},
   "outputs": [
    {
     "name": "stderr",
     "output_type": "stream",
     "text": [
      "\r",
      "[Stage 32:>                                                         (0 + 1) / 1]\r"
     ]
    },
    {
     "name": "stdout",
     "output_type": "stream",
     "text": [
      "+---+----------+---------------+--------------------+--------+\n",
      "|IDs|      Date|           user|                text|Hashtags|\n",
      "+---+----------+---------------+--------------------+--------+\n",
      "|  1|2009-04-07|_TheSpecialOne_|@switchfoot http:...|        |\n",
      "|  2|2009-04-07|  scotthamilton|is upset that he ...|        |\n",
      "|  3|2009-04-07|       mattycus|@Kenichan I dived...|        |\n",
      "|  4|2009-04-07|        ElleCTF|my whole body fee...|        |\n",
      "|  5|2009-04-07|         Karoli|@nationwideclass ...|        |\n",
      "|  6|2009-04-07|       joy_wolf|@Kwesidei not the...|        |\n",
      "|  7|2009-04-07|        mybirch|         Need a hug |        |\n",
      "|  8|2009-04-07|           coZZ|@LOLTrish hey  lo...|        |\n",
      "|  9|2009-04-07|2Hood4Hollywood|@Tatiana_K nope t...|        |\n",
      "| 10|2009-04-07|        mimismo|@twittera que me ...|        |\n",
      "| 11|2009-04-07| erinx3leannexo|spring break in p...|        |\n",
      "| 12|2009-04-07|   pardonlauren|I just re-pierced...|        |\n",
      "| 13|2009-04-07|           TLeC|@caregiving I cou...|        |\n",
      "| 14|2009-04-07|robrobbierobert|@octolinz16 It it...|        |\n",
      "| 15|2009-04-07|    bayofwolves|@smarrison i woul...|        |\n",
      "| 16|2009-04-07|     HairByJess|@iamjazzyfizzle I...|        |\n",
      "| 17|2009-04-07| lovesongwriter|Hollis' death sce...|        |\n",
      "| 18|2009-04-07|       armotley|about to file taxes |        |\n",
      "| 19|2009-04-07|     starkissed|@LettyA ahh ive a...|        |\n",
      "| 20|2009-04-07|      gi_gi_bee|@FakerPattyPattz ...|        |\n",
      "+---+----------+---------------+--------------------+--------+\n",
      "only showing top 20 rows\n",
      "\n"
     ]
    },
    {
     "name": "stderr",
     "output_type": "stream",
     "text": [
      "\r",
      "                                                                                \r"
     ]
    }
   ],
   "source": [
    "# Regular expression pattern to match hashtags\n",
    "hashtag_pattern = r'#(\\w+)'\n",
    "\n",
    "# Extract hashtags from the 'text' column and add them to a new column 'Hashtags'\n",
    "df = df.withColumn(\"Hashtags\", regexp_extract(col(\"text\"), hashtag_pattern, 1))\n",
    "\n",
    "# Display the first few rows to verify the hashtag extraction\n",
    "df.show()"
   ]
  },
  {
   "cell_type": "markdown",
   "id": "6aaea2fd",
   "metadata": {},
   "source": [
    "### Analyzing the Most Popular Hashtags\n",
    "\n"
   ]
  },
  {
   "cell_type": "code",
   "execution_count": 15,
   "id": "945a7304",
   "metadata": {},
   "outputs": [
    {
     "name": "stderr",
     "output_type": "stream",
     "text": [
      "\r",
      "[Stage 33:>                                                         (0 + 1) / 1]\r"
     ]
    },
    {
     "name": "stdout",
     "output_type": "stream",
     "text": [
      "+------------+-------+\n",
      "|    Hashtags|  count|\n",
      "+------------+-------+\n",
      "|            |1562501|\n",
      "|followfriday|   2043|\n",
      "|          fb|   1687|\n",
      "| squarespace|    836|\n",
      "|          FF|    553|\n",
      "|           1|    480|\n",
      "|FollowFriday|    448|\n",
      "| musicmonday|    388|\n",
      "|          ff|    380|\n",
      "|iranelection|    319|\n",
      "+------------+-------+\n",
      "only showing top 10 rows\n",
      "\n"
     ]
    },
    {
     "name": "stderr",
     "output_type": "stream",
     "text": [
      "\r",
      "                                                                                \r"
     ]
    }
   ],
   "source": [
    "# Group and count occurrences of each hashtag\n",
    "hashtags_count = df.groupBy(\"Hashtags\").count()\n",
    "\n",
    "# Order the hashtags by their count in descending order and display the top 10\n",
    "sorted_hashtags = hashtags_count.orderBy(col(\"count\").desc())\n",
    "sorted_hashtags.show(10)"
   ]
  },
  {
   "cell_type": "code",
   "execution_count": 16,
   "id": "f87c69e5",
   "metadata": {},
   "outputs": [
    {
     "name": "stderr",
     "output_type": "stream",
     "text": [
      "                                                                                \r"
     ]
    },
    {
     "name": "stdout",
     "output_type": "stream",
     "text": [
      "+------+----------+---------------+--------------------+------------+\n",
      "|   IDs|      Date|           user|                text|    Hashtags|\n",
      "+------+----------+---------------+--------------------+------------+\n",
      "| 10106|2009-04-18|       jessc098|So many new follo...|followfriday|\n",
      "| 43321|2009-05-02|        eadnams|@dirklancer I don...|followfriday|\n",
      "| 45841|2009-05-02|  NixyValentine|Thank you @dpbkmb...|followfriday|\n",
      "| 47769|2009-05-02|      kovshenin|@webdesign_news @...|followfriday|\n",
      "| 53058|2009-05-02|   TimmyPlanetM|@Barron00 @grouch...|followfriday|\n",
      "| 55255|2009-05-03|       king_pen|@spicypants i onl...|          ff|\n",
      "| 55262|2009-05-03|       king_pen|@spicypants i onl...|          ff|\n",
      "| 58208|2009-05-03|ImInappropriate|Thanks to everybo...|          ff|\n",
      "| 63925|2009-05-03|   KimberlySaia|@VAStateParks Tha...|followfriday|\n",
      "| 78278|2009-05-10|      flothecat|Thanks for the Fo...|followfriday|\n",
      "| 79847|2009-05-10|        KellyG5|@ninjen ohhh crap...|followfriday|\n",
      "| 97869|2009-05-14|  kristafromsyd|I lost my 1st 100...|followfriday|\n",
      "|110750|2009-05-17|        Animadi|@JanayS Ya I am r...|followfriday|\n",
      "|115101|2009-05-17|         beezan|@sswayse  I did #...|          ff|\n",
      "|115173|2009-05-17|         beezan|@sswayze I #ff yo...|          ff|\n",
      "|136351|2009-05-22|   willtompsett|#followfriday loa...|followfriday|\n",
      "|136415|2009-05-22|   sarahmurrell|@hypnotistchris M...|followfriday|\n",
      "|136476|2009-05-22|  vickymoontree|@ABeautifulMind1 ...|          ff|\n",
      "|136803|2009-05-22|      ukdivorce|#followfriday The...|followfriday|\n",
      "|137331|2009-05-22|          tick0|#followfriday mea...|followfriday|\n",
      "+------+----------+---------------+--------------------+------------+\n",
      "only showing top 20 rows\n",
      "\n"
     ]
    },
    {
     "name": "stderr",
     "output_type": "stream",
     "text": [
      "\r",
      "[Stage 37:>                                                         (0 + 1) / 1]\r"
     ]
    },
    {
     "name": "stdout",
     "output_type": "stream",
     "text": [
      "Count of filtered hashtags: 3424\n"
     ]
    },
    {
     "name": "stderr",
     "output_type": "stream",
     "text": [
      "\r",
      "                                                                                \r"
     ]
    }
   ],
   "source": [
    "# Define a list of specific hashtags for further analysis\n",
    "hashtags = ['followfriday', 'FollowFriday', 'ff', 'FF']\n",
    "\n",
    "# Filter the DataFrame to include only rows with the specified hashtags\n",
    "filtered_df = df.filter(col(\"Hashtags\").isin(hashtags))\n",
    "filtered_df.show()\n",
    "\n",
    "# Count the number of occurrences for the filtered hashtags\n",
    "filtered_count = filtered_df.count()\n",
    "print(\"Count of filtered hashtags:\", filtered_count)"
   ]
  },
  {
   "cell_type": "markdown",
   "id": "65bf6be2",
   "metadata": {},
   "source": [
    "### Observations on the Role of Hashtags in Sentiment Analysis\n",
    "\n",
    "Based on the analysis, it is evident that the majority of tweets in the dataset do not contain hashtags. While hashtags like \"Follow Friday\" could potentially indicate a positive sentiment, such as users expressing happiness about gaining new followers, their infrequent use limits their significance as a variable for predicting future sentiment trends. This observation highlights the need to consider other factors or textual elements in the dataset for a more comprehensive sentiment analysis.\n"
   ]
  },
  {
   "cell_type": "code",
   "execution_count": 17,
   "id": "4a32bb4b",
   "metadata": {},
   "outputs": [
    {
     "name": "stderr",
     "output_type": "stream",
     "text": [
      "\r",
      "[Stage 40:>                                                         (0 + 1) / 1]\r"
     ]
    },
    {
     "name": "stdout",
     "output_type": "stream",
     "text": [
      "+---+----------+---------------+--------------------+--------+---------------+\n",
      "|IDs|      Date|           user|                text|Hashtags|       Mentions|\n",
      "+---+----------+---------------+--------------------+--------+---------------+\n",
      "|  1|2009-04-07|_TheSpecialOne_|@switchfoot http:...|        |     switchfoot|\n",
      "|  2|2009-04-07|  scotthamilton|is upset that he ...|        |               |\n",
      "|  3|2009-04-07|       mattycus|@Kenichan I dived...|        |       Kenichan|\n",
      "|  4|2009-04-07|        ElleCTF|my whole body fee...|        |               |\n",
      "|  5|2009-04-07|         Karoli|@nationwideclass ...|        |nationwideclass|\n",
      "|  6|2009-04-07|       joy_wolf|@Kwesidei not the...|        |       Kwesidei|\n",
      "|  7|2009-04-07|        mybirch|         Need a hug |        |               |\n",
      "|  8|2009-04-07|           coZZ|@LOLTrish hey  lo...|        |       LOLTrish|\n",
      "|  9|2009-04-07|2Hood4Hollywood|@Tatiana_K nope t...|        |      Tatiana_K|\n",
      "| 10|2009-04-07|        mimismo|@twittera que me ...|        |       twittera|\n",
      "| 11|2009-04-07| erinx3leannexo|spring break in p...|        |               |\n",
      "| 12|2009-04-07|   pardonlauren|I just re-pierced...|        |               |\n",
      "| 13|2009-04-07|           TLeC|@caregiving I cou...|        |     caregiving|\n",
      "| 14|2009-04-07|robrobbierobert|@octolinz16 It it...|        |     octolinz16|\n",
      "| 15|2009-04-07|    bayofwolves|@smarrison i woul...|        |      smarrison|\n",
      "| 16|2009-04-07|     HairByJess|@iamjazzyfizzle I...|        | iamjazzyfizzle|\n",
      "| 17|2009-04-07| lovesongwriter|Hollis' death sce...|        |               |\n",
      "| 18|2009-04-07|       armotley|about to file taxes |        |               |\n",
      "| 19|2009-04-07|     starkissed|@LettyA ahh ive a...|        |         LettyA|\n",
      "| 20|2009-04-07|      gi_gi_bee|@FakerPattyPattz ...|        |FakerPattyPattz|\n",
      "+---+----------+---------------+--------------------+--------+---------------+\n",
      "only showing top 20 rows\n",
      "\n"
     ]
    },
    {
     "name": "stderr",
     "output_type": "stream",
     "text": [
      "\r",
      "                                                                                \r"
     ]
    }
   ],
   "source": [
    "# Define a regular expression pattern to extract mentions\n",
    "mention_pattern = r'@(\\w+)'\n",
    "\n",
    "# Extract mentions from the 'text' column and add them to a new column 'Mentions'\n",
    "df = df.withColumn(\"Mentions\", regexp_extract(col(\"text\"), mention_pattern, 1))\n",
    "\n",
    "# Display the first few rows to verify the mention extraction\n",
    "df.show()"
   ]
  },
  {
   "cell_type": "code",
   "execution_count": 18,
   "id": "e53a302c",
   "metadata": {},
   "outputs": [
    {
     "name": "stderr",
     "output_type": "stream",
     "text": [
      "\r",
      "[Stage 41:>                                                         (0 + 1) / 1]\r"
     ]
    },
    {
     "name": "stdout",
     "output_type": "stream",
     "text": [
      "+---------------+------+\n",
      "|       Mentions| count|\n",
      "+---------------+------+\n",
      "|               |860658|\n",
      "|     mileycyrus|  4292|\n",
      "|       tommcfly|  3754|\n",
      "|       ddlovato|  3254|\n",
      "|    DavidArchie|  1241|\n",
      "|  Jonasbrothers|  1236|\n",
      "| DonnieWahlberg|  1054|\n",
      "|   jordanknight|  1046|\n",
      "|   mitchelmusso|  1028|\n",
      "|JonathanRKnight|   997|\n",
      "+---------------+------+\n",
      "only showing top 10 rows\n",
      "\n"
     ]
    },
    {
     "name": "stderr",
     "output_type": "stream",
     "text": [
      "\r",
      "                                                                                \r"
     ]
    }
   ],
   "source": [
    "# Group by the \"Mentions\" column and count occurrences\n",
    "mentions_count = df.groupBy(\"Mentions\").count()\n",
    "\n",
    "# Sort the mentions by count in descending order and display the top 10\n",
    "sorted_mentions = mentions_count.orderBy(col(\"count\").desc())\n",
    "sorted_mentions.show(10)"
   ]
  },
  {
   "cell_type": "markdown",
   "id": "d533c7c6",
   "metadata": {},
   "source": [
    "### Insights on Mentions in Tweets\n",
    "\n",
    "The analysis reveals a predictable trend in social media behavior, where public figures such as actors or singers are commonly mentioned or retweeted, especially in relation to newsworthy events like the release of a new song or movie. However, similar to the case with hashtags, the majority of tweets in the dataset do not include mentions. This observation suggests that while mentions of public figures are notable, they are not prevalent enough in the dataset to significantly influence overall sentiment analysis or trend predictions.\n"
   ]
  },
  {
   "cell_type": "code",
   "execution_count": 19,
   "id": "3291cf5f",
   "metadata": {},
   "outputs": [
    {
     "name": "stderr",
     "output_type": "stream",
     "text": [
      "[nltk_data] Downloading package stopwords to /home/rmoran/nltk_data...\n",
      "[nltk_data]   Package stopwords is already up-to-date!\n",
      "[nltk_data] Downloading package wordnet to /home/rmoran/nltk_data...\n",
      "[nltk_data]   Package wordnet is already up-to-date!\n"
     ]
    },
    {
     "data": {
      "text/plain": [
       "True"
      ]
     },
     "execution_count": 19,
     "metadata": {},
     "output_type": "execute_result"
    }
   ],
   "source": [
    "# Downloading required nltk data\n",
    "download('stopwords')\n",
    "download('wordnet')"
   ]
  },
  {
   "cell_type": "code",
   "execution_count": 20,
   "id": "716bae9c",
   "metadata": {},
   "outputs": [],
   "source": [
    "# Initialize the WordNet lemmatizer and set of English stopwords\n",
    "lemmatizer = WordNetLemmatizer()\n",
    "stop_words = set(stopwords.words('english'))"
   ]
  },
  {
   "cell_type": "code",
   "execution_count": 21,
   "id": "8d11b39f",
   "metadata": {},
   "outputs": [],
   "source": [
    "# Define a user-defined function (UDF) for text preprocessing\n",
    "@udf(StringType())\n",
    "def preprocess_text(text):\n",
    "    # Convert text to lowercase and remove URLs\n",
    "    text = re.sub(r\"http\\S+|www\\S+|https\\S+\", '', text.lower(), flags=re.MULTILINE)\n",
    "\n",
    "    # Remove user mentions, hashtags, and punctuation\n",
    "    text = re.sub(r'\\@\\w+|\\#', '', text)\n",
    "    text = ''.join(char for char in text if char not in string.punctuation)\n",
    "\n",
    "    # Remove stopwords and lemmatize, discarding words with fewer than 3 characters\n",
    "    return ' '.join(lemmatizer.lemmatize(word) for word in text.split() if word.lower() not in stop_words and len(word) > 2)"
   ]
  },
  {
   "cell_type": "code",
   "execution_count": 22,
   "id": "234e6e41",
   "metadata": {},
   "outputs": [
    {
     "name": "stderr",
     "output_type": "stream",
     "text": [
      "\r",
      "[Stage 44:>                                                         (0 + 1) / 1]\r"
     ]
    },
    {
     "name": "stdout",
     "output_type": "stream",
     "text": [
      "+---+----------+---------------+--------------------+--------+---------------+--------------------+\n",
      "|IDs|      Date|           user|                text|Hashtags|       Mentions|             pp_text|\n",
      "+---+----------+---------------+--------------------+--------+---------------+--------------------+\n",
      "|  1|2009-04-07|_TheSpecialOne_|@switchfoot http:...|        |     switchfoot|thats bummer shou...|\n",
      "|  2|2009-04-07|  scotthamilton|is upset that he ...|        |               |upset cant update...|\n",
      "|  3|2009-04-07|       mattycus|@Kenichan I dived...|        |       Kenichan|dived many time b...|\n",
      "|  4|2009-04-07|        ElleCTF|my whole body fee...|        |               |whole body feel i...|\n",
      "|  5|2009-04-07|         Karoli|@nationwideclass ...|        |nationwideclass|behaving mad cant...|\n",
      "|  6|2009-04-07|       joy_wolf|@Kwesidei not the...|        |       Kwesidei|          whole crew|\n",
      "|  7|2009-04-07|        mybirch|         Need a hug |        |               |            need hug|\n",
      "|  8|2009-04-07|           coZZ|@LOLTrish hey  lo...|        |       LOLTrish|hey long time see...|\n",
      "|  9|2009-04-07|2Hood4Hollywood|@Tatiana_K nope t...|        |      Tatiana_K|          nope didnt|\n",
      "| 10|2009-04-07|        mimismo|@twittera que me ...|        |       twittera|           que muera|\n",
      "| 11|2009-04-07| erinx3leannexo|spring break in p...|        |               |spring break plai...|\n",
      "| 12|2009-04-07|   pardonlauren|I just re-pierced...|        |               |       repierced ear|\n",
      "| 13|2009-04-07|           TLeC|@caregiving I cou...|        |     caregiving|couldnt bear watc...|\n",
      "| 14|2009-04-07|robrobbierobert|@octolinz16 It it...|        |     octolinz16|count idk either ...|\n",
      "| 15|2009-04-07|    bayofwolves|@smarrison i woul...|        |      smarrison|wouldve first did...|\n",
      "| 16|2009-04-07|     HairByJess|@iamjazzyfizzle I...|        | iamjazzyfizzle|wish got watch mi...|\n",
      "| 17|2009-04-07| lovesongwriter|Hollis' death sce...|        |               |hollis death scen...|\n",
      "| 18|2009-04-07|       armotley|about to file taxes |        |               |            file tax|\n",
      "| 19|2009-04-07|     starkissed|@LettyA ahh ive a...|        |         LettyA|ahh ive always wa...|\n",
      "| 20|2009-04-07|      gi_gi_bee|@FakerPattyPattz ...|        |FakerPattyPattz|dear drinking for...|\n",
      "+---+----------+---------------+--------------------+--------+---------------+--------------------+\n",
      "only showing top 20 rows\n",
      "\n"
     ]
    },
    {
     "name": "stderr",
     "output_type": "stream",
     "text": [
      "\r",
      "                                                                                \r"
     ]
    }
   ],
   "source": [
    "# Apply the preprocessing function to the 'text' column\n",
    "df = df.withColumn(\"pp_text\", preprocess_text(df[\"text\"]))\n",
    "\n",
    "# Display the DataFrame to verify the preprocessing\n",
    "df.show()"
   ]
  },
  {
   "cell_type": "code",
   "execution_count": 26,
   "id": "5bb0af5a",
   "metadata": {},
   "outputs": [
    {
     "name": "stderr",
     "output_type": "stream",
     "text": [
      "                                                                                \r"
     ]
    },
    {
     "data": {
      "image/png": "[encoded data removed]",
      "text/plain": [
       "<Figure size 1080x504 with 1 Axes>"
      ]
     },
     "metadata": {
      "needs_background": "light"
     },
     "output_type": "display_data"
    }
   ],
   "source": [
    "# Grouping tweets by date and counting the number of tweets on each date\n",
    "tweets_over_time = df.withColumn(\"Date\", to_date(\"Date\")).groupBy(\"Date\").agg(count(\"*\").alias(\"Tweet_Count\")).orderBy(\"Date\")\n",
    "\n",
    "# Extract the start and end dates\n",
    "start_date = tweets_over_time.select(F.min(\"Date\")).collect()[0][0]\n",
    "end_date = tweets_over_time.select(F.max(\"Date\")).collect()[0][0]\n",
    "\n",
    "# Plotting the distribution of tweets over time\n",
    "tweets_over_time_pd = tweets_over_time.toPandas()\n",
    "\n",
    "# Convert the \"Date\" and \"Tweet_Count\" columns to NumPy arrays\n",
    "dates = tweets_over_time_pd['Date'].values\n",
    "tweet_counts = tweets_over_time_pd['Tweet_Count'].values\n",
    "\n",
    "# Plotting the distribution of tweets over time\n",
    "fig, ax = plt.subplots(figsize=(15, 7))\n",
    "\n",
    "ax.plot(dates, tweet_counts, marker='o', linestyle='-', label='Tweet Count')\n",
    "ax.set_title('Distribution of Tweets Over Time')\n",
    "ax.set_xlabel('Date')\n",
    "ax.set_ylabel('Number of Tweets')\n",
    "\n",
    "# Highlighting the start and end dates of the dataset\n",
    "ax.annotate(f'Start: {start_date.strftime(\"%Y-%m-%d\")}',\n",
    "             xy=(start_date, tweet_counts[0]),\n",
    "             xytext=(start_date, tweet_counts[0] + 10000),\n",
    "             arrowprops=dict(facecolor='black', arrowstyle='->'),\n",
    "             horizontalalignment='left')\n",
    "\n",
    "ax.annotate(f'End: {end_date.strftime(\"%Y-%m-%d\")}',\n",
    "             xy=(end_date, tweet_counts[-1]),\n",
    "             xytext=(end_date, tweet_counts[-1] - 10000),\n",
    "             arrowprops=dict(facecolor='black', arrowstyle='->'),\n",
    "             horizontalalignment='right')\n",
    "\n",
    "# Adjusting grid, legend, and layout\n",
    "ax.grid(True)\n",
    "ax.legend()\n",
    "plt.tight_layout()\n",
    "plt.show()"
   ]
  },
  {
   "cell_type": "markdown",
   "id": "c3ba7411",
   "metadata": {},
   "source": [
    "### Insights from \"Distribution of Tweets Over Time\" Graph\n",
    "\n",
    "- **Time Span Observation:**\n",
    "  - The dataset spans from April 7, 2009, to June 25, 2009, encompassing nearly three months.\n",
    "\n",
    "- **Tweet Volume Variability:**\n",
    "  - There is notable fluctuation in tweet volume throughout this period, indicating variability in user engagement over time.\n",
    "\n",
    "- **Initial Tweet Volume:**\n",
    "  - The period begins with a relatively low tweet volume around April 7, 2009.\n",
    "\n",
    "- **Notable Peaks in Activity:**\n",
    "  - Mid-May marks a significant increase in tweet volume, indicating heightened user activity.\n",
    "  - The peak in early June is especially pronounced, with tweet counts approaching 100,000.\n",
    "\n",
    "- **Post-Peak Decline:**\n",
    "  - Following the early June peak, there is a marked decline in tweet volume, leading to a much lower count by June 25, 2009.\n",
    "\n",
    "- **End-of-Period Activity:**\n",
    "  - A minor surge in tweet volume is observed just before the dataset concludes, suggesting a possible resurgence in interest or activity related to the tweets' topic.\n"
   ]
  },
  {
   "cell_type": "code",
   "execution_count": 27,
   "id": "4f0d22b8",
   "metadata": {},
   "outputs": [
    {
     "name": "stderr",
     "output_type": "stream",
     "text": [
      "\r",
      "[Stage 65:>                                                         (0 + 1) / 1]\r"
     ]
    },
    {
     "name": "stdout",
     "output_type": "stream",
     "text": [
      "+---+----+----+----+--------+--------+-------+\n",
      "|IDs|Date|user|text|Hashtags|Mentions|pp_text|\n",
      "+---+----+----+----+--------+--------+-------+\n",
      "|  0|   0|   0|   0| 1562501|  860658|   8707|\n",
      "+---+----+----+----+--------+--------+-------+\n",
      "\n"
     ]
    },
    {
     "name": "stderr",
     "output_type": "stream",
     "text": [
      "\r",
      "                                                                                \r"
     ]
    }
   ],
   "source": [
    "# Replace empty strings with None (null values) in all columns\n",
    "df = df.select([when(col(c) == '', None).otherwise(col(c)).alias(c) for c in df.columns])\n",
    "\n",
    "# Count the missing values in each column\n",
    "missing_values = df.select([sum(when(col(c).isNull(), 1).otherwise(0)).alias(c) for c in df.columns])\n",
    "\n",
    "# Display the count of missing values in each column\n",
    "missing_values.show()"
   ]
  },
  {
   "cell_type": "markdown",
   "id": "c3d486b8",
   "metadata": {},
   "source": [
    "### Analysis of Missing Values in Preprocessed Text\n",
    "\n",
    "- **Significant Number of Empty Records:**\n",
    "  - The `pp_text` column, which contains preprocessed text, shows 8,707 empty records. This indicates that these tweets were left with no content after the preprocessing steps, likely because they consisted solely of elements like URLs or other non-interpretable information, typical of spam tweets.\n",
    "\n",
    "- **Action Plan:**\n",
    "  - Considering the nature of these empty records, the decision has been made to drop them from the dataset. This step is crucial to ensure the integrity and relevance of the data, especially for sentiment analysis, as these records do not contribute meaningful information.\n"
   ]
  },
  {
   "cell_type": "code",
   "execution_count": 28,
   "id": "ca4c35df",
   "metadata": {},
   "outputs": [
    {
     "name": "stderr",
     "output_type": "stream",
     "text": [
      "\r",
      "[Stage 68:>                                                         (0 + 1) / 1]\r"
     ]
    },
    {
     "name": "stdout",
     "output_type": "stream",
     "text": [
      "+--------------------+-----+\n",
      "|             pp_text|count|\n",
      "+--------------------+-----+\n",
      "|              thanks| 2775|\n",
      "|               thank| 1823|\n",
      "|get 100 follower ...| 1484|\n",
      "|        good morning| 1177|\n",
      "|                miss| 1000|\n",
      "|                work|  894|\n",
      "|                love|  740|\n",
      "|                know|  660|\n",
      "|                 yes|  621|\n",
      "|            headache|  565|\n",
      "+--------------------+-----+\n",
      "only showing top 10 rows\n",
      "\n"
     ]
    },
    {
     "name": "stderr",
     "output_type": "stream",
     "text": [
      "\r",
      "                                                                                \r"
     ]
    }
   ],
   "source": [
    "# Drop rows where the 'pp_text' column is null\n",
    "df = df.filter(col(\"pp_text\").isNotNull())\n",
    "\n",
    "# Group tweets by their preprocessed text and count occurrences, then sort in descending order\n",
    "tweet_distribution = df.groupBy(\"pp_text\").count().orderBy(col(\"count\").desc())\n",
    "\n",
    "# Display the top 10 most common preprocessed tweet texts\n",
    "tweet_distribution.show(10)"
   ]
  },
  {
   "cell_type": "markdown",
   "id": "f810b387",
   "metadata": {},
   "source": [
    "### Insights from Analyzing Duplicate Tweets\n",
    "\n",
    "- **Characteristics of Duplicates:**\n",
    "  - The dataset contains a mixture of frequently repeated phrases and exact duplicates of tweets. The presence of exact duplicates suggests the possibility of spam or automated content.\n",
    "\n",
    "- **Ambiguity in Sentiment Analysis:**\n",
    "  - Several common phrases like \"miss,\" \"work,\" and \"know\" are found to be prevalent but inherently sentiment-neutral. These phrases pose a challenge in sentiment analysis due to their context-dependent nature, which makes it difficult to accurately gauge the sentiment they convey.\n",
    "\n",
    "- **Considerations for Data Cleaning:**\n",
    "  - Given the substantial size of the dataset, the removal of a few thousand duplicate entries is unlikely to significantly alter the overall analytical outcome. This cleaning step is important for enhancing the quality and accuracy of the sentiment analysis, as it reduces noise and redundancy in the data.\n"
   ]
  },
  {
   "cell_type": "code",
   "execution_count": 29,
   "id": "2cd88e1b",
   "metadata": {},
   "outputs": [
    {
     "name": "stderr",
     "output_type": "stream",
     "text": [
      "[Stage 74:>                                                         (0 + 1) / 1]\r"
     ]
    },
    {
     "name": "stdout",
     "output_type": "stream",
     "text": [
      "+-------+----------+-------------+--------------------+--------+---------------+--------------------+\n",
      "|    IDs|      Date|         user|                text|Hashtags|       Mentions|             pp_text|\n",
      "+-------+----------+-------------+--------------------+--------+---------------+--------------------+\n",
      "|1373465|2009-06-06|tweeteradder1|@feiyie Get 100 f...|    null|         feiyie|get 100 follower ...|\n",
      "|1373478|2009-06-06|tweeteradder1|@karl09 Get 100 f...|    null|         karl09|get 100 follower ...|\n",
      "|1373484|2009-06-06|tweeteradder1|@bflint Get 100 f...|    null|         bflint|get 100 follower ...|\n",
      "|1373491|2009-06-06|tweeteradder1|@natallon Get 100...|    null|       natallon|get 100 follower ...|\n",
      "|1373501|2009-06-06|tweeteradder1|@blakmanpromo Get...|    null|   blakmanpromo|get 100 follower ...|\n",
      "|1373516|2009-06-06|tweeteradder1|@savefueluk Get 1...|    null|     savefueluk|get 100 follower ...|\n",
      "|1373517|2009-06-06|tweeteradder1|@mschantel_426 Ge...|    null|  mschantel_426|get 100 follower ...|\n",
      "|1373527|2009-06-06|tweeteradder1|@flyboyjay22 Get ...|    null|    flyboyjay22|get 100 follower ...|\n",
      "|1373543|2009-06-06|tweeteradder1|@due2profit Get 1...|    null|     due2profit|get 100 follower ...|\n",
      "|1373555|2009-06-06|tweeteradder1|@abi_tothemoon Ge...|    null|  abi_tothemoon|get 100 follower ...|\n",
      "|1373562|2009-06-06|tweeteradder1|@edailyquotation ...|    null|edailyquotation|get 100 follower ...|\n",
      "|1373577|2009-06-06|tweeteradder1|@klaire6419 Get 1...|    null|     klaire6419|get 100 follower ...|\n",
      "|1373586|2009-06-06|tweeteradder1|@brody9586 Get 10...|    null|      brody9586|get 100 follower ...|\n",
      "|1373597|2009-06-06|tweeteradder1|@dthang1 Get 100 ...|    null|        dthang1|get 100 follower ...|\n",
      "|1373600|2009-06-06|tweeteradder1|@hotsoccernews Ge...|    null|  hotsoccernews|get 100 follower ...|\n",
      "|1373606|2009-06-06|tweeteradder1|@pablocapeccine G...|    null| pablocapeccine|get 100 follower ...|\n",
      "|1373611|2009-06-06|tweeteradder1|@donjamokie Get 1...|    null|     donjamokie|get 100 follower ...|\n",
      "|1373621|2009-06-06|tweeteradder1|@jenniferxxxx Get...|    null|   jenniferxxxx|get 100 follower ...|\n",
      "|1373637|2009-06-06|tweeteradder1|@iwonder707 Get 1...|    null|     iwonder707|get 100 follower ...|\n",
      "|1373640|2009-06-06|tweeteradder1|@mzgoodbar09 Get ...|    null|    mzgoodbar09|get 100 follower ...|\n",
      "+-------+----------+-------------+--------------------+--------+---------------+--------------------+\n",
      "only showing top 20 rows\n",
      "\n"
     ]
    },
    {
     "name": "stderr",
     "output_type": "stream",
     "text": [
      "\r",
      "                                                                                \r"
     ]
    }
   ],
   "source": [
    "# Specific tweet text used to identify spam\n",
    "specific_tweet = 'get 100 follower day using add everyone train pay vip'\n",
    "\n",
    "# Filter the DataFrame for rows matching the specific spam tweet text\n",
    "filtered_df = df.filter(col(\"pp_text\") == specific_tweet)\n",
    "\n",
    "# Extract unique usernames associated with the spam tweet\n",
    "unique_usernames = filtered_df.select(\"user\").distinct().rdd.flatMap(lambda x: x).collect()\n",
    "\n",
    "# Filter the main DataFrame for rows containing usernames identified as spam\n",
    "spam_df = df.filter(col(\"user\").isin(unique_usernames))\n",
    "\n",
    "# Display the spam tweets\n",
    "spam_df.show()"
   ]
  },
  {
   "cell_type": "markdown",
   "id": "282fab81",
   "metadata": {},
   "source": [
    "### Removing Spam Tweets to Enhance Data Quality\n",
    "\n",
    "- **Strategy for Identifying Spam:**\n",
    "  - Spam tweets are identified using a specific repetitive text pattern, leading to the extraction of unique usernames associated with this pattern.\n",
    "\n",
    "- **Impact on Dataset:**\n",
    "  - The removal of these spam tweets is a crucial step in refining the dataset. While the removal may not significantly alter the overall results due to the dataset's size, it aids in reducing potential biases and improves the reliability of sentiment analysis.\n"
   ]
  },
  {
   "cell_type": "code",
   "execution_count": 30,
   "id": "2fa8f4a5",
   "metadata": {},
   "outputs": [],
   "source": [
    "# Specific text identified as spam\n",
    "specific_text = \"get 100 follower day using add everyone train pay vip\"\n",
    "\n",
    "# Filter the DataFrame to exclude rows with the specific spam text\n",
    "df = df.filter(df[\"pp_text\"] != specific_text)"
   ]
  },
  {
   "cell_type": "markdown",
   "id": "426d2e6b",
   "metadata": {},
   "source": [
    "### Implementing Sentiment Analysis\n",
    "\n",
    "Sentiment analysis is employed to evaluate the emotional tone conveyed in tweets. It will provide insights into the general sentiment expressed by users, categorizing it as positive, neutral, or negative based on the content of each tweet.\n",
    "\n",
    "- **Sentiment Score Calculation:**\n",
    "  - A custom function is used to analyze the sentiment of each tweet, assigning a polarity score that quantifies the emotional tone.\n",
    "\n",
    "- **Categorization of Sentiment:**\n",
    "  - Based on the sentiment score, tweets are classified into 'positive', 'neutral', or 'negative' categories, offering a clear view of the overall sentiment distribution."
   ]
  },
  {
   "cell_type": "code",
   "execution_count": 31,
   "id": "ba42c5ac",
   "metadata": {},
   "outputs": [
    {
     "name": "stderr",
     "output_type": "stream",
     "text": [
      "\r",
      "[Stage 75:>                                                         (0 + 1) / 1]\r"
     ]
    },
    {
     "name": "stdout",
     "output_type": "stream",
     "text": [
      "+---+----------+---------------+--------------------+--------+---------------+--------------------+---------------+------------------+\n",
      "|IDs|      Date|           user|                text|Hashtags|       Mentions|             pp_text|sentiment_score|sentiment_category|\n",
      "+---+----------+---------------+--------------------+--------+---------------+--------------------+---------------+------------------+\n",
      "|  1|2009-04-07|_TheSpecialOne_|@switchfoot http:...|    null|     switchfoot|thats bummer shou...|            0.0|           neutral|\n",
      "|  2|2009-04-07|  scotthamilton|is upset that he ...|    null|           null|upset cant update...|            0.0|           neutral|\n",
      "|  3|2009-04-07|       mattycus|@Kenichan I dived...|    null|       Kenichan|dived many time b...|            0.5|          positive|\n",
      "|  4|2009-04-07|        ElleCTF|my whole body fee...|    null|           null|whole body feel i...|            0.2|          positive|\n",
      "|  5|2009-04-07|         Karoli|@nationwideclass ...|    null|nationwideclass|behaving mad cant...|         -0.625|          negative|\n",
      "|  6|2009-04-07|       joy_wolf|@Kwesidei not the...|    null|       Kwesidei|          whole crew|            0.2|          positive|\n",
      "|  7|2009-04-07|        mybirch|         Need a hug |    null|           null|            need hug|            0.0|           neutral|\n",
      "|  8|2009-04-07|           coZZ|@LOLTrish hey  lo...|    null|       LOLTrish|hey long time see...|     0.34166667|          positive|\n",
      "|  9|2009-04-07|2Hood4Hollywood|@Tatiana_K nope t...|    null|      Tatiana_K|          nope didnt|            0.0|           neutral|\n",
      "| 10|2009-04-07|        mimismo|@twittera que me ...|    null|       twittera|           que muera|            0.0|           neutral|\n",
      "| 11|2009-04-07| erinx3leannexo|spring break in p...|    null|           null|spring break plai...|    -0.21428572|          negative|\n",
      "| 12|2009-04-07|   pardonlauren|I just re-pierced...|    null|           null|       repierced ear|            0.0|           neutral|\n",
      "| 13|2009-04-07|           TLeC|@caregiving I cou...|    null|     caregiving|couldnt bear watc...|            0.0|           neutral|\n",
      "| 14|2009-04-07|robrobbierobert|@octolinz16 It it...|    null|     octolinz16|count idk either ...|            0.0|           neutral|\n",
      "| 15|2009-04-07|    bayofwolves|@smarrison i woul...|    null|      smarrison|wouldve first did...|          0.225|          positive|\n",
      "| 16|2009-04-07|     HairByJess|@iamjazzyfizzle I...|    null| iamjazzyfizzle|wish got watch mi...|            0.0|           neutral|\n",
      "| 17|2009-04-07| lovesongwriter|Hollis' death sce...|    null|           null|hollis death scen...|            0.0|           neutral|\n",
      "| 18|2009-04-07|       armotley|about to file taxes |    null|           null|            file tax|            0.0|           neutral|\n",
      "| 19|2009-04-07|     starkissed|@LettyA ahh ive a...|    null|         LettyA|ahh ive always wa...|            0.5|          positive|\n",
      "| 20|2009-04-07|      gi_gi_bee|@FakerPattyPattz ...|    null|FakerPattyPattz|dear drinking for...|            0.0|           neutral|\n",
      "+---+----------+---------------+--------------------+--------+---------------+--------------------+---------------+------------------+\n",
      "only showing top 20 rows\n",
      "\n"
     ]
    },
    {
     "name": "stderr",
     "output_type": "stream",
     "text": [
      "\r",
      "                                                                                \r"
     ]
    }
   ],
   "source": [
    "# Define UDFs for sentiment analysis\n",
    "def get_sentiment_score(text):\n",
    "    analysis = TextBlob(text)\n",
    "    return analysis.sentiment.polarity\n",
    "\n",
    "def get_sentiment_category(score):\n",
    "    if score > 0:\n",
    "        return 'positive'\n",
    "    elif score == 0:\n",
    "        return 'neutral'\n",
    "    else:\n",
    "        return 'negative'\n",
    "\n",
    "# Create UDFs for sentiment analysis\n",
    "sentiment_score_udf = udf(get_sentiment_score, FloatType())\n",
    "sentiment_category_udf = udf(get_sentiment_category, StringType())\n",
    "\n",
    "# Apply UDFs to create new columns for sentiment score and category\n",
    "df = df.withColumn(\"sentiment_score\", sentiment_score_udf(df[\"pp_text\"]))\n",
    "df = df.withColumn(\"sentiment_category\", sentiment_category_udf(df[\"sentiment_score\"]))\n",
    "\n",
    "# Display the DataFrame with the new sentiment analysis columns\n",
    "df.show()"
   ]
  },
  {
   "cell_type": "code",
   "execution_count": 41,
   "id": "c2dbacd7",
   "metadata": {},
   "outputs": [
    {
     "name": "stderr",
     "output_type": "stream",
     "text": [
      "\r",
      "[Stage 85:>                                                         (0 + 1) / 1]\r"
     ]
    },
    {
     "name": "stdout",
     "output_type": "stream",
     "text": [
      "+---+----------+---------------+------------------+\n",
      "|Ids|      Date|sentiment_score|sentiment_category|\n",
      "+---+----------+---------------+------------------+\n",
      "|  1|2009-04-07|            0.0|           neutral|\n",
      "|  2|2009-04-07|            0.0|           neutral|\n",
      "|  3|2009-04-07|            0.5|          positive|\n",
      "|  4|2009-04-07|            0.2|          positive|\n",
      "|  5|2009-04-07|         -0.625|          negative|\n",
      "|  6|2009-04-07|            0.2|          positive|\n",
      "|  7|2009-04-07|            0.0|           neutral|\n",
      "|  8|2009-04-07|     0.34166667|          positive|\n",
      "|  9|2009-04-07|            0.0|           neutral|\n",
      "| 10|2009-04-07|            0.0|           neutral|\n",
      "| 11|2009-04-07|    -0.21428572|          negative|\n",
      "| 12|2009-04-07|            0.0|           neutral|\n",
      "| 13|2009-04-07|            0.0|           neutral|\n",
      "| 14|2009-04-07|            0.0|           neutral|\n",
      "| 15|2009-04-07|          0.225|          positive|\n",
      "| 16|2009-04-07|            0.0|           neutral|\n",
      "| 17|2009-04-07|            0.0|           neutral|\n",
      "| 18|2009-04-07|            0.0|           neutral|\n",
      "| 19|2009-04-07|            0.5|          positive|\n",
      "| 20|2009-04-07|            0.0|           neutral|\n",
      "+---+----------+---------------+------------------+\n",
      "only showing top 20 rows\n",
      "\n"
     ]
    },
    {
     "name": "stderr",
     "output_type": "stream",
     "text": [
      "\r",
      "                                                                                \r"
     ]
    }
   ],
   "source": [
    "# Select desired columns for the new DataFrame\n",
    "selected_columns = [\"Ids\", \"Date\", \"sentiment_score\", \"sentiment_category\"]\n",
    "df2 = df.select(*selected_columns)\n",
    "\n",
    "# Display the new DataFrame\n",
    "df2.show()"
   ]
  },
  {
   "cell_type": "code",
   "execution_count": 42,
   "id": "db1e3f5d",
   "metadata": {},
   "outputs": [
    {
     "name": "stderr",
     "output_type": "stream",
     "text": [
      "\r",
      "[Stage 86:>                                                         (0 + 1) / 1]\r"
     ]
    },
    {
     "name": "stdout",
     "output_type": "stream",
     "text": [
      "Dataset Size: 1588124\n"
     ]
    },
    {
     "name": "stderr",
     "output_type": "stream",
     "text": [
      "\r",
      "                                                                                \r"
     ]
    }
   ],
   "source": [
    "# Count the number of rows in the processed dataset\n",
    "dataset_size = df2.count()\n",
    "print(\"Dataset Size:\", dataset_size)"
   ]
  },
  {
   "cell_type": "code",
   "execution_count": 40,
   "id": "38292b77",
   "metadata": {},
   "outputs": [
    {
     "name": "stderr",
     "output_type": "stream",
     "text": [
      "                                                                                \r"
     ]
    }
   ],
   "source": [
    "# Write the DataFrame to a new MySQL table\n",
    "df2.write.jdbc(url=database_url, table=\"tweets_sentiment\", mode=\"overwrite\", properties=properties)"
   ]
  },
  {
   "cell_type": "code",
   "execution_count": 43,
   "id": "a08f8a2e",
   "metadata": {},
   "outputs": [],
   "source": [
    "# Stop the Spark session\n",
    "spark.stop()"
   ]
  },
  {
   "cell_type": "code",
   "execution_count": null,
   "id": "70117b6d",
   "metadata": {},
   "outputs": [],
   "source": []
  }
 ],
 "metadata": {
  "kernelspec": {
   "display_name": "Python 3 (ipykernel)",
   "language": "python",
   "name": "python3"
  },
  "language_info": {
   "codemirror_mode": {
    "name": "ipython",
    "version": 3
   },
   "file_extension": ".py",
   "mimetype": "text/x-python",
   "name": "python",
   "nbconvert_exporter": "python",
   "pygments_lexer": "ipython3",
   "version": "3.9.12"
  }
 },
 "nbformat": 4,
 "nbformat_minor": 5
}
