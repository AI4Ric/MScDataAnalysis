{
 "cells": [
  {
   "cell_type": "code",
   "execution_count": 8,
   "id": "6bede0c2",
   "metadata": {},
   "outputs": [],
   "source": [
    "import numpy as np\n",
    "import pandas as pd\n",
    "import tflite_runtime.interpreter as tflite\n",
    "from sklearn.metrics import confusion_matrix\n",
    "import matplotlib.pyplot as plt\n",
    "import seaborn as sns"
   ]
  },
  {
   "cell_type": "code",
   "execution_count": 2,
   "id": "66159bce",
   "metadata": {},
   "outputs": [],
   "source": [
    "# 1. Load the .csv dataset\n",
    "dataset = pd.read_csv(\"EncodedStreamingDataset.csv\")"
   ]
  },
  {
   "cell_type": "code",
   "execution_count": 3,
   "id": "d51a6afe",
   "metadata": {},
   "outputs": [],
   "source": [
    "# 2. Extract features and labels\n",
    "X = dataset.drop(columns=[\"attack\"]).values\n",
    "y_true = dataset[\"attack\"].values"
   ]
  },
  {
   "cell_type": "code",
   "execution_count": 4,
   "id": "f9b5b0b2",
   "metadata": {},
   "outputs": [
    {
     "name": "stderr",
     "output_type": "stream",
     "text": [
      "INFO: Created TensorFlow Lite XNNPACK delegate for CPU.\n"
     ]
    }
   ],
   "source": [
    "# 3. Load the .tflite model\n",
    "interpreter = tflite.Interpreter(model_path=\"OptimizedNeuralNetwork.tflite\")\n",
    "interpreter.allocate_tensors()\n",
    "\n",
    "input_details = interpreter.get_input_details()\n",
    "output_details = interpreter.get_output_details()"
   ]
  },
  {
   "cell_type": "code",
   "execution_count": 5,
   "id": "74ba273c",
   "metadata": {},
   "outputs": [],
   "source": [
    "# 4. Perform inference using the model\n",
    "y_pred = []\n",
    "for sample in X:\n",
    "    # Reshape the sample to fit the input tensor\n",
    "    sample = np.expand_dims(sample, axis=0).astype(input_details[0]['dtype'])\n",
    "    \n",
    "    interpreter.set_tensor(input_details[0]['index'], sample)\n",
    "    interpreter.invoke()\n",
    "    output_data = interpreter.get_tensor(output_details[0]['index'])[0]\n",
    "    \n",
    "    # Assuming your model returns a binary classification probability, \n",
    "    # we threshold at 0.5 to get a 0 or 1 label.\n",
    "    predicted_label = 1 if output_data[0] >= 0.5 else 0\n",
    "    y_pred.append(predicted_label)"
   ]
  },
  {
   "cell_type": "code",
   "execution_count": 6,
   "id": "06e3dc61",
   "metadata": {},
   "outputs": [
    {
     "name": "stdout",
     "output_type": "stream",
     "text": [
      "Accuracy: 98.90%\n"
     ]
    }
   ],
   "source": [
    "# 5. Calculate the accuracy\n",
    "accuracy = np.mean(np.array(y_pred) == y_true)\n",
    "print(f\"Accuracy: {accuracy * 100:.2f}%\")"
   ]
  },
  {
   "cell_type": "code",
   "execution_count": 9,
   "id": "6a985917",
   "metadata": {},
   "outputs": [
    {
     "data": {
      "image/png": "[encoded data removed]",
      "text/plain": [
       "<Figure size 576x432 with 2 Axes>"
      ]
     },
     "metadata": {
      "needs_background": "light"
     },
     "output_type": "display_data"
    }
   ],
   "source": [
    "# Compute the confusion matrix\n",
    "cm = confusion_matrix(y_true, y_pred)\n",
    "\n",
    "# Plotting the confusion matrix using Seaborn's heatmap\n",
    "plt.figure(figsize=(8,6))\n",
    "sns.heatmap(cm, annot=True, fmt='g', cmap='Blues', \n",
    "            xticklabels=['Predicted 0', 'Predicted 1'], \n",
    "            yticklabels=['Actual 0', 'Actual 1'])\n",
    "plt.ylabel('True label')\n",
    "plt.xlabel('Predicted label')\n",
    "plt.title('Confusion Matrix')\n",
    "plt.show()"
   ]
  },
  {
   "cell_type": "code",
   "execution_count": null,
   "id": "71dc1c2c",
   "metadata": {},
   "outputs": [],
   "source": []
  }
 ],
 "metadata": {
  "kernelspec": {
   "display_name": "Python 3 (ipykernel)",
   "language": "python",
   "name": "python3"
  },
  "language_info": {
   "codemirror_mode": {
    "name": "ipython",
    "version": 3
   },
   "file_extension": ".py",
   "mimetype": "text/x-python",
   "name": "python",
   "nbconvert_exporter": "python",
   "pygments_lexer": "ipython3",
   "version": "3.10.12"
  }
 },
 "nbformat": 4,
 "nbformat_minor": 5
}
